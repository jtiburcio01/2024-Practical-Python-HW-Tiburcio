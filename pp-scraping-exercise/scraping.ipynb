{
 "cells": [
  {
   "cell_type": "markdown",
   "id": "9dba1e96-dd65-4dcd-b2c1-d8165542715a",
   "metadata": {},
   "source": [
    "I'm scraping 2023-2024 CUNY undergraduate demographic data from the New York State Education Department's website: https://data.nysed.gov/lists.php?start=67&type=higher"
   ]
  },
  {
   "cell_type": "code",
   "execution_count": 1,
   "id": "9b893f9b-ffce-4302-8896-b0fd4b8c4ed1",
   "metadata": {},
   "outputs": [],
   "source": [
    "## import libraries\n",
    "import pandas as pd\n",
    "from random import randrange\n",
    "from bs4 import BeautifulSoup\n",
    "import time\n",
    "import requests"
   ]
  },
  {
   "cell_type": "code",
   "execution_count": 5,
   "id": "e4b08a03-da3e-4c1e-a8c3-a0be7af91000",
   "metadata": {},
   "outputs": [],
   "source": [
    "#url to scrape\n",
    "url = \"https://data.nysed.gov/lists.php?start=67&type=higher\"\n",
    "## need to soup\n",
    "response = requests.get(url)\n",
    "soup = BeautifulSoup(response.text, \"html.parser\")"
   ]
  },
  {
   "cell_type": "code",
   "execution_count": 7,
   "id": "7c875a6c-37e1-40a7-8b73-c8fa12089654",
   "metadata": {},
   "outputs": [
    {
     "data": {
      "text/plain": [
       "[<div class=\"title\"><a href=\"profile.php?instid=800000052570\">CANISIUS UNIVERSITY OF BUFFALO, NY </a></div>,\n",
       " <div class=\"title\">HIGHER EDUCATION</div>,\n",
       " <div class=\"title\">HIGHER EDUCATION</div>,\n",
       " <div class=\"title\"><a href=\"profile.php?instid=800000042817\">CATHOLIC MED CTR BROOK/QUEENS SCH NR </a></div>,\n",
       " <div class=\"title\"><a href=\"profile.php?instid=800000065326\">CAYUGA COMM COLLEGE - FULTON CENTER </a></div>,\n",
       " <div class=\"title\">HIGHER EDUCATION</div>,\n",
       " <div class=\"title\">HIGHER EDUCATION</div>,\n",
       " <div class=\"title\"><a href=\"profile.php?instid=800000054552\">CAYUGA COUNTY COMM COLLEGE </a></div>,\n",
       " <div class=\"title\">HIGHER EDUCATION</div>,\n",
       " <div class=\"title\">HIGHER EDUCATION</div>,\n",
       " <div class=\"title\"><a href=\"profile.php?instid=800000050956\">CAZENOVIA COLLEGE </a></div>,\n",
       " <div class=\"title\">HIGHER EDUCATION</div>,\n",
       " <div class=\"title\"><a href=\"profile.php?instid=800000040731\">CENTRAL CITY BUSINESS INSTITUTE 665 </a></div>,\n",
       " <div class=\"title\"><a href=\"profile.php?instid=800000052979\">CHRIST THE KING SEMINARY </a></div>,\n",
       " <div class=\"title\"><a href=\"profile.php?instid=800000065214\">CHRISTIE'S EDUCATION, INC </a></div>,\n",
       " <div class=\"title\"><a href=\"profile.php?instid=800000090092\">CITY SEMINARY OF NY GRADUATE CTR. </a></div>,\n",
       " <div class=\"title\">HIGHER EDUCATION</div>,\n",
       " <div class=\"title\">HIGHER EDUCATION</div>,\n",
       " <div class=\"title\"><a href=\"profile.php?instid=800000038743\">CLARKSON UNIVERSITY </a></div>,\n",
       " <div class=\"title\">HIGHER EDUCATION</div>,\n",
       " <div class=\"title\">HIGHER EDUCATION</div>,\n",
       " <div class=\"title\"><a href=\"profile.php?instid=800000087726\">CLARKSON UNIVERSITY CAPITAL REGION </a></div>,\n",
       " <div class=\"title\">HIGHER EDUCATION</div>,\n",
       " <div class=\"title\">HIGHER EDUCATION</div>,\n",
       " <div class=\"title\"><a href=\"profile.php?instid=800000053812\">CLINTON COMMUNITY COLLEGE </a></div>,\n",
       " <div class=\"title\">HIGHER EDUCATION</div>,\n",
       " <div class=\"title\">HIGHER EDUCATION</div>,\n",
       " <div class=\"title\"><a href=\"profile.php?instid=800000034614\">COCHRAN SCH NURSING ST JOHN RVRDL HO </a></div>,\n",
       " <div class=\"title\">HIGHER EDUCATION</div>,\n",
       " <div class=\"title\">HIGHER EDUCATION</div>,\n",
       " <div class=\"title\"><a href=\"profile.php?instid=800000068498\">COLD SPRING HARBOR LABORATORY </a></div>,\n",
       " <div class=\"title\">HIGHER EDUCATION</div>,\n",
       " <div class=\"title\">HIGHER EDUCATION</div>,\n",
       " <div class=\"title\"><a href=\"profile.php?instid=800000050944\">COLGATE UNIVERSITY </a></div>,\n",
       " <div class=\"title\">HIGHER EDUCATION</div>,\n",
       " <div class=\"title\">HIGHER EDUCATION</div>,\n",
       " <div class=\"title\"><a href=\"profile.php?instid=800000050301\">COLGATE-ROCHESTER DIVINITY  SCHOOL </a></div>,\n",
       " <div class=\"title\">HIGHER EDUCATION</div>,\n",
       " <div class=\"title\">HIGHER EDUCATION</div>,\n",
       " <div class=\"title\"><a href=\"profile.php?instid=800000047853\">COLL NEW ROCHELLE DIST COUN 31 CMPS </a></div>,\n",
       " <div class=\"title\"><a href=\"profile.php?instid=800000047063\">COLL NEW ROCHELLE ROSA PARKS CAMPUS </a></div>,\n",
       " <div class=\"title\"><a href=\"profile.php?instid=800000047854\">COLL OF NEW ROCHELLE AT NY THEO SEMI </a></div>,\n",
       " <div class=\"title\"><a href=\"profile.php?instid=800000045434\">COLL OF NEW ROCHELLE BROOKLYN CAMPUS </a></div>,\n",
       " <div class=\"title\"><a href=\"profile.php?instid=800000047855\">COLLEGE OF INSURANCE </a></div>,\n",
       " <div class=\"title\"><a href=\"profile.php?instid=800000035120\">COLLEGE OF NEW ROCHELLE </a></div>,\n",
       " <div class=\"title\"><a href=\"profile.php?instid=800000066351\">COLLEGE OF NEW ROCHELLE - COUNCIL 37 </a></div>,\n",
       " <div class=\"title\"><a href=\"profile.php?instid=800000090404\">COLLEGE OF NEW ROCHELLE - ROSA PARKS </a></div>,\n",
       " <div class=\"title\"><a href=\"profile.php?instid=800000045844\">COLLEGE OF NEW ROCHELLE CO-OP CITY </a></div>,\n",
       " <div class=\"title\"><a href=\"profile.php?instid=800000046589\">COLLEGE OF NEW ROCHELLE JOHN CARDIN  </a></div>,\n",
       " <div class=\"title\"><a href=\"profile.php?instid=800000055585\">COLLEGE OF SAINT ROSE </a></div>,\n",
       " <div class=\"title\">HIGHER EDUCATION</div>,\n",
       " <div class=\"title\">HIGHER EDUCATION</div>,\n",
       " <div class=\"title\"><a href=\"profile.php?instid=800000047082\">COLUMBIA UNIVERSITY </a></div>,\n",
       " <div class=\"title\">HIGHER EDUCATION</div>,\n",
       " <div class=\"title\">HIGHER EDUCATION</div>,\n",
       " <div class=\"title\"><a href=\"profile.php?instid=800000053700\">COLUMBIA-GREENE COMMUNITY COLLEGE </a></div>,\n",
       " <div class=\"title\">HIGHER EDUCATION</div>,\n",
       " <div class=\"title\">HIGHER EDUCATION</div>,\n",
       " <div class=\"title\"><a href=\"profile.php?instid=800000035634\">CONCORDIA COLLEGE </a></div>,\n",
       " <div class=\"title\"><a href=\"profile.php?instid=800000034375\">CONNECTICUT COLLEGE </a></div>,\n",
       " <div class=\"title\"><a href=\"profile.php?instid=800000047356\">COOPER UNION </a></div>,\n",
       " <div class=\"title\">HIGHER EDUCATION</div>,\n",
       " <div class=\"title\">HIGHER EDUCATION</div>,\n",
       " <div class=\"title\"><a href=\"profile.php?instid=800000036378\">CORNELL UN INST RES DEV </a></div>,\n",
       " <div class=\"title\"><a href=\"profile.php?instid=800000047866\">CORNELL UNIV MEDICAL CAMPUS </a></div>,\n",
       " <div class=\"title\">HIGHER EDUCATION</div>,\n",
       " <div class=\"title\">HIGHER EDUCATION</div>,\n",
       " <div class=\"title\"><a href=\"profile.php?instid=800000036397\">CORNELL UNIVERSITY </a></div>,\n",
       " <div class=\"title\">HIGHER EDUCATION</div>,\n",
       " <div class=\"title\">HIGHER EDUCATION</div>,\n",
       " <div class=\"title\"><a href=\"profile.php?instid=800000084405\">CORNELL UNIVERSITY-CORNELNYC TECH  </a></div>,\n",
       " <div class=\"title\">HIGHER EDUCATION</div>,\n",
       " <div class=\"title\">HIGHER EDUCATION</div>,\n",
       " <div class=\"title\"><a href=\"profile.php?instid=800000037963\">CORNING COMM COLLEGE </a></div>,\n",
       " <div class=\"title\">HIGHER EDUCATION</div>,\n",
       " <div class=\"title\">HIGHER EDUCATION</div>,\n",
       " <div class=\"title\"><a href=\"profile.php?instid=800000040675\">CROUSE HOSPITAL COLLEGE OF NURSING </a></div>,\n",
       " <div class=\"title\">HIGHER EDUCATION</div>,\n",
       " <div class=\"title\">HIGHER EDUCATION</div>,\n",
       " <div class=\"title\"><a href=\"profile.php?instid=800000053384\">CULINARY INSTITUTE OF AMERICA 697 </a></div>,\n",
       " <div class=\"title\">HIGHER EDUCATION</div>,\n",
       " <div class=\"title\">HIGHER EDUCATION</div>,\n",
       " <div class=\"title\"><a href=\"profile.php?instid=800000047621\">CUNY BERNARD M. BARUCH COLLEGE </a></div>,\n",
       " <div class=\"title\">HIGHER EDUCATION</div>,\n",
       " <div class=\"title\">HIGHER EDUCATION</div>,\n",
       " <div class=\"title\"><a href=\"profile.php?instid=800000043781\">CUNY BROOKLYN COLLEGE </a></div>,\n",
       " <div class=\"title\">HIGHER EDUCATION</div>,\n",
       " <div class=\"title\">HIGHER EDUCATION</div>,\n",
       " <div class=\"title\"><a href=\"profile.php?instid=800000047619\">CUNY CENTRAL ADMINISTRATION </a></div>,\n",
       " <div class=\"title\"><a href=\"profile.php?instid=800000047047\">CUNY CITY COLLEGE </a></div>,\n",
       " <div class=\"title\">HIGHER EDUCATION</div>,\n",
       " <div class=\"title\">HIGHER EDUCATION</div>,\n",
       " <div class=\"title\"><a href=\"profile.php?instid=800000041831\">CUNY COLLEGE OF STATEN ISLAND </a></div>,\n",
       " <div class=\"title\">HIGHER EDUCATION</div>,\n",
       " <div class=\"title\">HIGHER EDUCATION</div>,\n",
       " <div class=\"title\"><a href=\"profile.php?instid=800000047620\">CUNY GRADUATE SCHOOL </a></div>,\n",
       " <div class=\"title\">HIGHER EDUCATION</div>,\n",
       " <div class=\"title\">HIGHER EDUCATION</div>,\n",
       " <div class=\"title\"><a href=\"profile.php?instid=800000047622\">CUNY HUNTER COLLEGE </a></div>,\n",
       " <div class=\"title\">HIGHER EDUCATION</div>,\n",
       " <div class=\"title\">HIGHER EDUCATION</div>,\n",
       " <div class=\"title\"><a href=\"profile.php?instid=800000047317\">CUNY JOHN JAY COL CRIM JUSTICE </a></div>,\n",
       " <div class=\"title\">HIGHER EDUCATION</div>,\n",
       " <div class=\"title\">HIGHER EDUCATION</div>,\n",
       " <div class=\"title\"><a href=\"profile.php?instid=800000043091\">CUNY LAW SCHOOL AT QUEENS  </a></div>,\n",
       " <div class=\"title\">HIGHER EDUCATION</div>,\n",
       " <div class=\"title\">HIGHER EDUCATION</div>,\n",
       " <div class=\"title\"><a href=\"profile.php?instid=800000046077\">CUNY LEHMAN COLLEGE </a></div>,\n",
       " <div class=\"title\">HIGHER EDUCATION</div>,\n",
       " <div class=\"title\">HIGHER EDUCATION</div>,\n",
       " <div class=\"title\"><a href=\"profile.php?instid=800000045393\">CUNY NYC COLLEGE OF TECHNOLOGY </a></div>,\n",
       " <div class=\"title\">HIGHER EDUCATION</div>,\n",
       " <div class=\"title\">HIGHER EDUCATION</div>,\n",
       " <div class=\"title\"><a href=\"profile.php?instid=800000043093\">CUNY QUEENS COLLEGE </a></div>,\n",
       " <div class=\"title\">HIGHER EDUCATION</div>,\n",
       " <div class=\"title\">HIGHER EDUCATION</div>,\n",
       " <div class=\"title\"><a href=\"profile.php?instid=800000089728\">CUNY SCHOOL OF PROFESSIONAL STUDIES </a></div>,\n",
       " <div class=\"title\"><a href=\"profile.php?instid=800000073513\">CUNY STELLA AND CHARLES GUTTMAN COMM </a></div>,\n",
       " <div class=\"title\">HIGHER EDUCATION</div>,\n",
       " <div class=\"title\">HIGHER EDUCATION</div>,\n",
       " <div class=\"title\"><a href=\"profile.php?instid=800000042570\">CUNY YORK COLLEGE </a></div>,\n",
       " <div class=\"title\">HIGHER EDUCATION</div>,\n",
       " <div class=\"title\">HIGHER EDUCATION</div>]"
      ]
     },
     "execution_count": 7,
     "metadata": {},
     "output_type": "execute_result"
    }
   ],
   "source": [
    "## target each university on the page\n",
    "uni_list = soup.find_all(\"div\", class_=\"title\")\n",
    "uni_list"
   ]
  },
  {
   "cell_type": "code",
   "execution_count": 9,
   "id": "228eac4b-81e9-4129-8b29-91f691afb982",
   "metadata": {},
   "outputs": [
    {
     "data": {
      "text/plain": [
       "[<a href=\"profile.php?instid=800000047621\">CUNY BERNARD M. BARUCH COLLEGE </a>,\n",
       " <a href=\"profile.php?instid=800000043781\">CUNY BROOKLYN COLLEGE </a>,\n",
       " <a href=\"profile.php?instid=800000047619\">CUNY CENTRAL ADMINISTRATION </a>,\n",
       " <a href=\"profile.php?instid=800000047047\">CUNY CITY COLLEGE </a>,\n",
       " <a href=\"profile.php?instid=800000041831\">CUNY COLLEGE OF STATEN ISLAND </a>,\n",
       " <a href=\"profile.php?instid=800000047620\">CUNY GRADUATE SCHOOL </a>,\n",
       " <a href=\"profile.php?instid=800000047622\">CUNY HUNTER COLLEGE </a>,\n",
       " <a href=\"profile.php?instid=800000047317\">CUNY JOHN JAY COL CRIM JUSTICE </a>,\n",
       " <a href=\"profile.php?instid=800000043091\">CUNY LAW SCHOOL AT QUEENS  </a>,\n",
       " <a href=\"profile.php?instid=800000046077\">CUNY LEHMAN COLLEGE </a>,\n",
       " <a href=\"profile.php?instid=800000045393\">CUNY NYC COLLEGE OF TECHNOLOGY </a>,\n",
       " <a href=\"profile.php?instid=800000043093\">CUNY QUEENS COLLEGE </a>,\n",
       " <a href=\"profile.php?instid=800000089728\">CUNY SCHOOL OF PROFESSIONAL STUDIES </a>,\n",
       " <a href=\"profile.php?instid=800000073513\">CUNY STELLA AND CHARLES GUTTMAN COMM </a>,\n",
       " <a href=\"profile.php?instid=800000042570\">CUNY YORK COLLEGE </a>]"
      ]
     },
     "execution_count": 9,
     "metadata": {},
     "output_type": "execute_result"
    }
   ],
   "source": [
    "## extract all a tags in the list of divs\n",
    "atags = []\n",
    "for div_element in uni_list:\n",
    "    for atag in div_element.find_all(\"a\"):\n",
    "        atags.append(atag)\n",
    "## extract just the CUNYs\n",
    "cuny_atags = []\n",
    "for atag in atags:\n",
    "    if \"CUNY\" in atag.text:\n",
    "        cuny_atags.append(atag)\n",
    "cuny_atags"
   ]
  },
  {
   "cell_type": "code",
   "execution_count": 11,
   "id": "594b2c42-bbd1-4854-9646-33d7037c4c2b",
   "metadata": {},
   "outputs": [
    {
     "data": {
      "text/plain": [
       "['profile.php?instid=800000047621',\n",
       " 'profile.php?instid=800000043781',\n",
       " 'profile.php?instid=800000047619',\n",
       " 'profile.php?instid=800000047047',\n",
       " 'profile.php?instid=800000041831',\n",
       " 'profile.php?instid=800000047620',\n",
       " 'profile.php?instid=800000047622',\n",
       " 'profile.php?instid=800000047317',\n",
       " 'profile.php?instid=800000043091',\n",
       " 'profile.php?instid=800000046077',\n",
       " 'profile.php?instid=800000045393',\n",
       " 'profile.php?instid=800000043093',\n",
       " 'profile.php?instid=800000089728',\n",
       " 'profile.php?instid=800000073513',\n",
       " 'profile.php?instid=800000042570']"
      ]
     },
     "execution_count": 11,
     "metadata": {},
     "output_type": "execute_result"
    }
   ],
   "source": [
    "## extract the hrefs\n",
    "cuny_hrefs = []\n",
    "for atag2 in cuny_atags:\n",
    "    cuny_hrefs.append(atag2.get(\"href\"))\n",
    "    \n",
    "cuny_hrefs"
   ]
  },
  {
   "cell_type": "code",
   "execution_count": 13,
   "id": "5cbd44d9-04e3-44df-b787-f646ae4b3384",
   "metadata": {},
   "outputs": [
    {
     "data": {
      "text/plain": [
       "['800000047621',\n",
       " '800000043781',\n",
       " '800000047619',\n",
       " '800000047047',\n",
       " '800000041831',\n",
       " '800000047620',\n",
       " '800000047622',\n",
       " '800000047317',\n",
       " '800000043091',\n",
       " '800000046077',\n",
       " '800000045393',\n",
       " '800000043093',\n",
       " '800000089728',\n",
       " '800000073513',\n",
       " '800000042570']"
      ]
     },
     "execution_count": 13,
     "metadata": {},
     "output_type": "execute_result"
    }
   ],
   "source": [
    "## separate the institution id from the rest\n",
    "cuny_ids = [href.split('=')[1] for href in cuny_hrefs]\n",
    "cuny_ids"
   ]
  },
  {
   "cell_type": "code",
   "execution_count": 21,
   "id": "4ec19943-84d1-4350-9a8f-559b02e19c80",
   "metadata": {},
   "outputs": [],
   "source": [
    "#set up base parts of the url\n",
    "base_url = \"https://data.nysed.gov/highered-enrollment.php?year=\"\n",
    "year = [\"2022\",\n",
    "       \"2023\",\n",
    "       \"2024\"]\n",
    "end_url = \"&instid=\""
   ]
  },
  {
   "cell_type": "code",
   "execution_count": 23,
   "id": "ca5725b6-211f-4b31-b2f6-4041847e8c3d",
   "metadata": {},
   "outputs": [
    {
     "data": {
      "text/plain": [
       "[\"https://data.nysed.gov/highered-enrollment.php?year=['2022', '2023', '2024']&instid=['800000047621', '800000043781', '800000047619', '800000047047', '800000041831', '800000047620', '800000047622', '800000047317', '800000043091', '800000046077', '800000045393', '800000043093', '800000089728', '800000073513', '800000042570']\",\n",
       " \"https://data.nysed.gov/highered-enrollment.php?year=['2022', '2023', '2024']&instid=['800000047621', '800000043781', '800000047619', '800000047047', '800000041831', '800000047620', '800000047622', '800000047317', '800000043091', '800000046077', '800000045393', '800000043093', '800000089728', '800000073513', '800000042570']\",\n",
       " \"https://data.nysed.gov/highered-enrollment.php?year=['2022', '2023', '2024']&instid=['800000047621', '800000043781', '800000047619', '800000047047', '800000041831', '800000047620', '800000047622', '800000047317', '800000043091', '800000046077', '800000045393', '800000043093', '800000089728', '800000073513', '800000042570']\",\n",
       " \"https://data.nysed.gov/highered-enrollment.php?year=['2022', '2023', '2024']&instid=['800000047621', '800000043781', '800000047619', '800000047047', '800000041831', '800000047620', '800000047622', '800000047317', '800000043091', '800000046077', '800000045393', '800000043093', '800000089728', '800000073513', '800000042570']\",\n",
       " \"https://data.nysed.gov/highered-enrollment.php?year=['2022', '2023', '2024']&instid=['800000047621', '800000043781', '800000047619', '800000047047', '800000041831', '800000047620', '800000047622', '800000047317', '800000043091', '800000046077', '800000045393', '800000043093', '800000089728', '800000073513', '800000042570']\",\n",
       " \"https://data.nysed.gov/highered-enrollment.php?year=['2022', '2023', '2024']&instid=['800000047621', '800000043781', '800000047619', '800000047047', '800000041831', '800000047620', '800000047622', '800000047317', '800000043091', '800000046077', '800000045393', '800000043093', '800000089728', '800000073513', '800000042570']\",\n",
       " \"https://data.nysed.gov/highered-enrollment.php?year=['2022', '2023', '2024']&instid=['800000047621', '800000043781', '800000047619', '800000047047', '800000041831', '800000047620', '800000047622', '800000047317', '800000043091', '800000046077', '800000045393', '800000043093', '800000089728', '800000073513', '800000042570']\",\n",
       " \"https://data.nysed.gov/highered-enrollment.php?year=['2022', '2023', '2024']&instid=['800000047621', '800000043781', '800000047619', '800000047047', '800000041831', '800000047620', '800000047622', '800000047317', '800000043091', '800000046077', '800000045393', '800000043093', '800000089728', '800000073513', '800000042570']\",\n",
       " \"https://data.nysed.gov/highered-enrollment.php?year=['2022', '2023', '2024']&instid=['800000047621', '800000043781', '800000047619', '800000047047', '800000041831', '800000047620', '800000047622', '800000047317', '800000043091', '800000046077', '800000045393', '800000043093', '800000089728', '800000073513', '800000042570']\",\n",
       " \"https://data.nysed.gov/highered-enrollment.php?year=['2022', '2023', '2024']&instid=['800000047621', '800000043781', '800000047619', '800000047047', '800000041831', '800000047620', '800000047622', '800000047317', '800000043091', '800000046077', '800000045393', '800000043093', '800000089728', '800000073513', '800000042570']\",\n",
       " \"https://data.nysed.gov/highered-enrollment.php?year=['2022', '2023', '2024']&instid=['800000047621', '800000043781', '800000047619', '800000047047', '800000041831', '800000047620', '800000047622', '800000047317', '800000043091', '800000046077', '800000045393', '800000043093', '800000089728', '800000073513', '800000042570']\",\n",
       " \"https://data.nysed.gov/highered-enrollment.php?year=['2022', '2023', '2024']&instid=['800000047621', '800000043781', '800000047619', '800000047047', '800000041831', '800000047620', '800000047622', '800000047317', '800000043091', '800000046077', '800000045393', '800000043093', '800000089728', '800000073513', '800000042570']\",\n",
       " \"https://data.nysed.gov/highered-enrollment.php?year=['2022', '2023', '2024']&instid=['800000047621', '800000043781', '800000047619', '800000047047', '800000041831', '800000047620', '800000047622', '800000047317', '800000043091', '800000046077', '800000045393', '800000043093', '800000089728', '800000073513', '800000042570']\",\n",
       " \"https://data.nysed.gov/highered-enrollment.php?year=['2022', '2023', '2024']&instid=['800000047621', '800000043781', '800000047619', '800000047047', '800000041831', '800000047620', '800000047622', '800000047317', '800000043091', '800000046077', '800000045393', '800000043093', '800000089728', '800000073513', '800000042570']\",\n",
       " \"https://data.nysed.gov/highered-enrollment.php?year=['2022', '2023', '2024']&instid=['800000047621', '800000043781', '800000047619', '800000047047', '800000041831', '800000047620', '800000047622', '800000047317', '800000043091', '800000046077', '800000045393', '800000043093', '800000089728', '800000073513', '800000042570']\"]"
      ]
     },
     "execution_count": 23,
     "metadata": {},
     "output_type": "execute_result"
    }
   ],
   "source": [
    "links = [f\"{base_url}{year}{end_url}{cuny_ids}\" for cuny_id in cuny_ids]\n",
    "links"
   ]
  },
  {
   "cell_type": "code",
   "execution_count": null,
   "id": "431bff48-6903-4ccf-915e-9a4640b79051",
   "metadata": {},
   "outputs": [],
   "source": []
  }
 ],
 "metadata": {
  "kernelspec": {
   "display_name": "Python 3 (ipykernel)",
   "language": "python",
   "name": "python3"
  },
  "language_info": {
   "codemirror_mode": {
    "name": "ipython",
    "version": 3
   },
   "file_extension": ".py",
   "mimetype": "text/x-python",
   "name": "python",
   "nbconvert_exporter": "python",
   "pygments_lexer": "ipython3",
   "version": "3.11.8"
  }
 },
 "nbformat": 4,
 "nbformat_minor": 5
}
