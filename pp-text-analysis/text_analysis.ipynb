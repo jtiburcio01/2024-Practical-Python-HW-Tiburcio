{
 "cells": [
  {
   "cell_type": "markdown",
   "id": "15b94f4d-a53a-4b63-9c90-cc2be92a7711",
   "metadata": {},
   "source": [
    "- The goal of this text analysis is to identify the names of people involved in contracts between companies and universities.\n",
    "- I'm also looking for specific language used in each document that I can use in research.\n",
    "- I'm doing this by extracting text from PDFs and doing natural language processing with spaCy to idenitfy entities like names, people, organizations etc., and analyze the relationships between words in sentences."
   ]
  },
  {
   "cell_type": "markdown",
   "id": "630262ae-2233-47f3-8d6f-423f32803fab",
   "metadata": {},
   "source": [
    "## Part 1: Extracting text from PDFs"
   ]
  },
  {
   "cell_type": "markdown",
   "id": "595305ff-5274-493f-b948-414f650b4d51",
   "metadata": {},
   "source": [
    "refer to week 12"
   ]
  },
  {
   "cell_type": "code",
   "execution_count": 5,
   "id": "7923d68b-506a-4e30-9e99-288d5fdffbe7",
   "metadata": {},
   "outputs": [],
   "source": [
    "## import libraries necessary to extract text from PDFs\n",
    "import pandas as pd\n",
    "import glob\n",
    "from mangoCR import pdf2image_ocr_text"
   ]
  },
  {
   "cell_type": "code",
   "execution_count": 6,
   "id": "c0b428e7-180a-43f1-9ce9-bf3983b856e7",
   "metadata": {},
   "outputs": [],
   "source": [
    "## glob pdfs together\n",
    "DataKind_pdfs = glob.glob(\"DataKind/*.pdf\")\n",
    "StudentSelect_pdfs = glob.glob(\"StudentSelect/*.pdf\")"
   ]
  },
  {
   "cell_type": "code",
   "execution_count": 7,
   "id": "3bd370be-0f8a-483c-9f5b-f92a5301ccdb",
   "metadata": {},
   "outputs": [
    {
     "data": {
      "text/plain": [
       "['DataKind/Services_Agreement_-_Datakind_-_JJC_-_2022.02.15_AF_JD_Redacted.pdf',\n",
       " 'DataKind/DataKind_Inc-Consulting_Agreement_for_Professional_Services_Fully_Executed_Redacted.pdf',\n",
       " 'DataKind/DataKind_-_JJC_Mutual_NDA_Fully_Signed_Redacted.pdf',\n",
       " 'DataKind/DataKindAgreements_.pdf']"
      ]
     },
     "execution_count": 7,
     "metadata": {},
     "output_type": "execute_result"
    }
   ],
   "source": [
    "# check DataKind_pdfs\n",
    "DataKind_pdfs"
   ]
  },
  {
   "cell_type": "code",
   "execution_count": 8,
   "id": "2860b883-46de-4b5b-b96d-4da47263d96c",
   "metadata": {},
   "outputs": [
    {
     "data": {
      "text/plain": [
       "['StudentSelect/20230325777.pdf',\n",
       " 'StudentSelect/R008763_invoice.pdf',\n",
       " 'StudentSelect/R008763.pdf']"
      ]
     },
     "execution_count": 8,
     "metadata": {},
     "output_type": "execute_result"
    }
   ],
   "source": [
    "# check StudentSelect_pdfs\n",
    "StudentSelect_pdfs"
   ]
  },
  {
   "cell_type": "code",
   "execution_count": 9,
   "id": "69e7c653-0b66-4b75-ac32-5128d9e84aba",
   "metadata": {},
   "outputs": [
    {
     "name": "stdout",
     "output_type": "stream",
     "text": [
      "Processing PDF 1 of 1: DataKindAgreements_\n",
      "  - Processed page 1 of 47 in DataKindAgreements_\n",
      "  - Processed page 2 of 47 in DataKindAgreements_\n",
      "  - Processed page 3 of 47 in DataKindAgreements_\n",
      "  - Processed page 4 of 47 in DataKindAgreements_\n",
      "  - Processed page 5 of 47 in DataKindAgreements_\n",
      "  - Processed page 6 of 47 in DataKindAgreements_\n",
      "  - Processed page 7 of 47 in DataKindAgreements_\n",
      "  - Processed page 8 of 47 in DataKindAgreements_\n",
      "  - Processed page 9 of 47 in DataKindAgreements_\n",
      "  - Processed page 10 of 47 in DataKindAgreements_\n",
      "  - Processed page 11 of 47 in DataKindAgreements_\n",
      "  - Processed page 12 of 47 in DataKindAgreements_\n",
      "  - Processed page 13 of 47 in DataKindAgreements_\n",
      "  - Processed page 14 of 47 in DataKindAgreements_\n",
      "  - Processed page 15 of 47 in DataKindAgreements_\n",
      "  - Processed page 16 of 47 in DataKindAgreements_\n",
      "  - Processed page 17 of 47 in DataKindAgreements_\n",
      "  - Processed page 18 of 47 in DataKindAgreements_\n",
      "  - Processed page 19 of 47 in DataKindAgreements_\n",
      "  - Processed page 20 of 47 in DataKindAgreements_\n",
      "  - Processed page 21 of 47 in DataKindAgreements_\n",
      "  - Processed page 22 of 47 in DataKindAgreements_\n",
      "  - Processed page 23 of 47 in DataKindAgreements_\n",
      "  - Processed page 24 of 47 in DataKindAgreements_\n",
      "  - Processed page 25 of 47 in DataKindAgreements_\n",
      "  - Processed page 26 of 47 in DataKindAgreements_\n",
      "  - Processed page 27 of 47 in DataKindAgreements_\n",
      "  - Processed page 28 of 47 in DataKindAgreements_\n",
      "  - Processed page 29 of 47 in DataKindAgreements_\n",
      "  - Processed page 30 of 47 in DataKindAgreements_\n",
      "  - Processed page 31 of 47 in DataKindAgreements_\n",
      "  - Processed page 32 of 47 in DataKindAgreements_\n",
      "  - Processed page 33 of 47 in DataKindAgreements_\n",
      "  - Processed page 34 of 47 in DataKindAgreements_\n",
      "  - Processed page 35 of 47 in DataKindAgreements_\n",
      "  - Processed page 36 of 47 in DataKindAgreements_\n",
      "  - Processed page 37 of 47 in DataKindAgreements_\n",
      "  - Processed page 38 of 47 in DataKindAgreements_\n",
      "  - Processed page 39 of 47 in DataKindAgreements_\n",
      "  - Processed page 40 of 47 in DataKindAgreements_\n",
      "  - Processed page 41 of 47 in DataKindAgreements_\n",
      "  - Processed page 42 of 47 in DataKindAgreements_\n",
      "  - Processed page 43 of 47 in DataKindAgreements_\n",
      "  - Processed page 44 of 47 in DataKindAgreements_\n",
      "  - Processed page 45 of 47 in DataKindAgreements_\n",
      "  - Processed page 46 of 47 in DataKindAgreements_\n",
      "  - Processed page 47 of 47 in DataKindAgreements_\n",
      "Finished processing DataKindAgreements_\n",
      "\n",
      "All PDFs have been processed.\n"
     ]
    }
   ],
   "source": [
    "## convert pdfs to text\n",
    "text = pdf2image_ocr_text(DataKind_pdfs[-1])"
   ]
  },
  {
   "cell_type": "code",
   "execution_count": 18,
   "id": "8264b79b-61ea-4d9e-b2ed-725e7578718c",
   "metadata": {
    "collapsed": true,
    "jupyter": {
     "outputs_hidden": true
    }
   },
   "outputs": [
    {
     "data": {
      "text/plain": [
       "'## DataKindAgreements__page_1\\nThe City University of New York\\nData Transfer and Non-Disclosure Agreement\\n\\nThis Data Transfer and Non-Disclosure Agreement (the “Agreement”) is made as of May 17,\\n2017 (the “Effective Date”), by and between The City University of New York, baving an\\naddress at 205 E, 42nd Street, New York, NY 10017 (“CUNY”), and DataKind, having an\\naddress at 156 5\" Avenue, New York, NY 10010 (“Institution”) on behalf of its employee\\nJeanCarlo Bonilla (“Principal Investigator” and collectively with “Institution,” the “Recipient”)\\nfor Data that may be provided under the terms of this Agreement.\\n\\n1. Data.\\n\\n(a) The study data to be furnished by CUNY to Recipient consist of that data listed in\\nExhibit A to this Agreement (the “Data”).\\n\\n(b) | CUNY retains ownership of the Data and all intellectual property rights thercin.\\nRecipient shall not use thé Data or make, cause to be made, use or sell for any purpose, any\\nproduct or other item using, incorporating or derived from the Data, other than for the permiited\\nuse set forth in Exhibits A and B to this Agreement. Recipient agrees that it will not apply or file\\nfor any intellectual property protection, including without limitation, copyright or patent\\nprotection, in any jurisdiction, for the Data or any patentable development or discovery resulting\\nfrom its use of the Data, without the prior written approval of CUNY.\\n\\n2. Permitted Use. Recipient shall use the Data solely for not-for-profit purposes by the\\nPrincipal Investigator at the Institution as further described in Exhibits A and B to this\\nAgreement (“Permitted Use”). Any other use of the Data is prohibited. For the avoidance of\\ndoubt, Recipient is prohibited from making any profit-making or commercial use of the Data,\\nwhether alone, in collaboration with any party, or through a contractor or agent. However,\\nCUNY retains the unrestricted right to distribute the Data to others, whether commercial or\\n\\nnoncommercia] entities.\\n3. Authorized Users.\\n\\n(a) Recipient shall limit access to the Data to the Principal Investigator and those\\nindividuals affiliated with and working within the Institution under the supervision of Principal\\nInvestigator who are listed on Exhibit C to this Agreement and have also accepted the terms of\\nthis Agreement (each a “Project Investigator” and collectively with the Principal Investigator,\\n“Authorized Users”). Recipient shall refer to CUNY any request for access to the Data from\\nanyone other than the Authorized Users.\\n\\n(b) Recipient shall immediately notify CUNY if it becomes aware that any of the\\nAuthorized Users has failed to comply with the terms of this Agreement and/or has compromised\\nthe privacy and security of the Data. In such event, Recipient shall comply with Section 4(c) of\\nthis Agreement and CUNY, at its sole option, may immediately remove such user from the list of\\nAuthorized Users and immediately terminate such user’s access to the Data.\\n\\n\\n## DataKindAgreements__page_2\\n(c) Except as permitted by this Section 3, Recipient shall not directly or indirectly\\ndisclose, distribute, or otherwise allow any third party to have access to any of the Data without\\nsuch third party executing a data transfer and non-disclosure agreement with CUNY under the\\nsame terms, or terms at least as restrictive, as set forth in this Agreement. It is solely within\\nCUNY’s discretion to enter into such data transfer and nondisclosure agreement.\\n\\n4. Safeguards and Notification.\\n(a) _ All transmissions of the Data shall be by secure electronic transfer.\\n\\n(b) Recipient shall use appropriate administrative, technical and physical measures to\\nsafeguard and keep the Data confidential and secure, including without limitation:\\n\\n(i) limiting access to the Data to Authorized Users:\\n\\n(ii} storing the Data in secure files that are access-restricted through\\npasswords and/or encryption known only to Authorized Users;\\n\\n(iii) encrypting any personal computer, tablet, portable storage device, or other\\nmobile storage tool used to store and/or transmit the Data, with the decryption key known only\\nby Authorized Users;\\n\\n(iv) when not in use, maintaining all hardcopy versions of the Data, as well as\\nany personal computers, tablets, portable storage devices, and other mobile storage tools\\ncontaining the Data, in locked cabinets, file drawers, or other secure locations at Recipient’s or\\nits Authorized Users’ facilities, accessible only to Authorized Users, and not at an Authorized\\nUser’s home or a third-party location;\\n\\n(v) requiring that all hardcopy versions of the Data, as well as any personal\\ncomputers, tablets, portable storage devices, and other mobile storage tools containing the Data,\\nbe used only in secure locations at Recipient’s or its Authorized Users’ facilities, accessible only\\nto Authorized Users, and not at an Authorized User’s home or a third-party location; and:\\n\\n(vi). _ establishing procedures to help ensure that the Data cannot be extracted\\nfrom a computer mainframe, remote terminal, personal computer, tablet, portable storage device,\\nor other mobile storage tool, by unauthorized individuals.\\n\\n(c) Recipient shall promptly report in writing to CUNY any unauthorized or\\ninadvertent use or disclosure of the Data by Recipient, an Authorized User or Recipient’s other\\nemployees, representatives, agents and/or contractors in violation of this Agreement, including\\nany remedial action taken by Recipient. Recipient shall make such report within three (3)\\nbusiness days after Recipient becomes aware of the unauthorized or inadvertent use or disclosure.\\nRecipient shall cooperate with any investigation conducted by CUNY or its agents of any\\nunauthorized use or inadvertent disclosure.\\n\\n(d) Representatives of CUNY shall have the right to enter the premises of Recipient\\nand to take such other steps to examine Recipient’s use and security of the Data as are\\nreasonably necessary to assess and ensure Recipient’s compliance with this Agreement,\\n\\n2\\nDTA & NDA OGC July 2016\\n\\n\\n## DataKindAgreements__page_3\\nincluding compliance with applicable law and security protocols. Upon request by CUNY,\\nRecipient will promptly provide access and respond to CUNY inquiries regarding privacy and\\nsecurity of the Data.\\n\\n5. Publication.\\n\\n(a) Recipient shall not disclose any personally-identifiable information received\\npursuant to this Agreement in any draft or final publication.\\n\\n(b) Subject to the terms of this Agreement and consistent with the Permitted Use,\\nRecipient may publish or publicly present information or results relating to the Data or studies\\nconducted with the Data. However, in the event that Recipient should desire to make such a\\npublication or presentation, it will provide CUNY with a copy of all manuscripts or abstracts\\nreporting such information or results not less than thirty (30) days prior to publication or public\\npresentation, for CUNY’s review and written approval of such publishing or public presentation.\\nUnless CUNY advises Recipient otherwise, Recipient agrees to acknowledge CUNY in all\\npublications and presentations based on the use of the Data.\\n\\n6. No Warranties; No License: Limitation of Liability.\\n\\n{a) THE DATA IS PROVIDED “AS 1S” AND WITHOUT ANY WARRANTY EXPRESS\\nOR IMPLIED, INCLUDING ANY WARRANTY OF MERCHANTABILITY OR\\nFITNESS FOR A PARTICULAR PURPOSE OR THAT THE USE OF THE DATA\\nWILL NOT INFRINGE OR VIOLATE ANY PATENT, COPYRIGHT, TRADEMARK\\nOR PROPRIETARY RIGHTS OF ANY THIRD PARTY.\\n\\n(b) NO LICENSE. Transmittal of the Data to Recipient shall not be deemed a sale of Data\\nby CUNY and no other right or license is granted or implied as a result of the transfer of\\nData to Recipient.\\n\\n{c) Inno event will CUNY be liable for any use or disclosure of the Data by\\nRecipient, an Authorized User, Recipient’s other employees, representatives, agents, and/or\\ncontractors, or for any claims, damages, losses, or liabilities, of whatsoever kind or nature, which\\nmay arise out of or in connection with the use or disclosure of the Data by Recipient, an\\nAuthorized User, or Recipient’s other employees, representatives, agents, and/or contractors.\\n\\n(d) _ Recipient agrees to defend, indemnify, and hold harmless CUNY and its trustees, ~\\nofficers, employees, faculty, agents or representatives from any loss, claim, damage, or liability\\nof any kind or nature, which may arise from or in connection with this Agreement or from\\nRecipient’s acceptance, use, storage or disposal of the Data, except loss, claims, damages, or\\nlability arising directly from the gross negligence or willful misconduct of CUNY.\\n\\n7. Compliance with Law. Recipient agrees to use the Data in compliance with all\\napplicable federal, state and local laws, rules and regulations.\\n\\nDTA & NDA OGC July 2016\\n\\n\\n## DataKindAgreements__page_4\\n8. Termination of Agreement.\\n\\n(a) This Agreement shall commence as of the Effective Date and shall terminate upon\\nthe earlier of: (a) completion of any research that is a Permitted Use, or (b) two years from the\\nEffective Date, unless terminated earlier by mutual written consent of the parties or pursuant to\\nsection (b) or (c) below.\\n\\n(6) Breach of a material provision of this Agreement by Recipient or an Authorized\\nUser (including without limitation failure of Recipient to abide by its obligations of security,\\nconfidentiality, limited use and/or nondisclosure) shall be grounds for termination of this\\nAgreement for cause by CUNY. Upon becoming aware of such a breach of a material provision,\\nCUNY may do one or more of the following:\\n\\n. (i) terminate this Agreement upon written notice to Recipient, provided\\nRecipient has failed to satisfactorily cure the breach within thirty (30) days of Recipient’s receipt\\nof such notice of such breach;\\n\\n(ii) immediately terminate this Agreement;\\n(iil) prohibit any Authorized User from obtaining access to the Data; and/or\\n(iv) use such other remedies as may be available to it under Jaw or equity.\\n\\n(c) Recipient may terminate this Agreement at any time upon notice to CUNY,\\nprovided, however, that such termination shall not affect in any way Recipient’s obligations\\nunder this Agreement, the nature of which would continue beyond the termination of the\\nAgreement. Such termination shall terminate Recipient’s Permitted Use.\\n\\n(d) Upon termination of this Agreement for any reason, Recipient shall immediately\\ndiscontinue use of the Data and shall return or dispose of all the Data in any form as directed by\\nCUNY, unless permission to retain the Data is specifically provided in writing by CUNY.\\n\\n9. Notices: Any notice, request, instruction or other document relating to this Agreement shall be in\\nwriting and delivered personally or sent by registered or certified mail, postage prepaid to you at:\\n\\nRecipient:\\n156 5\" Aveme, Suite 502, New York NY 10010\\nAttn: Nicole Iden\\n\\nand to CUNY at:\\n524 W 59\" Street, Room 53202HH, New York NY 10019\\nAttn: Dara Bryne\\n\\nShould a change of address occur during the term of the Agreement, both parties agree to notify the other,\\nin writing, of the new address.\\n\\nDTA & NDA OGC July 2016\\n\\n\\n## DataKindAgreements__page_5\\n10. Miscellaneous.\\n\\n(a) Recipient’s obligations under this Agreement may not be assigned, subcontracted,\\nor transferred without the prior written consent of an authorized representative of CUNY.\\n\\n(b) This Agreement, including its exhibits, all of which dre incorporated herein,\\ncontains the entire understanding of the parties hereto, supersedes all previous oral or written\\nunderstandings, representations, or agreements to the extent that they relate to the subject matter\\nhereof, and may not be modified by cither party unless such modification is in writing and signed\\nby an authorized representative of each party.\\n\\n(c) Waiver by either party of a breach of any provision of, or right under, this\\nAgreement shall not operate or be construed as a waiver of any other or subsequent breach of the\\nsame provision or right, or of any other provision or right under this Agreement.\\n\\n(d) ‘If any provision of this Agreement, or the application thereof to any person or\\ncircumstance, is held invalid, such invalidity shall not affect any other provision that can be\\n\\ngiven effect without the invalid provision or application, and to this end the provisions hereof\\nshall be severable,\\n\\n(¢) This Agreement may be executed in one or more counterparts, each of which shall\\nbe deemed an original but all of which together shall constitute one and the same instrument,\\n\\nINTENTIONALLY BLANK\\n\\nDTA & NDA OGC July 2016\\n\\n\\n## DataKindAgreements__page_6\\n() This Agreement is governed and construed in accordance with the laws of New\\nYork State, without regard to principles relating to conflicts of law, except where the Federal\\nsupremacy clause requires otherwise. The courts of the State of New York in New York County\\nand the United States District Court for the Southern District of New York shall have exclusive\\njurisdiction over the parties hereto with respect to any dispute or controversy between them\\narising under or in connection with this Agreement.\\n\\nIN WITNESS WHEREOF, the parties hereto have executed this Agreement as of the day and\\nyear first written above.\\n\\nRECIPIENT\\nInstitution P\\n\\nY A\\nBy. _ //MOOAY’\\n\\nNamé: JeanCarlo Bonilla\\nTitle: Dir. of Insights and Impact\\n\\nWhile not a party to this Agreement, I acknowledge that I have read this Agreement and\\nunderstand my obligations as an Institution employee and Authorized User:\\n\\nPrincipal Investigator\\nName: JeajCarlo Bonilla = i\\nTHE CITY UNIVERSITY OF NEW YORK\\n\\nBy: ee lk oral\\n\\nName: Steven Viton\\nTitle: Vice President Of Fi nance aac Adheninwerncton\\n\\nDTA & NDA OGC July 2016\\n\\n\\n## DataKindAgreements__page_7\\nEXHIBIT A\\n\\nDescription of Data:\\n\\nThe following data are made available for this study. All attempts have been made to ensure our\\nstudents remain unidentifiable. Each record contains a study ID that does not identify the\\nstudent in any way. Combinations of demographics also do not allow for possible identification\\nof individual students. -\\n\\nStudents in this study must be bachelor degree-seeking students and have surpassed 90 or more\\ncredit hours during one semester but no later than spring 2015. Additionally, these students\\nmust have begun in a cohort from fall 2005 to fall 2014. Students are then tracked by\\nenrollment through year 8 or fall 2016, whichever comes first.\\n\\nFor those in the study, the following student level data are provided:\\n\\n* Original cohort type (freshmen, transfer) and cohort begin date\\n\\n¢ Student demographics at cohort start (sex, ethnicity, major, degree sought);\\n\\ne Admissions scores (SAT, regents scores, initial skills testing statuses);\\n\\ne Enrollment tracking by semester through fall of year 9 and academic year outcome\\nthrough end of year 8;\\n\\ne Semester data to include majors at start of the semester, beginning GPA, credits taken,\\ncompleted, and passed, and ending GPA;\\n\\ne Associates degrees awarded:\\n\\n¢ Bachelor’s degrees awarded.\\n\\nAll records from the cohort date onward include enrollments in or degrees earned at other\\nCUNY schools.\\n\\nFor those students whose first bachelor’s degree-seeking enrollment at John J ay College began\\nas a new transfer, records of their enrollments at other CUNY schools prior to their transfer to\\n\\nJohn Jay are also provided.\\n\\nAdditionally, records may be requested from the Office of Financial Aid. The actual data are yet\\nto be determined by DataKind. John Jay will ensure students remain unidentifiable by adding\\nthe Study ID and removing all identifiers from the financial aid data prior to transmission.\\n\\n\\n## DataKindAgreements__page_8\\nEXHIBIT B\\n\\nA description of initial data to be provided for purposes of this Agreement is set forth in Exhibit\\nA. CUNY is providing the data, regarding certain bachelor degree-seeking students who have\\nachieved 90 or more credit hours, so that Recipient can discover what questions might be\\naddressed through its analysis of the data. Recipient will summarize those questions for CUNY’s\\nreview and, upon agreement between CUNY and Recipient, a scope of work will be developed,\\nagreed to, and Incorporated as Exhibit B.\\n\\n\\n## DataKindAgreements__page_9\\nEXHIBIT C\\nPROJECT INVESTIGATORS\\n\\n1, Each of the undersigned Project Investigators, in consideration of their use of the Data,\\nagrees that:\\n\\n(a) she has read the Data Transfer & Non-Confidentiality Agreement from The City\\nUniversity of New York to which this Exhibit B is attached (the “Agreement”) and the Permitted\\nUse described in Exhibit A to that Agreement.\\n\\n(b) — s/he is a “Project Investigator” and an “Authorized User” within the meaning of\\nthe Agreement.\\n\\n(c) s/he shall comply fully with the terms of the Agreement.\\n\\n(\\nPROJECT INVESTIGATOR: siltind< SABAT\\nSigagture Date\\n_JeanCarlo Bonilla _ _DataKind\\nTyped Name Institution Affiliation\\nPROJECT INVESTIGATOR: Nohask p wy _ _ 5/18/2017\\nSignature Date\\n_Michael Dowd . DataKind\\nTyped Name Institation Affiliation\\nPROJECT INVESTIGATOR: - : - _\\nSignature Date\\nTyped Name OO Institution Affiliation\\n2. The Principal Investigator agrees that the persons designated herein are Project\\n\\nInvestigators and Authorized Users within the meaning of the Agreement.\\n\\nPRINCIPAL INVESTIGATOR: _ afoot lh _. SIB/A7\\nSign : Date\\n\\n_JeanCarlo Bonilla _ ___ . DataKind\\nTyped Name Institution Affiliation\\n\\nDTA & NDA OGC July 2016\\n\\n\\n## DataKindAgreements__page_10\\nLEFT BLANK\\n\\n\\n## DataKindAgreements__page_11\\nMUTUAL NON-DISCLOSURE AGREEMENT\\n\\nThis Non-Disclosure Agreement is effective as of June__21 _, 2021, and is between The City\\nUniversity of New York (“CUNY”) on behalf of John Jay College of Criminal Justice located at\\n524 W. 59\" Street, New York, NY 10019, and DataKind, Inc., a corporation organized under the\\nlaws of the State of Delaware, with a mailing address of 419 McDonald Avenue, Suite 180184,\\nBrooklyn, NY 11218 (“DataKind’).\\n\\nThe parties wish to engage in discussions and/or activities related to examining with the\\nobjective of increasing the rates of community college graduates matriculating at, and ultimately\\ngraduating from, John Jay College, or other senior colleges across the CUNY system (the\\n“Purpose’”) that may involve the disclosure of certain Confidential Information (as defined\\nbelow). For purposes of this Agreement, a party disclosing Confidential Information shall be\\nreferred to as a \"Discloser\" and a party receiving Confidential Information shall be referred to as\\na \"Recipient.\" As this is a reciprocal agreement, it is understood that a party may be both a\\nRecipient and a Discloser, since it may both receive and disclose Confidential Information.\\n\\nThe parties agree as follows:\\n\\n1. Confidential Information. Subject to Paragraph 2 below, “Confidential Information” shall\\nmean all information and materials obtained from or disclosed to one party by the other party in\\nconnection with the Purpose in any form or medium, and all copies thereof, except for any such\\ninformation that the Discloser designates to the Recipient in writing as excluded from\\nConfidential Information. Without limitation, Confidential Information shall include all business,\\nmarketing, technical, scientific, financial or other information, data, concepts, ideas, proposals,\\nspecimens, know-how, source code, object code, data bases, files, methods of operation,\\nresearch, inventions, customers, specifications, designs, plans, drawings, software, prototypes,\\nand process techniques, of a party, whether furnished directly or indirectly by the Discloser to\\nthe Recipient, and whether disclosed in anticipation of this Agreement or after the date of this\\nAgreement. “Confidential Information” shall also mean all analyses, compilations, studies or\\nother documents prepared by the Recipient or its Representative (as defined in Paragraph 3),\\nthat contain or reflect the Confidential Information, as well as the existence and substance of\\nany negotiations, agreements and/or business relationships between the parties, including with\\nrespect to the Purpose.\\n\\n2. Exceptions. This Agreement imposes no obligation on the Recipient with respect to any\\nitem of Confidential Information to the extent that the Recipient can establish by legally sufficient\\nevidence that such item of Confidential Information: (a) is or becomes part of the public domain\\nother than through a breach of this Agreement; (b) is or was lawfully obtained by the Recipient\\nfrom a third party under no obligation of confidentiality to the Discloser; (c) is Known to the\\nRecipient prior to disclosure by the Discloser; (d) is independently developed or discovered by\\nthe Recipient without reliance on the Discloser\\'s Confidential Information; or (e) is required to be\\ndisclosed to comply with applicable law or legal process, provided that the Recipient gives the\\nDiscloser prior written notice of such required disclosure (to the extent legally permitted) and\\nreasonable assistance if the Discloser wishes to contest the disclosure.\\n\\n3. Obligation of Confidentiality. The Recipient shall maintain all Confidential Information\\ndisclosed to it by the Discloser in strict confidence. The Recipient shall treat such Confidential\\nInformation with at least the same degree of care that it would treat its own confidential\\ninformation, and with no less than reasonable care. The Recipient shall limit access to such\\nConfidential Information to those of the Recipient’s directors, officers, employees, agents,\\n\\nMutual NDA CUNY OGC November 2018 1 0f 4\\n\\n\\n## DataKindAgreements__page_12\\nrepresentatives, and advisors having a need to know such Confidential Information in order to\\ncarry out the Purpose (“Representatives”), provided that each such Representative is informed\\nof the provisions of this Agreement prior to receiving any Confidential Information and agrees to\\nbe bound by them. The Recipient shall be responsible for any breach of this Agreement by its\\nRepresentatives. Except as permitted by this Paragraph 3, the Recipient shall not directly or\\nindirectly disclose, distribute, or otherwise allow any third party to have access to any\\nConfidential Information of the Discloser without such third party executing a confidentiality and\\nnon-disclosure agreement with the Discloser under the same terms, or terms at least as\\nrestrictive, as set forth in this Agreement.\\n\\n4. Ownership and Use. Confidential Information and all proprietary rights in or arising from\\nConfidential Information (including without limitation trademark, trade secret, patent, copyright,\\nmask work protection and all other intellectual property and personal property rights) shall be\\nand remain the exclusive property of the Discloser. Except as expressly specified herein,\\nDiscloser does not license or otherwise convey any rights to use or reproduce any Confidential\\nInformation to the Recipient through this Agreement. The Recipient shall use the Confidential\\nInformation only for the Purpose, and shall not otherwise use or allow to be used, any\\nConfidential Information, or derivative thereof arising from use of the Confidential Information,\\nfor its own benefit or the benefit of others. The Recipient shall not misappropriate, disassemble\\nor reverse engineer in any manner, any portion of the Confidential Information; nor shall the\\nRecipient file any patent application based on any portion of the Confidential Information, or\\notherwise attempt to assert any proprietary right in the Confidential Information, without explicit\\nprior written approval of the Discloser.\\n\\n5. Trademarks. Neither party shall use any name, logo or mark of the other party, or of its\\nRepresentatives, without the written consent of that party.\\n\\n6. No Warranty. The Discloser gives no representation or warranty of any kind with respect\\nto the Confidential Information disclosed to the Recipient, including without limitation any\\nrepresentation or warranty as to its accuracy or completeness or with respect to the non-\\ninfringement of any intellectual property rights or other rights of third parties or the Discloser.\\nThe Discloser shall not have any liability or responsibility for errors or omissions in, or any\\ndecisions made by the Recipient in reliance on, any Confidential Information.\\n\\n7. No Implied Obligations or Agency. Neither this Agreement nor the disclosure or receipt\\nof Confidential Information shall constitute or imply any promise or intention to make any\\npurchase of products or services or any commitment or representation with respect to the\\npresent or future development or marketing of any product or service by either party and shall\\nnot obligate either party to disclose Confidential Information to the other. Neither party is\\nauthorized to act for or on behalf of the other party under this Agreement. Each party is an\\nindependent contractor, and no principal/agent or partnership relationship is created between\\nthem by this Agreement.\\n\\n8. Compliance with Laws. Each party shall comply with all applicable laws, rules and\\nregulations, including without limitation The Family Educational Rights and Privacy Act (20\\nU.S.C.A. 1232g) regarding the confidentiality of CUNY student information.\\n\\n9. Export Controls. It is CUNY’s policy to remain fully compliant at all times with all U.S.\\nexport control regulations, including (but not limited to) the Export Administration Regulations;\\nInternational Traffic in Arms Regulations; and embargo sanctions under the Office of Foreign\\nAssets Control (OFAC). Therefore, in the event that the non-CUNY party to this Agreement\\n\\nMutual NDA CUNY OGC November 2018 20f4\\n\\n\\n## DataKindAgreements__page_13\\nwishes to provide export controlled information to CUNY during the course of activity under this\\nAgreement, that party shall first notify CUNY in writing of its intention to provide this data at least\\n30 days in advance of actually providing this information. CUNY will then determine whether it\\ncan or cannot accept such data as well as the conditions for such receipt if agreed upon, and\\nwill communicate its determination to the non-CUNY party. In the event that CUNY is not\\nnotified by the non-CUNY party that it intends to provide CUNY with information that is export\\ncontrolled, and such information is in fact provided to CUNY, then CUNY shall assume that such\\ninformation is not export controlled, absent any other information to the contrary.\\n\\n10. Term and Termination. This Agreement shall remain in full force and effect for a period\\nof three (3) years from the date hereof, unless terminated earlier on thirty (30) days written\\nnotice by one party to the other at the address set forth in this Agreement or at such other\\naddress that a party may hereafter give to the other in writing, it being understood that the\\nnotice shall be given to an officer of the other party. Any causes of action accrued on or before\\nsuch expiration or termination shall survive the expiration of the applicable statute of limitations.\\nAll obligations of confidentiality, limited use and nondisclosure hereunder with respect to any\\nitem of Confidential Information shall expire five (5) years from the date of disclosure of such\\nConfidential Information to the Recipient.\\n\\n11. Return of Confidential Information. Upon the conclusion of the Purpose, or at any earlier\\ntime within fifteen (15) days of a written request from the Discloser, the Recipient shall either (a)\\nreturn to the Discloser all originals, copies, and summaries of the Confidential Information, as\\nwell as all notes, diagrams, analyses, compilations, studies and other tangible materials, in\\nwhatever media, containing or derived from any portion of the Confidential Information, or (b) at\\nthe request of the Discloser, destroy all such materials and provide written certification to the\\nDiscloser of the destruction.\\n\\n12. Remedies. The parties acknowledge that a breach by the Recipient of its obligations of\\nconfidentiality, limited use and nondisclosure hereunder may result in irreparable harm to the\\nDiscloser for which remedies at law may be inadequate, and therefore such breach shall entitle\\nthe Discloser (in addition to any other rights and remedies available to it) to seek specific\\nperformance of Recipient’s obligations hereunder and to seek immediate injunctive relief without\\nhaving to post a bond.\\n\\n13. Governing Law. This Agreement is governed and construed in accordance with the laws\\nof New York State, without regard to principles relating to conflicts of law, except where the\\nFederal supremacy clause requires otherwise. The courts of the State of New York in New York\\nCounty and the United States District Court for the Southern District of New York shall have\\nexclusive jurisdiction over the parties hereto with respect to any dispute or controversy between\\nthem arising under or in connection with this Agreement.\\n\\n14. Miscellaneous.\\n(a) The terms and conditions herein constitute the entire understanding of the parties\\nand supersede all communications, negotiations, arrangements and agreements, either oral or\\n\\nwritten, with respect to the subject matter hereof.\\n\\n(b) No amendment or modification of this Agreement shall be valid or binding on the\\nparties unless made in writing and signed by their duly authorized representatives.\\n\\nMutual NDA CUNY OGC November 2018 30f4\\n\\n\\n## DataKindAgreements__page_14\\n(c) This Agreement shall be binding upon, inure to the benefit of and be enforceable\\nby, the respective successors and assigns of the parties hereto.\\n\\n(d) The rights and obligations of the parties under this Agreement may not be\\nassigned, subcontracted, or transferred except with the prior written consent of an authorized\\nrepresentative of each party.\\n\\n(e) Waiver by either party of a breach of any provision of, or right under, this\\nAgreement shall not operate or be construed as a waiver of any other or subsequent breach of\\nthe same provision or right, or of any other provision or right under this Agreement.\\n\\n(f) If any provision of this Agreement or the application thereof to any person or\\ncircumstance is held invalid, such invalidity shall not affect any other provision that can be given\\neffect without the invalid provision or application, and to this end the provisions hereof shall be\\nseverable.\\n\\n(g) This Agreement may be executed in counterparts, each of which shall be\\ndeemed an original, but both of which together shall constitute one and the same instrument. A\\nfacsimile or pdf copy of a signed counterpart shall be treated the same as a signed original.\\n\\n15. Authority. Each party represents and warrants that the person executing this Agreement\\non its behalf has the right to execute this Agreement, and that such person binds that party to\\nthe terms and conditions of this Agreement.\\n\\nIN WITNESS WHEREOF, the parties hereto have caused this Agreement to be executed on the\\ndate set forth below.\\n\\nDataKind, Inc. The City University of New York\\n\\nBy: Krabbe. Bypud\\n\\nName: Russatta Buford\\n\\nDerek Davis\\nTitle: Interim Executive Director CUNY General Counsel & Senior Vice\\nChancellor for Legal Affairs\\n\\nMutual NDA CUNY OGC November 2018 4of4\\n\\n\\n\\n## DataKindAgreements__page_15\\nLEFT BLANK\\n\\n\\n## DataKindAgreements__page_16\\nDataKind\\n\\nServices Agreement\\n\\nThis Services Agreement (the “Agreement”) is made and entered into as of February 1, 2022 (the\\n“Effective Date”), by and between Datakind, Inc., a corporation organized under the laws of the\\nState of Delaware, with a mailing address of 271 Cadman Plz E Ste 2, Suite 24554, Brooklyn, NY\\n11202 (\"DataKind\"), and The City University of New York, a New York education corporation\\norganized pursuant to Article 125 of the New York State Education Law, on behalf of John Jay\\nCollege of Criminal Justice, having offices at 524 W 59th St, New York, NY 10019 (“Client”).\\nEach of DataKind and Client is sometimes referred to in this Agreement as a “Party” and\\ncollectively as the “Parties.”\\n\\nRECITALS\\n\\nWHEREAS, DataKind is a nonprofit organization that offers data science services to high\\nimpact social organizations; and\\n\\nWHEREAS, Client wishes to receive certain professional services from DataKind, subject\\nto and in accordance with terms and conditions of this Agreement.\\n\\nNOW THEREFORE, in consideration of the mutual covenants and promises contained\\nherein and other good and valuable consideration, the receipt and sufficiency of which are\\nhereby acknowledged, the Parties agree as follows:\\n\\n1. Provision of Services. DataKind shall provide Client with certain data science\\nand consulting services relating to Client’s business, as agreed upon by the Parties from time to\\ntime and detailed in a Statement of Work (the “SOW”) substantially in the form of SOW #1,\\nwhich is agreed to by the Parties and attached hereto as Schedule A (collectively, the\\n“Services”). Each SOW shall include a description of Services, a project schedule and\\nmilestones and all fees to be paid for such Services.\\n\\n2. Term and Termination.\\n\\n(a) This Agreement shall commence on the Effective Date and continue in\\neffect until terminated as set forth hereunder. Provided that no SOWs are then in effect, this\\nAgreement may be terminated by either Party for convenience upon written notice to the other\\nParty. The term for any Services shall remain in effect until the termination date as set out in the\\napplicable SOW.\\n\\n(b) This Agreement and/or any SOW may be canceled and terminated by\\neither Party upon the other Party’s material breach of any of the terms or conditions of this\\nAgreement or the applicable SOW and failure to cure such breach within thirty (30) days after\\nwritten notice thereof.\\n\\n(c) In the event of termination of this Agreement as provided herein, all rights\\nand obligations hereunder shall terminate on the effective date of such termination following\\nnotice as required above, except that the termination of this Agreement shall in no way relieve\\neither Party from the obligation to pay the other Party any sums owing hereunder with respect to\\n\\n\\n## DataKindAgreements__page_17\\nDataKind\\n\\nServices properly performed prior to the date of such termination. In addition, Sections 4, 7, 8\\nand 9 shall survive the expiration or earlier termination of this Agreement.\\n\\n3. Fees. No fees will be charged for the Services.\\n\\n4. Intellectual Property.\\n\\n(a) DataKind shall be the sole and exclusive owner of all rights, title, and\\ninterest in and to all results and/or proceeds of the Services created and provided to Client by\\nDataKind under this Agreement, together with all related information and/or intellectual property\\nrights (the “Work Product”). The Work Product shall include, without limitation, any ideas,\\nconcepts, images, graphics, artwork, and any other information, data, materials and intellectual\\nproperty developed or prepared by DataKind in connection with the Services. If any Work\\nProduct is deemed to be a “work-made-for-hire,” then Client hereby assigns to DataKind all of its\\nright, title and interest in and to such Work Product. Client shall provide reasonable assistance\\nto DataKind, at DataKind’s request (i) to perfect DataKind’s title in and to the Work Product, and\\n(ii) where applicable, to enable DataKind or its nominee to obtain and maintain copyright, patent\\nor other legal protection therefore anywhere in the world. For the avoidance of doubt, “Work\\nProduct” does not include any information, data, materials and/or intellectual property provided\\nby Client to DataKind to assist DataKind with performing the Services (the “Client Content”),\\nincluding, without limitation, any information, data, or materials provided by Client to DataKind\\nunder that Mutual Non-Disclosure Agreement between the parties dated June 21, 2021 (the\\n“Mutual Non-Disclosure Agreement”). Client retains all rights to the Client Content and its use,\\nincluding, to the extent that the Work Product contains Client Content, how the Work Product\\nmay be used by DatakKind.\\n\\n(b) DataKind hereby grants Client a non-exclusive, perpetual, royalty-free,\\npaid-up license to any Work Product, with the right to grant sublicenses, to make, have made,\\nuse, sell, offer to sell, import, copy, distribute and modify such Work Product as necessary in\\nconnection with Client’s business.\\n\\n(c) Client hereby grants DataKind a non-exclusive, royalty-free, paid-up\\nlicense, during the term of this Agreement, to use the Client Content solely as necessary for\\nDataKind to perform the Services, and not for any other purpose.\\n\\n5. Publicity, Client agrees that DataKind may issue press releases and make other\\npublic announcements or communications to third parties discussing its relationship with Client\\nand the Services subject to the prior written approval of Client. DataKind agrees that Client may\\nissue press releases and make other public announcements or communications to third parties\\ndiscussing its relationship with DataKind and the Services subject to the prior written approval of\\nDataKind.\\n\\n6. Representations and Warranties.\\n\\n(a) DataKind hereby warrants, represents, and covenants to Client that\\nDatakind has the right to enter into this Agreement and perform its obligations herein. DataKind\\nfurther warrants, represents, and covenants to Client: (i) that DataKind and those acting on its\\nbehalf in performing the Services are expert in performing the Services referred to by this\\nAgreement; (ii) that DataKind and those acting on its behalf in performing the Services are\\n\\n\\n## DataKindAgreements__page_18\\nDataKind\\n\\nlicensed as may be required by all applicable authorities in the State of New York and the City of\\nNew York, as the case may be, to perform the Services and that all Services shall be performed\\nin accordance with applicable law; and (iii) that DataKind and those acting on its behalf in\\nperforming the Services are not on the “Entities Determined To Be Non-Responsive\\nBidders/Offerers Pursuant to The New York State Iran Divestment Act of 2012” list published by\\nthe New York State Office of General Services.\\n\\n(b) Client hereby warrants, represents, and covenants to DataKind that\\nClient has the right to enter into this Agreement and perform its obligations herein.\\n\\n7. Confidentiality. The Purpose as defined by the Mutual Non-Disclosure\\nAgreement effective as of June 21, 2021 (“MNDA’) is expanded to include the Services as\\ndefined by this Agreement. The Parties’ obligations with respect to confidentiality are set forth in\\nthe MNDA, which is incorporated herein by reference, in its entirety. Schedule B is a list of\\nvolunteers engaged by DataKind to perform the Services and bound by the MNDA, pursuant to\\nparagraph 3 of the MNDA. DataKind shall, from time to time and as necessary, add individuals to\\nSchedule B.\\n\\n8. Liability: Indemnification.\\n\\n(a) Subject to the availability of lawful appropriations and consistent with\\nSection 8 of the New York State Court of Claims Act, Client shall hold DataKind, its parent\\ncompanies, divisions, subsidiaries and affiliated divisions and companies, assigns, and the\\nshareholders, directors, officers, employees, consultants and agents of the foregoing (the\\n“DataKind Indemnified Parties”) harmless from and indemnify any DataKind Indemnified Party\\nfor any final judgment of a court of competent jurisdiction arising out of the actual or alleged\\ninfringement or misappropriation of any Client Content to the extent attributable to the\\nnegligence of Client or of its officers or employees when acting within the course and scope of\\ntheir employment.\\n\\n(b) DataKind assumes liability for, and shall indemnify, defend, protect, save\\nand hold harmless Client, its parent companies, divisions, subsidiaries and affiliated divisions\\nand companies, assigns, and the shareholders, directors, officers, employees and agents\\n(excluding Client’s consultants and independent contractors) of the foregoing (the “Client\\nIndemnified Parties”) from and against any third-party claims, actions or suits brought against\\nany Client Indemnified Party, together with all related costs, liabilities, judgments, obligations,\\nlosses, penalties, expenses or damages (including, without limitation, legal fees and expenses)\\narising out of the actual or alleged infringement or misappropriation by any Work Product of any\\nthird party intellectual property right, unless such infringement is caused by any Client Content\\nand would not have occurred but for such Client Content.\\n\\n(c) EXCEPT TO THE EXTENT SET FORTH IN SUBSECTIONS 8(a) AND 8(b),\\nIN NO EVENT SHALL EITHER PARTY BE LIABLE TO THE OTHER OR ANY THIRD PARTY FOR\\nANY LOST PROFITS OR LOST REVENUE, OR FOR ANY INDIRECT, INCIDENTAL, SPECIAL,\\nPUNITIVE, EXEMPLARY OR CONSEQUENTIAL DAMAGES ARISING OUT OF OR IN\\nCONNECTION WITH THE SERVICES OR THIS AGREEMENT.\\n\\n\\n## DataKindAgreements__page_19\\nDataKind\\n\\n9. Miscellaneous Provisions.\\n\\n(a) Independent Contractor. | DataKind shall render services as an\\nindependent contractor and nothing contained herein shall create any association, partnership,\\njoint venture, employee or agency relationship between DataKind and Client. DataKind shall not\\nsubcontract or otherwise delegate any of its obligations hereunder, in whole or in part, without\\nprior notification to Client of the subcontractor’s name and contact information. DataKind\\nunderstands and agrees that it is responsible for ensuring that any subcontractor complies with\\nthose requirements of this Agreement that apply to the services to be provided by the\\nsubcontractor, including but not limited to Sections 6(a) and 7. DataKind further understands\\nand agrees that Client’s approval of a particular subcontractor does not relieve DataKind of its\\nresponsibility and liability for performance of this Agreement.\\n\\n(b) Entire Agreement: Amendment. Except for the Mutual Non-Disclosure\\nAgreement, this Agreement shall constitute the entire understanding between the Parties with\\nrespect to the subject matter hereof, shall supersede any prior agreements between Client and\\nDataKind with respect thereto, and may not be amended except by a writing signed by both\\nParties.\\n\\n(c) Governing Law: Dispute Resolution. This Agreement, and all matters\\narising directly or indirectly from this Agreement, shall be governed by and construed in\\naccordance with the laws of the State of New York, without regard to its conflict of laws rules\\napplicable to contracts to be performed entirely within the State of New York.\\n\\n(d) Counterparts. This Agreement may be executed in counterparts (which\\nmay be exchanged by facsimile), each of which shall be deemed an original, but which together\\nshall constitute one and the same instrument.\\n\\n(e) Severability. The illegality, invalidity, or unenforceability of such\\nprovision shall not in any manner affect or render illegal, invalid or unenforceable any other\\nprovision of this Agreement, and that provision, and this Agreement generally, shall be reformed,\\nconstrued and enforced so as to most nearly give lawful effect to the intent of the parties as\\nexpressed in this Agreement.\\n\\n(f) Conflicts of Interest. DataKind affirms that to the best of DataKind’s\\nknowledge there exists no actual or potential conflict between the Services and DataKind’s\\nbusiness or financial interests, or those of any employee of DataKind, and no trustee, office, or\\nemployee of Client, or other director, officer, employee or person whose salary is payable in\\nwhole or in part from the treasury of the City of New York or the State of New York is directly or\\nindirectly interested in this Agreement. Should this situation change during the term of this\\nAgreement, DataKind shall promptly notify Client. Client reserves the right in its sole discretion\\nto determine whether or not any of the interests required to be disclosed under this subsection\\n\\nQ(f) shall disqualify DataKind from performing the Services.\\n\\n(g) NYS Appendix A. Appendix A: Standard Clauses for New York State\\nContracts (“Appendix A”) is attached hereto, and its terms and conditions are hereby\\nincorporated by reference. The term “State” in Appendix A includes the State of New York and\\nThe City University of New York, which is a “contracting agency” and “State agency” for\\n\\n\\n## DataKindAgreements__page_20\\nDataKind\\n\\npurposes of Appendix A. If there is any conflict between Appendix A and the terms and\\nconditions of this Agreement, the conflict shall be resolved by giving precedence to Appendix A.\\n\\nIN WITNESS WHEREOF, each Party has, as of the Effective Date, caused this Agreement to be\\nexecuted by its duly authorized representative.\\n\\nDataKind, Inc.\\n\\nGY Gogo\\n\\nBy.\\nName (printed): Caitlin Augustin\\n\\nTitle: Sr. Director, Product\\n\\nDate of Signature:\\n\\nCLIENT\\nBy Dank Delian\\nName (printed): Daniel Dolan\\n\\nTitle: Director of Procurement\\n\\nDate of Signature: 2/23/22\\n\\n\\n## DataKindAgreements__page_21\\nDataKind\\n\\nSCHEDULE A\\nIn partnership with John Jay College, DataKind will conduct the following activities:\\n\\n1. Draft a project brief that provides guidelines and expectations on the project.\\n\\nConduct a project partner orientation in which DataKind will provide an overview on\\nproject process and the role and responsibilities of participants at a project partner.\\n\\n3. When projects require volunteer teams, DataKind will conduct volunteer recruitment and\\norientation in order to resource the project appropriately.\\n\\n4. Draft a project plan based on the project brief as well as the initial findings of our data\\naudit. The project plan will include high level milestones with estimated dates for\\ncompletion.\\n\\n5. Conduct exploratory data analysis (EDA) based on the project plan and finalize the plan\\nas appropriate based on this analysis.\\n\\n6. Once the project is complete, DataKind will provide an insight report and presentation to\\nthe project partner. The project partner and DataKind will discuss the best format for the\\ninsight report and presentation This may be in the form of a written report, a webinar,\\nconference call, or powerpoint.\\n\\nNo fees are required in the provision of these services.\\n\\nIntroduction and Overview of Needs\\n\\nCommunity colleges or junior colleges across the United States offer many types of educational\\nprograms, including those that lead to degrees and certificates and that serve as job-entry\\neducational experience, as well as associate degrees that prepare students for transfer to a\\nfour-year college where graduates can earn a bachelor’s degree. This degree typically takes 2\\nyears to achieve.\\n\\nSenior colleges or universities provide students with a Bachelor\\'s degree, which takes 4 years of\\nfull-time study to complete. Students who graduate from community colleges with an\\nAssociate’s Degree can then transfer to senior colleges to work towards their bachelor’s degree\\nfor an additional 4 years. As a result, it will take students 6 years to complete both their\\nAssociate’s and Bachelor’s degree.\\n\\nJohn Jay College of Criminal Justice (JUC) — a senior college of The City University of New York\\n(CUNY) — has evolved into the preeminent international leader in educating for justice in its many\\ndimensions. The College offers a rich liberal arts and professional curriculum that prepares\\nstudents to serve the public interest as ethical leaders and engaged citizens. The College is\\ndedicated to educating traditionally underrepresented groups and committed to increasing\\ndiversity in the workforce. With a community of over 15,000 students, in an array of\\nundergraduate, graduate and doctoral programs, John Jay College is the most diverse among\\nthe City University of New York’s senior colleges. The student body — 60% female 40%\\n\\n\\n## DataKindAgreements__page_22\\nDataKind\\n\\nHispanic and 25% African American — today produces leaders, scholars and heroes in policing\\nand beyond, including forensic science, law, fire and emergency management, social work,\\nteaching, private security, forensic psychology and corrections.\\n\\nThe Challenge\\n\\nAcross the United States, 4-year graduation rates for transfer students who move from\\ncommunity college to a senior (4 year) institution are poor. Data from the American Institutes for\\nResearch shows that only about 60% of college students graduate from four-year colleges and\\nuniversities within six years\\'. Additionally, the longer students stay in a community college, the\\nless likely they are to transfer to a 4 year university, therefore blocking their academic path to\\ngraduating with a degree from a senior institution.\\n\\nWhile John Jay College has the highest transfer graduation rate of any NYC higher education\\ninstitution (in and outside of the CUNY system), identifying individuals who could benefit from an\\nintervention to support their academic path to increase student graduation rates is time\\nconsuming and resource intensive.\\n\\nCurrently, no data pipeline or tool exists to provide student-level information on the junior to\\nsenior college transfer program, where the students come from (i.e. which community college),\\nand where they might need additional support in order to graduate from the 4 year program\\nwithin 6 years.\\n\\nThe Opportunity\\n\\nDataKind would like to work in partnership with the John Jay College (JJC) team to use\\nstudents’ information prior to and after transferring to John Jay College in order to predict which\\ntransfer students are most at risk of not graduating. John Jay will, in turn, offer these students\\nadditional support toward completing their degrees, enabling the solid foundation of a\\nBachelor’s Degree to strengthen their stability and future economic well being.\\n\\nSpecifically, the tool will aim to generate data driven insights into which students might be at\\nhighest risk of not completing their degree, and when the intervention(s) would need to take\\nplace (e.g., the semester before they transfer, the summer before, throughout the first academic\\nyear at JJC etc.). The specific nature of the intervention(s) taken is not in scope of this project,\\nand will be addressed by the subject-matter experts within JJC, based in part on already\\nexisting and successful intervention programs at JJC.\\n\\n\\' Source:\\nhttps://www.communitycollegereview.com/blog/the-catch-22-of-community-college-grad\\nuation-rates\\n\\n\\n## DataKindAgreements__page_23\\nDataKind\\n\\nDataKind Problem Statement\\n\\nUsing student demographic and enrollment information from 2005 - 2021, student performance\\ninformation prior to enrollment at John Jay, and student performance information after\\nenrollment at John Jay College, DataKind aims to create a model that will provide the John Jay\\nteam (academic advisors, financial aid counselors) with data-driven information to identify\\ntransfer students who have defined risk characteristics so that they can receive direct support to\\nhelp ensure their academic success\\n\\nThe model will generate the probability of a transfer student not completing their degree (with an\\nemphasis on completion within six years) based on historical data provided and machine\\nlearning algorithms, and will also provide recommendations on when this risk is highest (e.g.,\\nsemester or summer pre-transfer, first transfer semester etc.). This will allow the CUNY team to\\ndirectly support students most at-risk of not graduating, ensuring that transfer students from\\nassociates programs will graduate from John Jay College’s baccalaureate programs within the\\nprescribed 6 years.\\n\\nBackground and Context: Previous DataKind Partnership\\n\\nDataKind previously partnered with John Jay College at CUNY to build a predictive model using\\nJohn Jay’s data to identify students with advanced standing who are at risk of dropping out.\\nLeveraging historical student data, the DataKind DataCorps team used statistical analysis and\\nmachine learning to understand and identify factors that may affect students’ decisions to drop\\nout after having completed 90 credits (75 percent of the credits needed to earn a degree) [see\\nprevious project plan here, the final project presentation video here, and the final project\\npresentation deck here].\\n\\nFor each student with a given set of characteristics recorded in the data, the model computed a\\ndropout risk score. This allowed the John Jay administration to identify students with a high risk\\nof dropping out early on. The statistical analysis also revealed student characteristics that are\\nmost likely to be associated with the decision to drop out. This analysis helped inform the design\\nof effective interventions for the population of students at risk to help reduce dropout and\\nimprove graduation rates.\\n\\nThis model is at the heart of the JJC’s Completion for Upper-division Student Program (CUSP). 5\\nyears after the kick start of the intervention, 4-year graduation rates are 41% for the first time in\\ncollege history. At the start of this project, graduation rates were closer to 25%.\\n\\nThe existing model is currently being run effectively by a small team, using Jupyter notebooks.\\nThis process involves data extraction from  source-systems, data wrangling in\\nnon-project-controlled SAS scripts, execution of the project code in notebooks, and the further\\nSAS (or other language) work to prepare the outputs for use by the team. Some or all of this pipe\\n\\n\\n## DataKindAgreements__page_24\\nDataKind\\n\\ncould be consolidated into a robust data pipeline within this project, for either the transfers or for\\nall student types.\\n\\nFurther understanding and reviewing the way in which this CUSP tool is used and the general\\napproach to its implementation will be necessary to build a similarly sustainable product\\ngenerating risk scores for transfer students specifically.\\n\\n\\n## DataKindAgreements__page_25\\nDataKind\\n\\nSCHEDULE B\\n\\nDataKind has engaged the following volunteers for this project:\\n\\nJay Shah\\n\\nAnuja Mahashabde\\nShreyash Suryawanshi\\nKaveri Nadhamuni\\nPrakrit Baruah\\n\\nKhizer Asad\\n\\nMoiz Ali\\n\\nFelicia Edwards\\n\\n\\n## DataKindAgreements__page_26\\nAPPENDIX A\\n\\nSTANDARD CLAUSES FOR NEW YORK STATE CONTRACTS\\n\\nPLEASE RETAIN THIS DOCUMENT\\nFOR FUTURE REFERENCE.\\n\\nCUNY ICA - NYS Appendix - October 2019 6\\n\\n\\n## DataKindAgreements__page_27\\nSTANDARD CLAUSES FOR NYS CONTRACTS\\n\\nThe parties to the attached contract, license, lease,\\namendment or other agreement of any kind (hereinafter,\\n\"the contract\" or \"this contract\") agree to be bound by the\\nfollowing clauses which are hereby made a part of the\\ncontract (the word \"Contractor\" herein refers to any party\\nother than the State, whether a contractor, licenser,\\nlicensee, lessor, lessee or any other party):\\n\\n1. EXECUTORY CLAUSE. In accordance with Section 41 of\\nthe State Finance Law, the State shall have no liability\\nunder this contract to the Contractor or to anyone else\\nbeyond funds appropriated and available for this contract.\\n\\n2. NON-ASSIGNMENT_ CLAUSE. In accordance with\\nSection 138 of the State Finance Law, this contract may not\\nbe assigned by the Contractor or its right, title or interest\\ntherein assigned, transferred, conveyed, sublet or\\notherwise disposed of without the State’s previous written\\nconsent, and attempts to do so are null and void.\\nNotwithstanding the foregoing, such prior written consent\\nof an assignment of a contract let pursuant to Article XI of\\nthe State Finance Law may be waived at the discretion of\\nthe contracting agency and with the concurrence of the\\nState Comptroller where the original contract was subject\\nto the State Comptroller’s approval, where the assignment\\nis due to a reorganization, merger or consolidation of the\\nContractor’s business entity or enterprise. The State\\nretains its right to approve an assignment and to require\\nthat any Contractor demonstrate its responsibility to do\\nbusiness with the State. The Contractor may, however,\\nassign its right to receive payments without the State’s\\nprior written consent unless this contract concerns\\nCertificates of Participation pursuant to Article 5-A of the\\nState Finance Law.\\n\\n3. COMPTROLLER\\'S APPROVAL. In accordance with\\nSection 112 of the State Finance Law (or, if this contract is\\nwith the State University or City University of New York,\\nSection 355 or Section 6218 of the Education Law), if this\\ncontract exceeds $50,000 (or the minimum thresholds\\nagreed to by the Office of the State Comptroller for certain\\nS.U.N.Y. and C.U.N.Y. contracts), or if this is an amendment\\nfor any amount to a contract which, as so amended,\\nexceeds said statutory amount, or if, by this contract, the\\nState agrees to give something other than money when the\\nvalue or reasonably estimated value of such consideration\\nexceeds $25,000, it shall not be valid, effective or binding\\nupon the State until it has been approved by the State\\nComptroller and filed in his office. Comptroller\\'s approval\\nof contracts let by the Office of General Services is required\\nwhen such contracts exceed $85,000 (State Finance Law §\\n163.6-a). However, such pre-approval shall not be required\\nfor any contract established as a centralized contract\\n\\nCUNY ICA - NYS Appendix - October 2019 7\\n\\nthrough the Office of General Services or for a purchase\\norder or other transaction issued under such centralized\\ncontract.\\n\\n4. WORKERS\\' COMPENSATION BENEFITS. In accordance\\nwith Section 142 of the State Finance Law, this contract\\nshall be void and of no force and effect unless the\\nContractor shall provide and maintain coverage during the\\nlife of this contract for the benefit of such employees as are\\nrequired to be covered by the provisions of the Workers\\'\\nCompensation Law.\\n\\n5. NON-DISCRIMINATION REQUIREMENTS. To the\\nextent required by Article 15 of the Executive Law (also\\nknown as the Human Rights Law) and all other State and\\nFederal statutory and constitutional non-discrimination\\nprovisions, the Contractor will not discriminate against any\\nemployee or applicant for employment, nor subject any\\nindividual to harassment, because of age, race, creed, color,\\nnational origin, sexual orientation, gender identity or\\nexpression, military status, sex, disability, predisposing\\ngenetic characteristics, familial status, marital status, or\\ndomestic violence victim status or because the individual\\nhas opposed any practices forbidden under the Human\\nRights Law or has filed a complaint, testified, or assisted in\\nany proceeding under the Human Rights Law.\\nFurthermore, in accordance with Section 220-e of the\\nLabor Law, if this is a contract for the construction,\\nalteration or repair of any public building or public work\\nor for the manufacture, sale or distribution of materials,\\nequipment or supplies, and to the extent that this contract\\nshall be performed within the State of New York,\\nContractor agrees that neither it nor its subcontractors\\nshall, by reason of race, creed, color, disability, sex, or\\nnational origin: (a) discriminate in hiring against any New\\nYork State citizen who is qualified and available to perform\\nthe work; or (b) discriminate against or intimidate any\\nemployee hired for the performance of work under this\\ncontract. If this is a building service contract as defined in\\nSection 230 of the Labor Law, then, in accordance with\\nSection 239 thereof, Contractor agrees that neither it nor\\nits subcontractors shall by reason of race, creed, color,\\nnational origin, age, sex or disability: (a) discriminate in\\nhiring against any New York State citizen who is qualified\\nand available to perform the work; or (b) discriminate\\nagainst or intimidate any employee hired for the\\nperformance of work under this contract. Contractor is\\nsubject to fines of $50.00 per person per day for any\\nviolation of Section 220-e or Section 239 as well as\\npossible termination of this contract and forfeiture of all\\nmoneys due hereunder for a second or subsequent\\nviolation.\\n\\n6. WAGE AND HOURS PROVISIONS. If this is a public\\nwork contract covered by Article 8 of the Labor Law or a\\n\\n\\n## DataKindAgreements__page_28\\nbuilding service contract covered by Article 9 thereof,\\nneither Contractor\\'s employees nor the employees of its\\nsubcontractors may be required or permitted to work\\nmore than the number of hours or days stated in said\\nstatutes, except as otherwise provided in the Labor Law\\nand as set forth in prevailing wage and supplement\\nschedules issued by the State Labor Department.\\nFurthermore, Contractor and its subcontractors must pay\\nat least the prevailing wage rate and pay or provide the\\nprevailing supplements, including the premium rates for\\novertime pay, as determined by the State Labor\\nDepartment in accordance with the Labor Law.\\nAdditionally, effective April 28, 2008, if this is a public\\nwork contract covered by Article 8 of the Labor Law, the\\nContractor understands and agrees that the filing of\\npayrolls in a manner consistent with Subdivision 3-a of\\nSection 220 of the Labor Law shall be a condition\\nprecedent to payment by the State of any State approved\\nsums due and owing for work done upon the project.\\n\\n7. NON-COLLUSIVE BIDDING CERTIFICATION. In\\naccordance with Section 139-d of the State Finance Law, if\\nthis contract was awarded based upon the submission of\\nbids, Contractor affirms, under penalty of perjury, that its\\nbid was arrived at independently and without collusion\\naimed at restricting competition. Contractor further\\naffirms that, at the time Contractor submitted its bid, an\\nauthorized and responsible person executed and delivered\\nto the State a non-collusive bidding certification on\\nContractor\\'s behalf.\\n\\n8. INTERNATIONAL BOYCOTT PROHIBITION. In\\naccordance with Section 220-f of the Labor Law and\\nSection 139-h of the State Finance Law, if this contract\\nexceeds $5,000, the Contractor agrees, as a material\\ncondition of the contract, that neither the Contractor nor\\nany substantially owned or affiliated person, firm,\\npartnership or corporation has _ participated, is\\nparticipating, or shall participate in an international\\nboycott in violation of the federal Export Administration\\nAct of 1979 (50 USC App. Sections 2401 et seq.) or\\nregulations thereunder. If such Contractor, or any of the\\naforesaid affiliates of Contractor, is convicted or is\\notherwise found to have violated said laws or regulations\\nupon the final determination of the United States\\nCommerce Department or any other appropriate agency of\\nthe United States subsequent to the contract\\'s execution,\\nsuch contract, amendment or modification thereto shall be\\nrendered forfeit and void. The Contractor shall so notify\\nthe State Comptroller within five (5) business days of such\\nconviction, determination or disposition of appeal (2\\nNYCRR § 105.4).\\n\\n9, SET-OFF RIGHTS. The State shall have all of its common\\nlaw, equitable and statutory rights of set-off. These rights\\n\\nCUNY ICA - NYS Appendix - October 2019 8\\n\\nshall include, but not be limited to, the State\\'s option to\\nwithhold for the purposes of set-off any moneys due to the\\nContractor under this contract up to any amounts due and\\nowing to the State with regard to this contract, any other\\ncontract with any State department or agency, including\\nany contract for a term commencing prior to the term of\\nthis contract, plus any amounts due and owing to the State\\nfor any other reason including, without limitation, tax\\ndelinquencies, fee delinquencies or monetary penalties\\nrelative thereto. The State shall exercise its set-off rights in\\naccordance with normal State practices including, in cases\\nof set-off pursuant to an audit, the finalization of such audit\\nby the State agency, its representatives, or the State\\nComptroller.\\n\\n10. RECORDS. The Contractor shall establish and\\nmaintain complete and accurate books, records,\\ndocuments, accounts and other evidence directly pertinent\\nto performance under this contract (hereinafter,\\ncollectively, the \"Records\"). The Records must be kept for\\nthe balance of the calendar year in which they were made\\nand for six (6) additional years thereafter. The State\\nComptroller, the Attorney General and any other person or\\nentity authorized to conduct an examination, as well as the\\nagency or agencies involved in this contract, shall have\\naccess to the Records during normal business hours at an\\noffice of the Contractor within the State of New York or, if\\nno such office is available, at a mutually agreeable and\\nreasonable venue within the State, for the term specified\\nabove for the purposes of inspection, auditing and copying.\\nThe State shall take reasonable steps to protect from public\\ndisclosure any of the Records which are exempt from\\ndisclosure under Section 87 of the Public Officers Law (the\\n\"Statute\") provided that: (i) the Contractor shall timely\\ninform an appropriate State official, in writing, that said\\nrecords should not be disclosed; and (ii) said records shall\\nbe sufficiently identified; and (iii) designation of said\\nrecords as exempt under the Statute is reasonable.\\nNothing contained herein shall diminish, or in any way\\nadversely affect, the State\\'s right to discovery in any\\npending or future litigation.\\n\\n11. IDENTIFYING INFORMATION AND __ PRIVACY\\nNOTIFICATION. (a) Identification Number(s). Every\\n\\ninvoice or New York State Claim for Payment submitted to\\na New York State agency by a payee, for payment for the\\nsale of goods or services or for transactions (e.g., leases,\\neasements, licenses, etc.) related to real or personal\\nproperty must include the payee\\'s identification number.\\nThe number is any or all of the following: (i) the payee’s\\nFederal employer identification number, (ii) the payee’s\\nFederal social security number, and/or (iii) the payee’s\\nVendor Identification Number assigned by the Statewide\\nFinancial System. Failure to include such number or\\nnumbers may delay payment. Where the payee does not\\n\\n\\n## DataKindAgreements__page_29\\nhave such number or numbers, the payee, on its invoice or\\nClaim for Payment, must give the reason or reasons why\\nthe payee does not have such number or numbers.\\n\\n(b) Privacy Notification. (1) The authority to request the\\nabove personal information from a seller of goods or\\nservices or a lessor of real or personal property, and the\\nauthority to maintain such information, is found in Section\\n5 of the State Tax Law. Disclosure of this information by\\nthe seller or lessor to the State is mandatory. The principal\\npurpose for which the information is collected is to enable\\nthe State to identify individuals, businesses and others\\nwho have been delinquent in filing tax returns or may have\\nunderstated their tax liabilities and to generally identify\\npersons affected by the taxes administered by the\\nCommissioner of Taxation and Finance. The information\\nwill be used for tax administration purposes and for any\\nother purpose authorized by law. (2) The personal\\ninformation is requested by the purchasing unit of the\\nagency contracting to purchase the goods or services or\\nlease the real or personal property covered by this contract\\nor lease. The information is maintained in the Statewide\\nFinancial System by the Vendor Management Unit within\\nthe Bureau of State Expenditures, Office of the State\\nComptroller, 110 State Street, Albany, New York 12236.\\n\\n12. EQUAL EMPLOYMENT OPPORTUNITIES FOR\\nMINORITIES AND WOMEN. In accordance with Section\\n\\n312 of the Executive Law and 5 NYCRR Part 143, if this\\ncontract is: (i) a written agreement or purchase order\\ninstrument, providing for a total expenditure in excess of\\n$25,000.00, whereby a contracting agency is committed to\\nexpend or does expend funds in return for labor, services,\\nsupplies, equipment, materials or any combination of the\\nforegoing, to be performed for, or rendered or furnished to\\nthe contracting agency; or (ii) a written agreement in\\nexcess of $100,000.00 whereby a contracting agency is\\ncommitted to expend or does expend funds for the\\nacquisition, construction, demolition, replacement, major\\nrepair or renovation of real property and improvements\\nthereon; or (iii) a written agreement in excess of\\n$100,000.00 whereby the owner of a State assisted\\nhousing project is committed to expend or does expend\\nfunds for the acquisition, construction, demolition,\\nreplacement, major repair or renovation of real property\\nand improvements thereon for such project, then the\\nfollowing shall apply and by signing this agreement the\\nContractor certifies and affirms that it is Contractor’s equal\\nemployment opportunity policy that:\\n\\n(a) The Contractor will not discriminate against\\nemployees or applicants for employment because of race,\\ncreed, color, national origin, sex, age, disability or marital\\nstatus, shall make and document its conscientious and\\nactive efforts to employ and utilize minority group\\n\\nCUNY ICA - NYS Appendix - October 2019 9\\n\\nmembers and women in its work force on State contracts\\nand will undertake or continue existing programs of\\naffirmative action to ensure that minority group members\\nand women are afforded equal employment opportunities\\nwithout discrimination. Affirmative action shall mean\\nrecruitment, employment, job assignment, promotion,\\nupgradings, demotion, transfer, layoff, or termination and\\nrates of pay or other forms of compensation;\\n\\n(b) at the request of the contracting agency, the Contractor\\nshall request each employment agency, labor union, or\\nauthorized representative of workers with which it has a\\ncollective bargaining or other agreement or understanding,\\nto furnish a written statement that such employment\\nagency, labor union or representative will not discriminate\\non the basis of race, creed, color, national origin, sex, age,\\ndisability or marital status and that such union or\\nrepresentative will affirmatively cooperate in the\\nimplementation of the Contractor\\'s obligations herein; and\\n\\n(c) the Contractor shall state, in all solicitations or\\nadvertisements for employees, that, in the performance of\\nthe State contract, all qualified applicants will be afforded\\nequal employment opportunities without discrimination\\nbecause of race, creed, color, national origin, sex, age,\\ndisability or marital status.\\n\\nContractor will include the provisions of \"a,\" \"\"b,\" and \"c\"\\nabove, in every subcontract over $25,000.00 for the\\nconstruction, demolition, replacement, major repair,\\nrenovation, planning or design of real property and\\nimprovements thereon (the \"Work\") except where the\\nWork is for the beneficial use of the Contractor. Section\\n312 does not apply to: (i) work, goods or services\\nunrelated to this contract; or (ii) employment outside New\\nYork State. The State shall consider compliance by a\\ncontractor or subcontractor with the requirements of any\\nfederal law concerning equal employment opportunity\\nwhich effectuates the purpose of this clause. The\\ncontracting agency shall determine whether the imposition\\nof the requirements of the provisions hereof duplicate or\\nconflict with any such federal law and if such duplication\\nor conflict exists, the contracting agency shall waive the\\napplicability of Section 312 to the extent of such\\nduplication or conflict. Contractor will comply with all\\nduly promulgated and lawful rules and regulations of the\\nDepartment of Economic Development’s Division of\\nMinority and Women\\'s Business Development pertaining\\nhereto.\\n\\n13. CONFLICTING TERMS. In the event of a conflict\\nbetween the terms of the contract (including any and all\\nattachments thereto and amendments thereof) and the\\nterms of this Appendix A, the terms of this Appendix A\\nshall control.\\n\\n\\n## DataKindAgreements__page_30\\n14, GOVERNING LAW. This contract shall be governed by\\nthe laws of the State of New York except where the Federal\\nsupremacy clause requires otherwise.\\n\\n15. LATE PAYMENT. Timeliness of payment and any\\ninterest to be paid to Contractor for late payment shall be\\ngoverned by Article 11-A of the State Finance Law to the\\nextent required by law.\\n\\n16. NO ARBITRATION. Disputes involving this contract,\\nincluding the breach or alleged breach thereof, may not be\\nsubmitted to binding arbitration (except where statutorily\\nauthorized), but must, instead, be heard in a court of\\ncompetent jurisdiction of the State of New York.\\n\\n17. SERVICE OF PROCESS. In addition to the methods of\\nservice allowed by the State Civil Practice Law & Rules\\n(\"CPLR\"), Contractor hereby consents to service of process\\nupon it by registered or certified mail, return receipt\\nrequested. Service hereunder shall be complete upon\\nContractor\\'s actual receipt of process or upon the State\\'s\\nreceipt of the return thereof by the United States Postal\\nService as refused or undeliverable. Contractor must\\npromptly notify the State, in writing, of each and every\\nchange of address to which service of process can be made.\\nService by the State to the last known address shall be\\nsufficient. Contractor will have thirty (30) calendar days\\nafter service hereunder is complete in which to respond.\\n\\n18. PROHIBITION ON PURCHASE OF TROPICAL\\nHARDWOODS. The Contractor certifies and warrants that\\nall wood products to be used under this contract award\\nwill be in accordance with, but not limited to, the\\nspecifications and provisions of Section 165 of the State\\nFinance Law, (Use of Tropical Hardwoods) which prohibits\\npurchase and use of tropical hardwoods, unless specifically\\nexempted, by the State or any governmental agency or\\npolitical subdivision or public benefit corporation.\\nQualification for an exemption under this law will be the\\nresponsibility of the contractor to establish to meet with\\nthe approval of the State.\\n\\nIn addition, when any portion of this contract involving the\\nuse of woods, whether supply or installation, is to be\\nperformed by any subcontractor, the prime Contractor will\\nindicate and certify in the submitted bid proposal that the\\nsubcontractor has been informed and is in compliance\\nwith specifications and provisions regarding use of tropical\\nhardwoods as detailed in § 165 State Finance Law. Any\\nsuch use must meet with the approval of the State;\\notherwise, the bid may not be considered responsive.\\nUnder bidder certifications, proof of qualification for\\nexemption will be the responsibility of the Contractor to\\nmeet with the approval of the State.\\n\\nCUNY ICA - NYS Appendix - October 2019 10\\n\\n19. MACBRIDE FAIR EMPLOYMENT PRINCIPLES. In\\naccordance with the MacBride Fair Employment Principles\\n(Chapter 807 of the Laws of 1992), the Contractor hereby\\nstipulates that the Contractor either (a) has no business\\noperations in Northern Ireland, or (b) shall take lawful\\nsteps in good faith to conduct any business operations in\\nNorthern Ireland in accordance with the MacBride Fair\\nEmployment Principles (as described in Section 165 of the\\nNew York State Finance Law), and_ shall permit\\nindependent monitoring of compliance with such\\nprinciples.\\n\\n20. OMNIBUS PROCUREMENT ACT OF 1992. It is the\\npolicy of New York State to maximize opportunities for the\\nparticipation of New York State business enterprises,\\nincluding minority- and women-owned _ business\\nenterprises as bidders, subcontractors and suppliers on its\\nprocurement contracts.\\n\\nInformation on the availability of New York State\\nsubcontractors and suppliers is available from:\\n\\nNYS Department of Economic Development\\nDivision for Small Business\\n\\nAlbany, New York 12245\\n\\nTelephone: 518-292-5100\\n\\nFax: 518-292-5884\\n\\nemail: opa@esd.ny.gov\\n\\nA directory of certified minority- and women-owned\\nbusiness enterprises is available from:\\n\\nNYS Department of Economic Development\\nDivision of Minority and Women\\'s Business\\nDevelopment\\n\\n633 Third Avenue\\n\\nNew York, NY 10017\\n\\n212-803-2414\\n\\nemail: mwbecertification@esd.ny.gov\\n\\nhttps://ny.newnycontracts.com/FrontEnd/VendorSear\\nchPublic.asp\\n\\nThe Omnibus Procurement Act of 1992 (Chapter 844 of the\\nLaws of 1992, codified in State Finance Law § 139-i and\\nPublic Authorities Law § 2879(3)(n)-(p)) requires that by\\nsigning this bid proposal or contract, as applicable,\\nContractors certify that whenever the total bid amount is\\ngreater than $1 million:\\n\\n(a) The Contractor has made reasonable efforts to\\nencourage the participation of New York State Business\\nEnterprises as suppliers and subcontractors, including\\ncertified minority; and women-owned _ business\\nenterprises, on this project, and has retained the\\n\\n\\n## DataKindAgreements__page_31\\ndocumentation of these efforts to be provided upon\\nrequest to the State;\\n\\n(b) The Contractor has complied with the Federal Equal\\nOpportunity Act of 1972 (P.L. 92-261), as amended;\\n\\n(c) The Contractor agrees to make reasonable efforts to\\nprovide notification to New York State residents of\\nemployment opportunities on this project through listing\\nany such positions with the Job Service Division of the New\\nYork State Department of Labor, or providing such\\nnotification in such manner as is consistent with existing\\ncollective bargaining contracts or agreements. The\\nContractor agrees to document these efforts and to provide\\nsaid documentation to the State upon request; and\\n\\n(d) The Contractor acknowledges notice that the State may\\nseek to obtain offset credits from foreign countries as a\\nresult of this contract and agrees to cooperate with the\\nState in these efforts.\\n\\n21. RECIPROCITY AND SANCTIONS PROVISIONS.\\nBidders are hereby notified that if their principal place of\\nbusiness is located in a country, nation, province, state or\\npolitical subdivision that penalizes New York State\\nvendors, and if the goods or services they offer will be\\nsubstantially produced or performed outside New York\\nState, the Omnibus Procurement Act 1994 and 2000\\namendments (Chapter 684 and Chapter 383, respectively,\\ncodified in State Finance Law §165(6) and Public\\nAuthorities Law § 2879(5)) ) require that they be denied\\ncontracts which they would otherwise obtain. NOTE: As of\\nOctober 2019, the list of discriminatory jurisdictions\\nsubject to this provision includes the states of South\\nCarolina, Alaska, West Virginia, Wyoming, Louisiana and\\nHawaii.\\n\\n22. COMPLIANCE WITH BREACH NOTIFICATION AND\\nDATA SECURITY LAWS. Contractor shall comply with the\\nprovisions of the New York State Information Security\\nBreach and Notification Act (General Business Law §\\n899-aa and State Technology Law § 208) and commencing\\nMarch 21, 2020 shall also comply with General Business\\nLaw § 899-bb.\\n\\n23. COMPLIANCE WITH CONSULTANT DISCLOSURE\\nLAW. If this is a contract for consulting services, defined\\nfor purposes of this requirement to include analysis,\\nevaluation, research, training, data processing, computer\\nprogramming, engineering, environmental, health, and\\nmental health services, accounting, auditing, paralegal,\\nlegal or similar services, then, in accordance with Section\\n163 (4)(g) of the State Finance Law (as amended by\\nChapter 10 of the Laws of 2006), the Contractor shall\\ntimely, accurately and properly comply with the\\n\\nCUNY ICA - NYS Appendix - October 2019 11\\n\\nrequirement to submit an annual employment report for\\nthe contract to the agency that awarded the contract, the\\nDepartment of Civil Service and the State Comptroller.\\n\\n24. PROCUREMENT LOBBYING. To the extent this\\nagreement is a \"procurement contract\" as defined by State\\nFinance Law §§ 139-j and 139-k, by signing this agreement\\nthe contractor certifies and affirms that all disclosures\\nmade in accordance with State Finance Law §§ 139-j and\\n139-k are complete, true and accurate. In the event such\\ncertification is found to be intentionally false or\\nintentionally incomplete, the State may terminate the\\nagreement by providing written notification to the\\nContractor in accordance with the terms of the agreement.\\n\\n25. CERTIFICATION OF REGISTRATION TO COLLECT\\nSALES_AND_ COMPENSATING USE TAX BY CERTAIN\\nSTATE CONTRACTORS AFFILIATES AND\\nSUBCONTRACTORS.\\n\\nTo the extent this agreement is a contract as defined by Tax\\nLaw § 5-a, if the contractor fails to make the certification\\nrequired by Tax Law § 5-a or if during the term of the\\ncontract, the Department of Taxation and Finance or the\\ncovered agency, as defined by Tax Law § 5-a, discovers that\\nthe certification, made under penalty of perjury, is false,\\nthen such failure to file or false certification shall be a\\nmaterial breach of this contract and this contract may be\\nterminated, by providing written notification to the\\nContractor in accordance with the terms of the agreement,\\nif the covered agency determines that such action is in the\\nbest interest of the State.\\n\\n26. IRAN DIVESTMENT ACT. By entering into this\\nAgreement, Contractor certifies in accordance with State\\nFinance Law § 165-a that it is not on the “Entities\\nDetermined to be Non-Responsive Bidders/Offerers\\npursuant to the New York State Iran Divestment Act of\\n2012\" (“Prohibited Entities List”) posted at:\\n\\nsive- biddersofferers-pursuant-nys- iran-divestment-act-20\\n12\\n\\nContractor further certifies that it will not utilize on this\\nContract any subcontractor that is identified on the\\nProhibited Entities List. Contractor agrees that should it\\nseek to renew or extend this Contract, it must provide the\\nsame certification at the time the Contract is renewed or\\nextended. Contractor also agrees that any proposed\\nAssignee of this Contract will be required to certify that it\\nis not on the Prohibited Entities List before the contract\\nassignment will be approved by the State.\\n\\nDuring the term of the Contract, should the state agency\\nreceive information that a person (as defined in State\\nFinance Law §165-a) is in violation of the\\n\\n\\n## DataKindAgreements__page_32\\nabove-referenced certifications, the state agency will\\nreview such information and offer the person an\\nopportunity to respond. If the person fails to demonstrate\\nthat it has ceased its engagement in the investment activity\\nwhich is in violation of the Act within 90 days after the\\ndetermination of such violation, then the state agency shall\\ntake such action as may be appropriate and provided for by\\nlaw, rule, or contract, including, but not limited to,\\nimposing sanctions, seeking compliance, recovering\\ndamages, or declaring the Contractor in default.\\n\\nThe state agency reserves the right to reject any bid,\\nrequest for assignment, renewal or extension for an entity\\nthat appears on the Prohibited Entities List prior to the\\naward, assignment, renewal or extension of a contract, and\\nto pursue a responsibility review with respect to any entity\\nthat is awarded a contract and appears on the Prohibited\\nEntities list after contract award.\\n\\n27. ADMISSIBILITY OF REPRODUCTION OF CONTRACT.\\nNotwithstanding the best evidence rule or any other legal\\nprinciple or rule of evidence to the contrary, the Contractor\\nacknowledges and agrees that it waives any and all\\nobjections to the admissibility into evidence at any court\\nproceeding or to the use at any examination before trial of\\nan electronic reproduction of this contract, in the form\\napproved by the State Comptroller, if such approval was\\nrequired, regardless of whether the original of said\\ncontract is in existence.\\n\\nCUNY ICA - NYS Appendix - October 2019 12\\n\\n\\n## DataKindAgreements__page_33\\nCUNY ICA - NYS Appendix - October 2019\\n\\n\\n## DataKindAgreements__page_34\\nLEFT BLANK\\n\\n\\n## DataKindAgreements__page_35\\nDataKind\\n\\nServices Agreement\\n\\nThis Services Agreement (the “Agreement”), effective as of September 6, 2023 (the “Effective Date”), is\\nby and between DataKind, Inc., a corporation organized under the laws of the State of Delaware, with\\na mailing address of 271 Cadman Plz E, Unit 24554, Brooklyn, NY 11202 (\"DataKind\"), and the City\\nUniversity of New York on behalf of John Jay College of Criminal Justice, a body corporate established\\nand existing pursuant to Article 125 of the Education Law of the State of New York, having offices at\\n524 West 59% Street, New York, NY 10019 (“Client”). Each of DataKind and Client is sometimes\\nreferred to in this Agreement as a “Party” and collectively as the “Parties.”\\n\\nRECITALS\\n\\nWHEREAS, DataKind is a nonprofit organization that offers data science services to high impact\\nsocial organizations; and\\n\\nWHEREAS, Client wishes to receive certain professional services from DataKind, subject to and\\nin accordance with terms and conditions of this Agreement.\\n\\nNOW THEREFORE, in consideration of the mutual covenants and promises contained herein\\nand other good and valuable consideration, the receipt and sufficiency of which are hereby\\nacknowledged, the Parties agree as follows:\\n\\n1, Provision of Services. DataKind shall provide Client with certain data science and\\nconsulting services relating to Client’s business, as detailed in a Statement of Work (the “SOW”), which\\nis agreed to by the Parties and attached hereto as Schedule A (collectively, the “Services”) and may be\\namended from time to time in writing by the mutual agreement of the Parties. The SOW shall include a\\ndescription of Services, a project schedule and milestones and all fees to be paid for such Services.\\n\\n2. Term and Termination.\\n\\n(a) This Agreement shall commence on the Effective Date and continue in effect\\nuntil terminated as set forth hereunder. Provided that no SOWs are then in effect, this Agreement may\\nbe terminated by either Party for any reason upon provision of 30 days of written notice to the other\\nParty. The term for any Services shall remain in effect until the termination date as set out in the\\napplicable SOW.\\n\\n(b) This Agreement and/or any SOW may be canceled and terminated by either\\nParty upon the other Party’s material breach of any of the terms or conditions of this Agreement or the\\napplicable SOW and failure to cure such breach within thirty (30) days after written notice thereof.\\n\\n(c) In the event of termination of this Agreement as provided herein, all rights\\nand obligations hereunder shall terminate on the effective date of such termination following notice as\\nrequired above, except that the termination of this Agreement shall in no way relieve either Party from\\nthe obligation to pay the other Party any sums owing hereunder with respect to Services properly\\nperformed prior to the date of such termination. In addition, Sections 4, 7, 8 and 9 shall survive the\\nexpiration or earlier termination of this Agreement.\\n\\n\\n## DataKindAgreements__page_36\\nDataKind\\n\\nFees. No fees will be charged for these services.\\n\\n4. Intellectual Property.\\n\\n(a) In support of our charitable mission, DataKind shall be the sole and exclusive\\nowner of all rights, title, and interest in and to all results and/or proceeds of the Services provided to\\nClient under this Agreement, together with all related information and/or intellectual property rights\\n(the “Work Product”). The Work Product shall include, without limitation, any ideas, concepts, images,\\ngraphics, artwork, and any other information, data, materials and intellectual property developed or\\nprepared in connection with the Services. If any Work Product is deemed to be a “work-made-for-hire,”\\nthen Client hereby assigns to DataKind all of its right, title and interest in and to such Work Product.\\nClient shall perform all lawful acts requested by DataKind (i) to perfect DataKind’s title in and to the\\nWork Product, and (ii) where applicable, to enable DataKind or its nominee to obtain and maintain\\ncopyright, patent or other legal protection therefore anywhere in the world. For the avoidance of doubt,\\n“Work Product” does not include any information, data, materials and/or intellectual property provided\\nby Client to DataKind to assist DataKind with performing the Services (the “Client Content”), including,\\nwithout limitation, any information, data, or materials provided by Client to DataKind under the Mutual\\nNon-Disclosure Agreement between the parties dated DATE (the “Mutual Non-Disclosure Agreement”).\\nClient retains all rights to the Client Content and its use, including, to the extent that the Work Product\\ncontains Client Content, how the Work Product may be used by DataKind.\\n\\n(b) DataKind hereby grants Client a non-exclusive, perpetual, royalty-free, paid-\\nup license to any Work Product, with the right to use such Work Product as necessary in connection\\nwith Client’s business. To the extent requested by DataKind, Client shall indicate or otherwise\\nacknowledge the ownership by DataKind in connection with Client’s use of any Work Product pursuant\\nto this Section 4(b).\\n\\n(c) Client hereby grants DataKind a non-exclusive, royalty-free, paid-up license,\\nduring the term of this Agreement, to use any content or other materials provided by Client in\\nconnection with the Services (the “Client Content”) as necessary for DataKind to perform the Services\\nand not for any other purpose.\\n\\n5. Publicity. Client agrees that DataKind may issue press releases and make other public\\nannouncements or communications to third parties discussing its relationship with Client and the\\nServices subject to the prior written approval of Client. DataKind agrees that Client may issue press\\nreleases and make other public announcements or communications to third parties discussing its\\nrelationship with DataKind and the Services subject to the prior written approval of DataKind.\\n\\n6. Representations and Warranties.\\n\\n(a) DataKind hereby warrants, represents, and covenants to Client that DataKind\\nhas the right to enter into this Agreement and perform its obligations herein. DataKind further warrants,\\nrepresents, and covenants to Client: (i) that DataKind and those acting on its behalf in performing the\\nServices are expert in performing the Services referred to by this Agreement; (ii) that DataKind and those\\nacting on its behalf in performing the services are licensed as may be required by all applicable authorities\\nin the State of New york and the City of New York, as the case may be, to perform the Services and that\\nthe Services shall be performed in accordance with applicable law; and (iii) that DataKind and those\\nacting on its behalf in performing the Services are not on the “Entities Determined To Be Non-\\n\\n\\n## DataKindAgreements__page_37\\nDataKind\\n\\nResponsive Bidders/Offerers Pursuant To The New York State Iran Divestment Act of 2012” list\\npublished by the New York State Office of General Services.\\n\\n(b) Client hereby warrants, represents, and covenants to DataKind that Client has\\nthe right to enter into this Agreement and perform its obligations herein.\\n\\n7. Confidentiality. The Purpose as defined by the Mutual Non-Disclosure Agreement\\neffective as of DATE (the “Mutual Non-Disclosure Agreement”) is extended to include the Services as\\ndefined by this Agreement. The Parties’ obligations with respect to confidentiality are set forth in (the\\n“Mutual Non-Disclosure Agreement”), which is incorporated herein by reference, in its entirety.\\nSchedule B is a list of volunteers engaged by DataKind to perform the Services and bound by the MNDA,\\npursuant to paragraph 3 of the MNDA. DataKind shall, from time to time and as necessary, provide\\nwritten updates adding individuals to Schedule B.\\n\\n8. Liability; Indemnification.\\n\\n(a) Subject to the availability of lawful appropriations and consistent with Section\\n8 of the New York State Court of Claims Act, Client shall hold DataKind, its parent companies, divisions,\\nsubsidiaries and affiliated divisions and companies, assigns, and the shareholders, directors, officers,\\nemployees, consultants and agents of the foregoing (the “DataKind Indemnified Parties”) harmless from\\nand indemnify any DataKind Indemnified Party for any DataKind Indemnified party for any final\\njudgment of a court of competent jurisdiction arising out of the actual or alleged infringement or\\nmisappropriation of any Client Content to the extent attributable to the negligence of Client or of its\\nofficers or employees when acting within the course and scope of their employment.\\n\\n(b) DataKind assumes liability for, and shall indemnify, defend, protect, save and\\nhold harmless Client, its parent companies, divisions, subsidiaries and affiliated divisions and companies,\\nassigns, and the shareholders, directors, officers, employees and agents (excluding Client’s consultants\\nand independent contractors) of the foregoing (the “Client Indemnified Parties”) from and against any\\nthird-party claims, actions or suits brought against any Client Indemnified Party, together with all\\nrelated costs, liabilities, judgments, obligations, losses, penalties, expenses or damages (including,\\nwithout limitation, legal fees and expenses) arising out of the actual or alleged infringement or\\nmisappropriation by any Work Product of any third party intellectual property right, unless such\\ninfringement is caused by any Client Content and would not have occurred but for such Client Content.\\n\\n(c) EXCEPT TO THE EXTENT SET FORTH IN SUBSECTIONS 8(a) AND 8(b), IN\\nNO EVENT SHALL EITHER PARTY BE LIABLE TO THE OTHER OR ANY THIRD PARTY FOR ANY\\nLOST PROFITS OR LOST REVENUE, OR FOR ANY INDIRECT, INCIDENTAL, SPECIAL, PUNITIVE,\\nEXEMPLARY OR CONSEQUENTIAL DAMAGES ARISING OUT OF OR IN CONNECTION WITH\\nTHE SERVICES OR THIS AGREEMENT.\\n\\n9. Miscellaneous Provisions.\\n\\n(a) Independent Contractor. DataKind shall render services as an independent\\ncontractor and nothing contained herein shall create any association, partnership, joint venture,\\nemployee or agency relationship between DataKind and Client. DataKind shall not subcontract or\\notherwise delegate any of its obligations hereunder, in whole or in part, without prior notification to\\n\\n\\n## DataKindAgreements__page_38\\nDataKind\\n\\nClient of the subcontractor’s name and contact information. DataKind understands and agrees that it is\\nresponsible for ensuring that any subcontractor complies with those requirements of this Agreement\\nthat apply to the services to be provided by the subcontractor, including but not limited to Sections 6(a)\\nand 7. DataKind further understands and agrees that Client’s approval of a particular subcontractor does\\nnot relieve DataKind of its responsibility and liability for performance of this agreement.\\n\\n(b) Entire Agreement; Amendment. Except for the Mutual Non-Disclosure\\nAgreement, this Agreement shall constitute the entire understanding between the Parties with respect\\nto the subject matter hereof, shall supersede any prior agreements between Client and DataKind with\\nrespect thereto, and may not be amended except by a writing signed by both Parties.\\n\\n(c) Governing Law; Dispute Resolution. This Agreement, and all matters arising\\ndirectly or indirectly from this Agreement, shall be governed by and construed in accordance with the\\nlaws of the State of New York, without regard to its conflict of laws rules applicable to contracts to be\\nperformed entirely within the State of New York.\\n\\n(d) Counterparts. This Agreement may be executed in counterparts (which may\\nbe exchanged by facsimile), each of which shall be deemed an original, but which together shall\\nconstitute one and the same instrument.\\n\\n(e) Severability. The illegality, invalidity, or unenforceability of such provision\\nshall not in any manner affect or render illegal, invalid or unenforceable any other provision of this\\nAgreement, and that provision, and this Agreement generally, shall be reformed, construed and enforced\\nso as to most nearly give lawful effect to the intent of the parties as expressed in this Agreement.\\n\\n(f) Conflicts of Interest. DataKind affirms that to the best of DataKind’s\\nknowledge there exists no actual or potential conflict between the Services and DataKind’s business or\\nfinancial interests, or those of any employee of DataKind, and no trustee, officer, or employee of Client,\\nor other director, officer, employee or person whose salary is payable in whole or in part from the\\ntreasury of the City of New York or the State of New York is directly or indirectly interested in this\\nagreement. Should this situation change during the term of this Agreement, DataKind shall promptly\\nnotify Client. Client reserves the right in its sole discretion to determine whether or not any of the\\ninterests required to be disclosed under this subsection 9(f) shall disqualify DataKind from performing\\nthe Services.\\n\\n(g) NYS Appendix A. Appendix A: Standard Clauses for New York State Contracts\\n(“Appendix A”) is attached hereto, and its terms and conditions are hereby incorporated by reference.\\nThe term “State” in Appendix A includes the State of New York and The City University of New York,\\nwhich is a “contracting agency” and “State agency” for purposes of Appendix A. If there is any conflict\\nbetween Appendix A and the terms and conditions of this Agreement, the conflict shall be resolved by\\ngiving precedence to Appendix A.\\n\\nIN WITNESS WHEREOF, each Party has, as of the Effective Date, caused this Agreement to be\\nexecuted by its duly authorized representative.\\n\\n\\n## DataKindAgreements__page_39\\nDataKind\\n\\nDataKind, Inc.\\n\\nwy Lok 9\\n\\nName (printed): Caitlin Augustin\\n\\nTitle: Vice President, Product & Programs\\n\\nDate: 9/25/23\\n\\nCLIENT\\nName (printed): Mark Flower\\n\\nTitle: VP & COO\\n\\nDate:09/1 1/2023\\n\\n\\n## DataKindAgreements__page_40\\nDataKind\\n\\nSCHEDULE A\\n\\nDataKind will work with John Jay College to further develop the tools to support targeted\\ninterventions to increase 6 year graduation rates for students at the College.\\n\\nDataKind will conduct the following activities with John Jay College:\\n\\ne Planning\\n© Hold scoping conversations to discuss implementation contexts at the College to\\nnarrow in on the unique needs of the College\\ne Development\\no Representatives from the implementing team at John Jay College:\\nm Consult on methodology and implementation and discuss project insights\\nat regular meetings with the DataKind development and product teams\\n(cadence TBD depending on each team’s availability and needs)\\nm_ Take part in user interviews in the effort to develop a “no code” front end\\nuser interface and user experience\\nm Test components of the tooling on an ongoing basis\\ne Launch & implementation\\no John Jay College implementation team tests the application for use and\\nimplementation using materials developed by DataKind in consultation with the\\nCollege\\n© Implementing team(s) meet with DataKind for training on tool use and feedback\\non implementation materials (i.e. user guide, development documentation, etc)\\ne Wrap-up\\no Collaborate with DataKind on a public tool announcement (ie public event, press\\nrelease, other public facing materials)\\n\\nNo fees are required in the provision of these services.\\n\\nDataKind commits to hosting and maintaining this solution for two years after the 14-month life of the\\ngrant and product development timeline.\\n\\n\\n## DataKindAgreements__page_41\\nAPPENDIX A\\n\\nSTANDARD CLAUSES FOR NEW YORK STATE CONTRACTS\\n\\nPLEASE RETAIN THIS DOCUMENT\\nFOR FUTURE REFERENCE.\\n\\nOctober 2019\\n\\n\\n## DataKindAgreements__page_42\\nSTANDARD CLAUSES FOR NYS CONTRACTS APPENDIXA\\n\\nTABLE OF CONTENTS\\n\\nPage\\n1. Executory Clause 3\\n2. Non-Assignment Clause 3\\n3. Comptroller’s Approval 3\\n4. Workers’ Compensation Benefits 3\\n5. Non-Discrimination Requirements 3\\n6. Wage and Hours Provisions 3-4\\n7. Non-Collusive Bidding Certification 4\\n8. International Boycott Prohibition 4\\n9. Set-Off Rights 4\\n10. Records 4\\n11. Identifying Information and Privacy Notification 4\\n12. Equal Employment Opportunities For Minorities and Women 4-5\\n13. Conflicting Terms 5\\n14. Governing Law 5\\n15. Late Payment 5\\n16. No Arbitration 5\\n17. Service of Process 5\\n18. Prohibition on Purchase of Tropical Hardwoods 5-6\\n19. MacBride Fair Employment Principles 6\\n20. Omnibus Procurement Act of 1992 6\\n21. Reciprocity and Sanctions Provisions 6\\n22. Compliance with Breach Notification and Data Security Laws 6\\n23. Compliance with Consultant Disclosure Law 6\\n24. Procurement Lobbying 7\\n25. Certification of Registration to Collect Sales and Compensating Use Tax by Certain 7\\nState Contractors, Affiliates and Subcontractors\\n26. Iran Divestment Act 7\\n27. Admissibility of Contract 7\\n\\nPage 2 October 2019\\n\\n\\n## DataKindAgreements__page_43\\nSTANDARD CLAUSES FOR NYS CONTRACTS\\n\\nSTANDARD CLAUSES FOR NYS CONTRACTS\\n\\nThe parties to the attached contract, license, lease, amendment\\nor other agreement of any kind (hereinafter, \"the contract\" or\\n\"this contract\") agree to be bound by the following clauses\\nwhich are hereby made a part of the contract (the word\\n\"Contractor\" herein refers to any party other than the State,\\nwhether a contractor, licenser, licensee, lessor, lessee or any\\n\\nother party):\\n\\n1. EXECUTORY CLAUSE. In accordance with Section 41\\nof the State Finance Law, the State shall have no liability under\\nthis contract to the Contractor or to anyone else beyond funds\\nappropriated and available for this contract.\\n\\n2. NON-ASSIGNMENT CLAUSE. In accordance with\\nSection 138 of the State Finance Law, this contract may not be\\nassigned by the Contractor or its right, title or interest therein\\nassigned, transferred, conveyed, sublet or otherwise disposed of\\nwithout the State’s previous written consent, and attempts to do\\nso are null and void. Notwithstanding the foregoing, such prior\\nwritten consent of an assignment of a contract let pursuant to\\nArticle XI of the State Finance Law may be waived at the\\ndiscretion of the contracting agency and with the concurrence\\nof the State Comptroller where the original contract was subject\\nto the State Comptroller’s approval, where the assignment is\\ndue to a reorganization, merger or consolidation of the\\nContractor’s business entity or enterprise. The State retains its\\nright to approve an assignment and to require that any\\nContractor demonstrate its responsibility to do business with\\nthe State. The Contractor may, however, assign its right to\\nreceive payments without the State’s prior written consent\\nunless this contract concerns Certificates of Participation\\npursuant to Article 5-A of the State Finance Law.\\n\\n3. COMPTROLLER\\'S APPROVAL. In accordance with\\nSection 112 of the State Finance Law (or, if this contract is with\\nthe State University or City University of New York, Section\\n355 or Section 6218 of the Education Law), if this contract\\nexceeds $50,000 (or the minimum thresholds agreed to by the\\nOffice of the State Comptroller for certain S.U.N.Y. and\\nC.U.N.Y. contracts), or if this is an amendment for any amount\\nto a contract which, as so amended, exceeds said statutory\\namount, or if, by this contract, the State agrees to give\\nsomething other than money when the value or reasonably\\nestimated value of such consideration exceeds $25,000, it shall\\nnot be valid, effective or binding upon the State until it has been\\napproved by the State Comptroller and filed in his office.\\nComptroller\\'s approval of contracts let by the Office of General\\nServices is required when such contracts exceed $85,000 (State\\nFinance Law § 163.6-a). However, such pre-approval shall not\\nbe required for any contract established as a centralized contract\\nthrough the Office of General Services or for a purchase order\\nor other transaction issued under such centralized contract.\\n\\n4. WORKERS\\' COMPENSATION _ BENEFITS. In\\n\\naccordance with Section 142 of the State Finance Law, this\\ncontract shall be void and of no force and effect unless the\\n\\nPage 3\\n\\nContractor shall provide and maintain coverage during the life\\nof this contract for the benefit of such employees as are required\\nto be covered by the provisions of the Workers\\' Compensation\\nLaw.\\n\\n5. NON-DISCRIMINATION REQUIREMENTS. To the\\n\\nextent required by Article 15 of the Executive Law (also known\\nas the Human Rights Law) and all other State and Federal\\nstatutory and constitutional non-discrimination provisions, the\\nContractor will not discriminate against any employee or\\napplicant for employment, nor subject any individual to\\nharassment, because of age, race, creed, color, national origin,\\nsexual orientation, gender identity or expression, military\\nstatus, sex, disability, predisposing genetic characteristics,\\nfamilial status, marital status, or domestic violence victim status\\nor because the individual has opposed any practices forbidden\\nunder the Human Rights Law or has filed a complaint, testified,\\nor assisted in any proceeding under the Human Rights Law.\\nFurthermore, in accordance with Section 220-e of the Labor\\nLaw, if this is a contract for the construction, alteration or repair\\nof any public building or public work or for the manufacture,\\nsale or distribution of materials, equipment or supplies, and to\\nthe extent that this contract shall be performed within the State\\nof New York, Contractor agrees that neither it nor its\\nsubcontractors shall, by reason of race, creed, color, disability,\\nsex, or national origin: (a) discriminate in hiring against any\\nNew York State citizen who is qualified and available to\\nperform the work; or (b) discriminate against or intimidate any\\nemployee hired for the performance of work under this contract.\\nIf this is a building service contract as defined in Section 230 of\\nthe Labor Law, then, in accordance with Section 239 thereof,\\nContractor agrees that neither it nor its subcontractors shall by\\nreason of race, creed, color, national origin, age, sex or\\ndisability: (a) discriminate in hiring against any New York\\nState citizen who is qualified and available to perform the work;\\nor (b) discriminate against or intimidate any employee hired for\\nthe performance of work under this contract. Contractor is\\nsubject to fines of $50.00 per person per day for any violation\\nof Section 220-e or Section 239 as well as possible termination\\nof this contract and forfeiture of all moneys due hereunder for\\na second or subsequent violation.\\n\\n6. WAGE AND HOURS PROVISIONS, If this is a public\\nwork contract covered by Article 8 of the Labor Law or a\\nbuilding service contract covered by Article 9 thereof, neither\\nContractor\\'s employees nor the employees of its subcontractors\\nmay be required or permitted to work more than the number of\\nhours or days stated in said statutes, except as otherwise\\nprovided in the Labor Law and as set forth in prevailing wage\\nand supplement schedules issued by the State Labor\\nDepartment. Furthermore, Contractor and its subcontractors\\nmust pay at least the prevailing wage rate and pay or provide\\nthe prevailing supplements, including the premium rates for\\novertime pay, as determined by the State Labor Department in\\naccordance with the Labor Law. Additionally, effective April\\n28, 2008, if this is a public work contract covered by Article 8\\nof the Labor Law, the Contractor understands and agrees that\\nthe filing of payrolls in a manner consistent with Subdivision 3-\\n\\nOctober 2019\\n\\n\\n## DataKindAgreements__page_44\\nSTANDARD CLAUSES FOR NYS CONTRACTS\\n\\na of Section 220 of the Labor Law shall be a condition precedent\\nto payment by the State of any State approved sums due and\\nowing for work done upon the project.\\n\\n7. NON-COLLUSIVE BIDDING CERTIFICATION. In\\naccordance with Section 139-d of the State Finance Law, if this\\ncontract was awarded based upon the submission of bids,\\nContractor affirms, under penalty of perjury, that its bid was\\narrived at independently and without collusion aimed at\\nrestricting competition. Contractor further affirms that, at the\\ntime Contractor submitted its bid, an authorized and responsible\\nperson executed and delivered to the State a non-collusive\\nbidding certification on Contractor\\'s behalf.\\n\\n8. INTERNATIONAL BOYCOTT PROHIBITION. In\\naccordance with Section 220-f of the Labor Law and Section\\n139-h of the State Finance Law, if this contract exceeds $5,000,\\nthe Contractor agrees, as a material condition of the contract,\\nthat neither the Contractor nor any substantially owned or\\naffiliated person, firm, partnership or corporation has\\nparticipated, is participating, or shall participate in an\\ninternational boycott in violation of the federal Export\\nAdministration Act of 1979 (50 USC App. Sections 2401 et\\nseq.) or regulations thereunder. If such Contractor, or any of\\nthe aforesaid affiliates of Contractor, is convicted or is\\notherwise found to have violated said laws or regulations upon\\nthe final determination of the United States Commerce\\nDepartment or any other appropriate agency of the United\\nStates subsequent to the contract\\'s execution, such contract,\\namendment or modification thereto shall be rendered forfeit and\\nvoid. The Contractor shall so notify the State Comptroller\\nwithin five (5) business days of such conviction, determination\\nor disposition of appeal (2 NYCRR § 105.4).\\n\\n9. SET-OFF RIGHTS, The State shall have all of its common\\nlaw, equitable and statutory rights of set-off. These rights shall\\ninclude, but not be limited to, the State\\'s option to withhold for\\nthe purposes of set-off any moneys due to the Contractor under\\nthis contract up to any amounts due and owing to the State with\\nregard to this contract, any other contract with any State\\ndepartment or agency, including any contract for a term\\ncommencing prior to the term of this contract, plus any amounts\\ndue and owing to the State for any other reason including,\\nwithout limitation, tax delinquencies, fee delinquencies or\\nmonetary penalties relative thereto. The State shall exercise its\\nset-off rights in accordance with normal State practices\\nincluding, in cases of set-off pursuant to an audit, the\\nfinalization of such audit by the State agency, its\\nrepresentatives, or the State Comptroller.\\n\\n10. RECORDS. The Contractor shall establish and maintain\\ncomplete and accurate books, records, documents, accounts and\\nother evidence directly pertinent to performance under this\\ncontract (hereinafter, collectively, the \"Records\"). The Records\\nmust be kept for the balance of the calendar year in which they\\nwere made and for six (6) additional years thereafter. The State\\nComptroller, the Attorney General and any other person or\\nentity authorized to conduct an examination, as well as the\\n\\nPage 4\\n\\nagency or agencies involved in this contract, shall have access\\nto the Records during normal business hours at an office of the\\nContractor within the State of New York or, if no such office is\\navailable, at a mutually agreeable and reasonable venue within\\nthe State, for the term specified above for the purposes of\\ninspection, auditing and copying. The State shall take\\nreasonable steps to protect from public disclosure any of the\\nRecords which are exempt from disclosure under Section 87 of\\nthe Public Officers Law (the \"Statute\") provided that: (i) the\\nContractor shall timely inform an appropriate State official, in\\nwriting, that said records should not be disclosed; and (ii) said\\nrecords shall be sufficiently identified; and (iii) designation of\\nsaid records as exempt under the Statute is reasonable. Nothing\\ncontained herein shall diminish, or in any way adversely affect,\\nthe State\\'s right to discovery in any pending or future litigation.\\n\\nU1. IDENTIFYING INFORMATION AND PRIVACY\\nNOTIFICATION. (a) Identification Number(s). Every\\ninvoice or New York State Claim for Payment submitted to a\\nNew York State agency by a payee, for payment for the sale of\\ngoods or services or for transactions (e.g., leases, easements,\\nlicenses, etc.) related to real or personal property must include\\nthe payee\\'s identification number. The number is any or all of\\nthe following: (i) the payee’s Federal employer identification\\nnumber, (ii) the payee’s Federal social security number, and/or\\n(iii) the payee’s Vendor Identification Number assigned by the\\nStatewide Financial System. Failure to include such number or\\nnumbers may delay payment. Where the payee does not have\\nsuch number or numbers, the payee, on its invoice or Claim for\\nPayment, must give the reason or reasons why the payee does\\nnot have such number or numbers.\\n\\n(b) Privacy Notification. (1) The authority to request the above\\npersonal information from a seller of goods or services or a\\nlessor of real or personal property, and the authority to maintain\\nsuch information, is found in Section 5 of the State Tax Law.\\nDisclosure of this information by the seller or lessor to the State\\nis mandatory. The principal purpose for which the information\\nis collected is to enable the State to identify individuals,\\nbusinesses and others who have been delinquent in filing tax\\nreturns or may have understated their tax liabilities and to\\ngenerally identify persons affected by the taxes administered by\\nthe Commissioner of Taxation and Finance. The information\\nwill be used for tax administration purposes and for any other\\npurpose authorized by law. (2) The personal information is\\nrequested by the purchasing unit of the agency contracting to\\npurchase the goods or services or lease the real or personal\\nproperty covered by this contract or lease. The information is\\nmaintained in the Statewide Financial System by the Vendor\\nManagement Unit within the Bureau of State Expenditures,\\nOffice of the State Comptroller, 110 State Street, Albany, New\\nYork 12236.\\n\\n12. EQUAL EMPLOYMENT OPPORTUNITIES FOR\\nMINORITIES AND WOMEN. In accordance with Section\\n\\n312 of the Executive Law and 5 NYCRR Part 143, if this\\ncontract is: (i) a written agreement or purchase order\\ninstrument, providing for a total expenditure in excess of\\n\\nOctober 2019\\n\\n\\n## DataKindAgreements__page_45\\nSTANDARD CLAUSES FOR NYS CONTRACTS\\n\\n$25,000.00, whereby a contracting agency is committed to\\nexpend or does expend funds in return for labor, services,\\nsupplies, equipment, materials or any combination of the\\nforegoing, to be performed for, or rendered or furnished to the\\ncontracting agency; or (ii) a written agreement in excess of\\n$100,000.00 whereby a contracting agency is committed to\\nexpend or does expend funds for the acquisition, construction,\\ndemolition, replacement, major repair or renovation of real\\nproperty and improvements thereon; or (iii) a written agreement\\nin excess of $100,000.00 whereby the owner of a State assisted\\nhousing project is committed to expend or does expend funds\\nfor the acquisition, construction, demolition, replacement,\\nmajor repair or renovation of real property and improvements\\nthereon for such project, then the following shall apply and by\\nsigning this agreement the Contractor certifies and affirms that\\nit is Contractor’s equal employment opportunity policy that:\\n\\n(a) The Contractor will not discriminate against employees or\\napplicants for employment because of race, creed, color,\\nnational origin, sex, age, disability or marital status, shall make\\nand document its conscientious and active efforts to employ and\\nutilize minority group members and women in its work force\\non State contracts and will undertake or continue existing\\nprograms of affirmative action to ensure that minority group\\nmembers and women are afforded equal employment\\nopportunities without discrimination. Affirmative action shall\\nmean recruitment, employment, job assignment, promotion,\\nupgradings, demotion, transfer, layoff, or termination and rates\\nof pay or other forms of compensation;\\n\\n(b) at the request of the contracting agency, the Contractor shall\\nrequest each employment agency, labor union, or authorized\\nrepresentative of workers with which it has a collective\\nbargaining or other agreement or understanding, to furnish a\\nwritten statement that such employment agency, labor union or\\nrepresentative will not discriminate on the basis of race, creed,\\ncolor, national origin, sex, age, disability or marital status and\\nthat such union or representative will affirmatively cooperate in\\nthe implementation of the Contractor\\'s obligations herein; and\\n\\n(c) the Contractor shall state, in all solicitations or\\nadvertisements for employees, that, in the performance of the\\nState contract, all qualified applicants will be afforded equal\\nemployment opportunities without discrimination because of\\nrace, creed, color, national origin, sex, age, disability or marital\\nstatus.\\n\\nContractor will include the provisions of \"a,\" \"b,\" and \"c\"\\nabove, in every subcontract over $25,000.00 for the\\nconstruction, demolition, replacement, major repair,\\nrenovation, planning or design of real property and\\nimprovements thereon (the \"Work\") except where the Work is\\nfor the beneficial use of the Contractor. Section 312 does not\\napply to: (i) work, goods or services unrelated to this contract;\\nor (ii) employment outside New York State. The State shall\\nconsider compliance by a contractor or subcontractor with the\\nrequirements of any federal law concerning equal employment\\nopportunity which effectuates the purpose of this clause. The\\n\\nPage 5\\n\\ncontracting agency shall determine whether the imposition of\\nthe requirements of the provisions hereof duplicate or conflict\\nwith any such federal law and if such duplication or conflict\\nexists, the contracting agency shall waive the applicability of\\nSection 312 to the extent of such duplication or conflict.\\nContractor will comply with all duly promulgated and lawful\\nrules and regulations of the Department of Economic\\nDevelopment’s Division of Minority and Women\\'s Business\\nDevelopment pertaining hereto.\\n\\n13. CONFLICTING TERMS. In the event of a conflict\\nbetween the terms of the contract (including any and all\\nattachments thereto and amendments thereof) and the terms of\\nthis Appendix A, the terms of this Appendix A shall control.\\n\\n14. GOVERNING LAW. This contract shall be governed by\\nthe laws of the State of New York except where the Federal\\nsupremacy clause requires otherwise.\\n\\n15. LATE PAYMENT. Timeliness of payment and any\\ninterest to be paid to Contractor for late payment shall be\\ngoverned by Article 11-A of the State Finance Law to the extent\\nrequired by law.\\n\\n16. NO ARBITRATION. Disputes involving this contract,\\nincluding the breach or alleged breach thereof, may not be\\nsubmitted to binding arbitration (except where statutorily\\nauthorized), but must, instead, be heard in a court of competent\\njurisdiction of the State of New York.\\n\\n17. SERVICE OF PROCESS. In addition to the methods of\\nservice allowed by the State Civil Practice Law & Rules\\n(\"CPLR\"), Contractor hereby consents to service of process\\nupon it by registered or certified mail, return receipt requested.\\nService hereunder shall be complete upon Contractor\\'s actual\\nreceipt of process or upon the State\\'s receipt of the return\\nthereof by the United States Postal Service as refused or\\nundeliverable. Contractor must promptly notify the State, in\\nwriting, of each and every change of address to which service\\nof process can be made. Service by the State to the last known\\naddress shall be sufficient. Contractor will have thirty (30)\\ncalendar days after service hereunder is complete in which to\\nrespond.\\n\\n18. PROHIBITION ON PURCHASE OF TROPICAL\\nHARDWOODS. The Contractor certifies and warrants that all\\nwood products to be used under this contract award will be in\\naccordance with, but not limited to, the specifications and\\nprovisions of Section 165 of the State Finance Law, (Use of\\nTropical Hardwoods) which prohibits purchase and use of\\ntropical hardwoods, unless specifically exempted, by the State\\nor any governmental agency or political subdivision or public\\nbenefit corporation. Qualification for an exemption under this\\nlaw will be the responsibility of the contractor to establish to\\nmeet with the approval of the State.\\n\\nIn addition, when any portion of this contract involving the use\\nof woods, whether supply or installation, is to be performed by\\n\\nOctober 2019\\n\\n\\n## DataKindAgreements__page_46\\nSTANDARD CLAUSES FOR NYS CONTRACTS\\n\\nany subcontractor, the prime Contractor will indicate and\\ncertify in the submitted bid proposal that the subcontractor has\\nbeen informed and is in compliance with specifications and\\nprovisions regarding use of tropical hardwoods as detailed in\\n§ 165 State Finance Law. Any such use must meet with the\\napproval of the State; otherwise, the bid may not be considered\\nresponsive. Under bidder certifications, proof of qualification\\nfor exemption will be the responsibility of the Contractor to\\nmeet with the approval of the State.\\n\\n19. MACBRIDE FAIR EMPLOYMENT PRINCIPLES. In\\naccordance with the MacBride Fair Employment Principles\\n(Chapter 807 of the Laws of 1992), the Contractor hereby\\nstipulates that the Contractor either (a) has no business\\noperations in Northern Ireland, or (b) shall take lawful steps in\\ngood faith to conduct any business operations in Northern\\nIreland in accordance with the MacBride Fair Employment\\nPrinciples (as described in Section 165 of the New York State\\nFinance Law), and shall permit independent monitoring of\\ncompliance with such principles.\\n\\n20. OMNIBUS PROCUREMENT ACT OF 1992. It is the\\npolicy of New York State to maximize opportunities for the\\nparticipation of New York State business enterprises, including\\nminority- and women-owned business enterprises as bidders,\\nsubcontractors and suppliers on its procurement contracts.\\n\\nInformation on the availability of New York State\\nsubcontractors and suppliers is available from:\\n\\nNYS Department of Economic Development\\nDivision for Small Business\\n\\nAlbany, New York 12245\\n\\nTelephone: 518-292-5100\\n\\nFax: 518-292-5884\\n\\nemail: opa@esd.ny.gov\\n\\nA directory of certified minority- and women-owned business\\nenterprises is available from:\\n\\nNYS Department of Economic Development\\n\\nDivision of Minority and Women\\'s Business Development\\n633 Third Avenue\\n\\nNew York, NY 10017\\n\\n212-803-2414\\n\\nemail: mwbecertification@esd.ny.gov\\nhttps://ny.newnycontracts.com/FrontEnd/VendorSearchPu\\nblic.asp\\n\\nThe Omnibus Procurement Act of 1992 (Chapter 844 of the\\nLaws of 1992, codified in State Finance Law § 139-i and Public\\nAuthorities Law § 2879(3)(n)-(p)) requires that by signing this\\nbid proposal or contract, as applicable, Contractors certify that\\nwhenever the total bid amount is greater than $1 million:\\n\\n(a) The Contractor has made reasonable efforts to encourage\\nthe participation of New York State Business Enterprises as\\nsuppliers and subcontractors, including certified minority- and\\n\\nPage 6\\n\\nwomen-owned business enterprises, on this project, and has\\nretained the documentation of these efforts to be provided upon\\nrequest to the State;\\n\\n(b) The Contractor has complied with the Federal Equal\\nOpportunity Act of 1972 (P.L. 92-261), as amended;\\n\\n(c) The Contractor agrees to make reasonable efforts to provide\\nnotification to New York State residents of employment\\nopportunities on this project through listing any such positions\\nwith the Job Service Division of the New York State\\nDepartment of Labor, or providing such notification in such\\nmanner as is consistent with existing collective bargaining\\ncontracts or agreements. The Contractor agrees to document\\nthese efforts and to provide said documentation to the State\\nupon request; and\\n\\n(d) The Contractor acknowledges notice that the State may seek\\nto obtain offset credits from foreign countries as a result of this\\ncontract and agrees to cooperate with the State in these efforts.\\n\\n21. RECIPROCITY AND SANCTIONS PROVISIONS.\\nBidders are hereby notified that if their principal place of\\nbusiness is located in a country, nation, province, state or\\npolitical subdivision that penalizes New York State vendors,\\nand if the goods or services they offer will be substantially\\nproduced or performed outside New York State, the Omnibus\\nProcurement Act 1994 and 2000 amendments (Chapter 684 and\\nChapter 383, respectively, codified in State Finance Law\\n§ 165(6) and Public Authorities Law § 2879(5)) ) require that\\nthey be denied contracts which they would otherwise obtain.\\nNOTE: As of October 2019, the list of discriminatory\\njurisdictions subject to this provision includes the states of\\nSouth Carolina, Alaska, West Virginia, Wyoming, Louisiana\\nand Hawaii.\\n\\n22. COMPLIANCE WITH BREACH NOTIFICATION\\nAND DATA SECURITY LAWS. Contractor shall comply\\nwith the provisions of the New York State Information Security\\nBreach and Notification Act (General Business Law § 899-aa\\nand State Technology Law § 208) and commencing March 21,\\n2020 shall also comply with General Business Law § 899-bb.\\n\\n23. COMPLIANCE WITH CONSULTANT\\nDISCLOSURE LAW. If this is a contract for consulting\\nservices, defined for purposes of this requirement to include\\nanalysis, evaluation, research, training, data processing,\\ncomputer programming, engineering, environmental, health,\\nand mental health services, accounting, auditing, paralegal,\\nlegal or similar services, then, in accordance with Section 163\\n(4)(g) of the State Finance Law (as amended by Chapter 10 of\\nthe Laws of 2006), the Contractor shall timely, accurately and\\nproperly comply with the requirement to submit an annual\\nemployment report for the contract to the agency that awarded\\nthe contract, the Department of Civil Service and the State\\nComptroller.\\n\\nOctober 2019\\n\\n\\n## DataKindAgreements__page_47\\nSTANDARD CLAUSES FOR NYS CONTRACTS\\n\\n24. PROCUREMENT LOBBYING. To the extent this\\nagreement is a \"procurement contract\" as defined by State\\nFinance Law §§ 139-j and 139-k, by signing this agreement the\\ncontractor certifies and affirms that all disclosures made in\\naccordance with State Finance Law §§ 139-j and 139-k are\\ncomplete, true and accurate. In the event such certification is\\nfound to be intentionally false or intentionally incomplete, the\\nState may terminate the agreement by providing written\\nnotification to the Contractor in accordance with the terms of\\nthe agreement.\\n\\n25. CERTIFICATION OF REGISTRATION TO\\nCOLLECT SALES AND COMPENSATING USE TAX BY\\nCERTAIN STATE CONTRACTORS, AFFILIATES AND\\nSUBCONTRACTORS.\\n\\nTo the extent this agreement is a contract as defined by Tax Law\\n§ 5-a, if the contractor fails to make the certification required\\nby Tax Law § 5-a or if during the term of the contract, the\\nDepartment of Taxation and Finance or the covered agency, as\\ndefined by Tax Law § 5-a, discovers that the certification, made\\nunder penalty of perjury, is false, then such failure to file or\\nfalse certification shall be a material breach of this contract and\\nthis contract may be terminated, by providing written\\nnotification to the Contractor in accordance with the terms of\\nthe agreement, if the covered agency determines that such\\naction is in the best interest of the State.\\n\\n26. IRAN DIVESTMENT ACT. By entering into this\\nAgreement, Contractor certifies in accordance with State\\nFinance Law § 165-a that it is not on the “Entities Determined\\nto be Non-Responsive Bidders/Offerers pursuant to the New\\nYork State Iran Divestment Act of 2012” (“Prohibited Entities\\nList”) posted at: https://ogs.ny.gov/list-entities-determined-be-\\n\\nnon-responsive-biddersofferers-pursuant-nys-iran-divestment-\\nact-2012\\n\\nContractor further certifies that it will not utilize on this\\nContract any subcontractor that is identified on the Prohibited\\nEntities List. Contractor agrees that should it seek to renew or\\nextend this Contract, it must provide the same certification at\\nthe time the Contract is renewed or extended. Contractor also\\nagrees that any proposed Assignee of this Contract will be\\nrequired to certify that it is not on the Prohibited Entities List\\nbefore the contract assignment will be approved by the State.\\n\\nDuring the term of the Contract, should the state agency receive\\ninformation that a person (as defined in State Finance Law\\n§ 165-a) is in violation of the above-referenced certifications,\\nthe state agency will review such information and offer the\\nperson an opportunity to respond. If the person fails to\\ndemonstrate that it has ceased its engagement in the investment\\nactivity which is in violation of the Act within 90 days after the\\ndetermination of such violation, then the state agency shall take\\nsuch action as may be appropriate and provided for by law, rule,\\nor contract, including, but not limited to, imposing sanctions,\\nseeking compliance, recovering damages, or declaring the\\nContractor in default.\\n\\nPage 7\\n\\nThe state agency reserves the right to reject any bid, request for\\nassignment, renewal or extension for an entity that appears on\\nthe Prohibited Entities List prior to the award, assignment,\\nrenewal or extension of a contract, and to pursue a\\nresponsibility review with respect to any entity that is awarded\\na contract and appears on the Prohibited Entities list after\\ncontract award.\\n\\n27. ADMISSIBILITY OF _REPRODUCTION OF\\nCONTRACT. Notwithstanding the best evidence rule or any\\nother legal principle or rule of evidence to the contrary, the\\nContractor acknowledges and agrees that it waives any and all\\nobjections to the admissibility into evidence at any court\\nproceeding or to the use at any examination before trial of an\\nelectronic reproduction of this contract, in the form approved\\nby the State Comptroller, if such approval was required,\\nregardless of whether the original of said contract is in\\nexistence.\\n\\nOctober 2019\\n\\n\\n'"
      ]
     },
     "execution_count": 18,
     "metadata": {},
     "output_type": "execute_result"
    }
   ],
   "source": [
    "## test to see if it works!\n",
    "text"
   ]
  },
  {
   "cell_type": "markdown",
   "id": "52d3bcd8-d118-4277-89b9-c22b61630bd5",
   "metadata": {},
   "source": [
    "## Part 2: \n",
    "Write a for loop that extracts text from pdfs, then does nlp, then exports to CSVs"
   ]
  },
  {
   "cell_type": "code",
   "execution_count": 22,
   "id": "688ff456-b5d2-4b67-9995-3005412c2e5f",
   "metadata": {},
   "outputs": [],
   "source": [
    "import spacy"
   ]
  },
  {
   "cell_type": "code",
   "execution_count": 39,
   "id": "233f8789-0bdd-4b85-9888-8bbf35e7c241",
   "metadata": {},
   "outputs": [
    {
     "name": "stderr",
     "output_type": "stream",
     "text": [
      "/Users/Julian/anaconda3/lib/python3.11/site-packages/spacy/util.py:910: UserWarning: [W095] Model 'en_core_web_trf' (3.5.0) was trained with spaCy v3.5.0 and may not be 100% compatible with the current version (3.8.2). If you see errors or degraded performance, download a newer compatible model or retrain your custom model with the current spaCy version. For more details and available updates, run: python -m spacy validate\n",
      "  warnings.warn(warn_msg)\n",
      "/Users/Julian/anaconda3/lib/python3.11/site-packages/spacy_transformers/layers/hf_shim.py:120: FutureWarning: You are using `torch.load` with `weights_only=False` (the current default value), which uses the default pickle module implicitly. It is possible to construct malicious pickle data which will execute arbitrary code during unpickling (See https://github.com/pytorch/pytorch/blob/main/SECURITY.md#untrusted-models for more details). In a future release, the default value for `weights_only` will be flipped to `True`. This limits the functions that could be executed during unpickling. Arbitrary objects will no longer be allowed to be loaded via this mode unless they are explicitly allowlisted by the user via `torch.serialization.add_safe_globals`. We recommend you start setting `weights_only=True` for any use case where you don't have full control of the loaded file. Please open an issue on GitHub for any issues related to this experimental feature.\n",
      "  self._model.load_state_dict(torch.load(filelike, map_location=device))\n"
     ]
    },
    {
     "name": "stdout",
     "output_type": "stream",
     "text": [
      "Processing PDF 1 of 1: Services_Agreement_-_Datakind_-_JJC_-_2022.02.15_AF_JD_Redacted\n",
      "huggingface/tokenizers: The current process just got forked, after parallelism has already been used. Disabling parallelism to avoid deadlocks...\n",
      "To disable this warning, you can either:\n",
      "\t- Avoid using `tokenizers` before the fork if possible\n",
      "\t- Explicitly set the environment variable TOKENIZERS_PARALLELISM=(true | false)\n",
      "  - Processed page 1 of 18 in Services_Agreement_-_Datakind_-_JJC_-_2022.02.15_AF_JD_Redacted\n",
      "huggingface/tokenizers: The current process just got forked, after parallelism has already been used. Disabling parallelism to avoid deadlocks...\n",
      "To disable this warning, you can either:\n",
      "\t- Avoid using `tokenizers` before the fork if possible\n",
      "\t- Explicitly set the environment variable TOKENIZERS_PARALLELISM=(true | false)\n",
      "  - Processed page 2 of 18 in Services_Agreement_-_Datakind_-_JJC_-_2022.02.15_AF_JD_Redacted\n",
      "huggingface/tokenizers: The current process just got forked, after parallelism has already been used. Disabling parallelism to avoid deadlocks...\n",
      "To disable this warning, you can either:\n",
      "\t- Avoid using `tokenizers` before the fork if possible\n",
      "\t- Explicitly set the environment variable TOKENIZERS_PARALLELISM=(true | false)\n",
      "  - Processed page 3 of 18 in Services_Agreement_-_Datakind_-_JJC_-_2022.02.15_AF_JD_Redacted\n",
      "huggingface/tokenizers: The current process just got forked, after parallelism has already been used. Disabling parallelism to avoid deadlocks...\n",
      "To disable this warning, you can either:\n",
      "\t- Avoid using `tokenizers` before the fork if possible\n",
      "\t- Explicitly set the environment variable TOKENIZERS_PARALLELISM=(true | false)\n",
      "  - Processed page 4 of 18 in Services_Agreement_-_Datakind_-_JJC_-_2022.02.15_AF_JD_Redacted\n",
      "huggingface/tokenizers: The current process just got forked, after parallelism has already been used. Disabling parallelism to avoid deadlocks...\n",
      "To disable this warning, you can either:\n",
      "\t- Avoid using `tokenizers` before the fork if possible\n",
      "\t- Explicitly set the environment variable TOKENIZERS_PARALLELISM=(true | false)\n",
      "  - Processed page 5 of 18 in Services_Agreement_-_Datakind_-_JJC_-_2022.02.15_AF_JD_Redacted\n",
      "huggingface/tokenizers: The current process just got forked, after parallelism has already been used. Disabling parallelism to avoid deadlocks...\n",
      "To disable this warning, you can either:\n",
      "\t- Avoid using `tokenizers` before the fork if possible\n",
      "\t- Explicitly set the environment variable TOKENIZERS_PARALLELISM=(true | false)\n",
      "  - Processed page 6 of 18 in Services_Agreement_-_Datakind_-_JJC_-_2022.02.15_AF_JD_Redacted\n",
      "huggingface/tokenizers: The current process just got forked, after parallelism has already been used. Disabling parallelism to avoid deadlocks...\n",
      "To disable this warning, you can either:\n",
      "\t- Avoid using `tokenizers` before the fork if possible\n",
      "\t- Explicitly set the environment variable TOKENIZERS_PARALLELISM=(true | false)\n",
      "  - Processed page 7 of 18 in Services_Agreement_-_Datakind_-_JJC_-_2022.02.15_AF_JD_Redacted\n",
      "huggingface/tokenizers: The current process just got forked, after parallelism has already been used. Disabling parallelism to avoid deadlocks...\n",
      "To disable this warning, you can either:\n",
      "\t- Avoid using `tokenizers` before the fork if possible\n",
      "\t- Explicitly set the environment variable TOKENIZERS_PARALLELISM=(true | false)\n",
      "  - Processed page 8 of 18 in Services_Agreement_-_Datakind_-_JJC_-_2022.02.15_AF_JD_Redacted\n",
      "huggingface/tokenizers: The current process just got forked, after parallelism has already been used. Disabling parallelism to avoid deadlocks...\n",
      "To disable this warning, you can either:\n",
      "\t- Avoid using `tokenizers` before the fork if possible\n",
      "\t- Explicitly set the environment variable TOKENIZERS_PARALLELISM=(true | false)\n",
      "  - Processed page 9 of 18 in Services_Agreement_-_Datakind_-_JJC_-_2022.02.15_AF_JD_Redacted\n",
      "huggingface/tokenizers: The current process just got forked, after parallelism has already been used. Disabling parallelism to avoid deadlocks...\n",
      "To disable this warning, you can either:\n",
      "\t- Avoid using `tokenizers` before the fork if possible\n",
      "\t- Explicitly set the environment variable TOKENIZERS_PARALLELISM=(true | false)\n",
      "  - Processed page 10 of 18 in Services_Agreement_-_Datakind_-_JJC_-_2022.02.15_AF_JD_Redacted\n",
      "huggingface/tokenizers: The current process just got forked, after parallelism has already been used. Disabling parallelism to avoid deadlocks...\n",
      "To disable this warning, you can either:\n",
      "\t- Avoid using `tokenizers` before the fork if possible\n",
      "\t- Explicitly set the environment variable TOKENIZERS_PARALLELISM=(true | false)\n",
      "  - Processed page 11 of 18 in Services_Agreement_-_Datakind_-_JJC_-_2022.02.15_AF_JD_Redacted\n",
      "huggingface/tokenizers: The current process just got forked, after parallelism has already been used. Disabling parallelism to avoid deadlocks...\n",
      "To disable this warning, you can either:\n",
      "\t- Avoid using `tokenizers` before the fork if possible\n",
      "\t- Explicitly set the environment variable TOKENIZERS_PARALLELISM=(true | false)\n",
      "  - Processed page 12 of 18 in Services_Agreement_-_Datakind_-_JJC_-_2022.02.15_AF_JD_Redacted\n",
      "huggingface/tokenizers: The current process just got forked, after parallelism has already been used. Disabling parallelism to avoid deadlocks...\n",
      "To disable this warning, you can either:\n",
      "\t- Avoid using `tokenizers` before the fork if possible\n",
      "\t- Explicitly set the environment variable TOKENIZERS_PARALLELISM=(true | false)\n",
      "  - Processed page 13 of 18 in Services_Agreement_-_Datakind_-_JJC_-_2022.02.15_AF_JD_Redacted\n",
      "huggingface/tokenizers: The current process just got forked, after parallelism has already been used. Disabling parallelism to avoid deadlocks...\n",
      "To disable this warning, you can either:\n",
      "\t- Avoid using `tokenizers` before the fork if possible\n",
      "\t- Explicitly set the environment variable TOKENIZERS_PARALLELISM=(true | false)\n",
      "  - Processed page 14 of 18 in Services_Agreement_-_Datakind_-_JJC_-_2022.02.15_AF_JD_Redacted\n",
      "huggingface/tokenizers: The current process just got forked, after parallelism has already been used. Disabling parallelism to avoid deadlocks...\n",
      "To disable this warning, you can either:\n",
      "\t- Avoid using `tokenizers` before the fork if possible\n",
      "\t- Explicitly set the environment variable TOKENIZERS_PARALLELISM=(true | false)\n",
      "  - Processed page 15 of 18 in Services_Agreement_-_Datakind_-_JJC_-_2022.02.15_AF_JD_Redacted\n",
      "huggingface/tokenizers: The current process just got forked, after parallelism has already been used. Disabling parallelism to avoid deadlocks...\n",
      "To disable this warning, you can either:\n",
      "\t- Avoid using `tokenizers` before the fork if possible\n",
      "\t- Explicitly set the environment variable TOKENIZERS_PARALLELISM=(true | false)\n",
      "  - Processed page 16 of 18 in Services_Agreement_-_Datakind_-_JJC_-_2022.02.15_AF_JD_Redacted\n",
      "huggingface/tokenizers: The current process just got forked, after parallelism has already been used. Disabling parallelism to avoid deadlocks...\n",
      "To disable this warning, you can either:\n",
      "\t- Avoid using `tokenizers` before the fork if possible\n",
      "\t- Explicitly set the environment variable TOKENIZERS_PARALLELISM=(true | false)\n",
      "  - Processed page 17 of 18 in Services_Agreement_-_Datakind_-_JJC_-_2022.02.15_AF_JD_Redacted\n",
      "huggingface/tokenizers: The current process just got forked, after parallelism has already been used. Disabling parallelism to avoid deadlocks...\n",
      "To disable this warning, you can either:\n",
      "\t- Avoid using `tokenizers` before the fork if possible\n",
      "\t- Explicitly set the environment variable TOKENIZERS_PARALLELISM=(true | false)\n",
      "  - Processed page 18 of 18 in Services_Agreement_-_Datakind_-_JJC_-_2022.02.15_AF_JD_Redacted\n",
      "Finished processing Services_Agreement_-_Datakind_-_JJC_-_2022.02.15_AF_JD_Redacted\n",
      "\n",
      "All PDFs have been processed.\n",
      "Processing PDF 1 of 1: DataKind_Inc-Consulting_Agreement_for_Professional_Services_Fully_Executed_Redacted\n",
      "huggingface/tokenizers: The current process just got forked, after parallelism has already been used. Disabling parallelism to avoid deadlocks...\n",
      "To disable this warning, you can either:\n",
      "\t- Avoid using `tokenizers` before the fork if possible\n",
      "\t- Explicitly set the environment variable TOKENIZERS_PARALLELISM=(true | false)\n",
      "  - Processed page 1 of 14 in DataKind_Inc-Consulting_Agreement_for_Professional_Services_Fully_Executed_Redacted\n",
      "huggingface/tokenizers: The current process just got forked, after parallelism has already been used. Disabling parallelism to avoid deadlocks...\n",
      "To disable this warning, you can either:\n",
      "\t- Avoid using `tokenizers` before the fork if possible\n",
      "\t- Explicitly set the environment variable TOKENIZERS_PARALLELISM=(true | false)\n",
      "  - Processed page 2 of 14 in DataKind_Inc-Consulting_Agreement_for_Professional_Services_Fully_Executed_Redacted\n",
      "huggingface/tokenizers: The current process just got forked, after parallelism has already been used. Disabling parallelism to avoid deadlocks...\n",
      "To disable this warning, you can either:\n",
      "\t- Avoid using `tokenizers` before the fork if possible\n",
      "\t- Explicitly set the environment variable TOKENIZERS_PARALLELISM=(true | false)\n",
      "  - Processed page 3 of 14 in DataKind_Inc-Consulting_Agreement_for_Professional_Services_Fully_Executed_Redacted\n",
      "huggingface/tokenizers: The current process just got forked, after parallelism has already been used. Disabling parallelism to avoid deadlocks...\n",
      "To disable this warning, you can either:\n",
      "\t- Avoid using `tokenizers` before the fork if possible\n",
      "\t- Explicitly set the environment variable TOKENIZERS_PARALLELISM=(true | false)\n",
      "  - Processed page 4 of 14 in DataKind_Inc-Consulting_Agreement_for_Professional_Services_Fully_Executed_Redacted\n",
      "huggingface/tokenizers: The current process just got forked, after parallelism has already been used. Disabling parallelism to avoid deadlocks...\n",
      "To disable this warning, you can either:\n",
      "\t- Avoid using `tokenizers` before the fork if possible\n",
      "\t- Explicitly set the environment variable TOKENIZERS_PARALLELISM=(true | false)\n",
      "  - Processed page 5 of 14 in DataKind_Inc-Consulting_Agreement_for_Professional_Services_Fully_Executed_Redacted\n",
      "huggingface/tokenizers: The current process just got forked, after parallelism has already been used. Disabling parallelism to avoid deadlocks...\n",
      "To disable this warning, you can either:\n",
      "\t- Avoid using `tokenizers` before the fork if possible\n",
      "\t- Explicitly set the environment variable TOKENIZERS_PARALLELISM=(true | false)\n",
      "  - Processed page 6 of 14 in DataKind_Inc-Consulting_Agreement_for_Professional_Services_Fully_Executed_Redacted\n",
      "huggingface/tokenizers: The current process just got forked, after parallelism has already been used. Disabling parallelism to avoid deadlocks...\n",
      "To disable this warning, you can either:\n",
      "\t- Avoid using `tokenizers` before the fork if possible\n",
      "\t- Explicitly set the environment variable TOKENIZERS_PARALLELISM=(true | false)\n",
      "  - Processed page 7 of 14 in DataKind_Inc-Consulting_Agreement_for_Professional_Services_Fully_Executed_Redacted\n",
      "huggingface/tokenizers: The current process just got forked, after parallelism has already been used. Disabling parallelism to avoid deadlocks...\n",
      "To disable this warning, you can either:\n",
      "\t- Avoid using `tokenizers` before the fork if possible\n",
      "\t- Explicitly set the environment variable TOKENIZERS_PARALLELISM=(true | false)\n",
      "  - Processed page 8 of 14 in DataKind_Inc-Consulting_Agreement_for_Professional_Services_Fully_Executed_Redacted\n",
      "huggingface/tokenizers: The current process just got forked, after parallelism has already been used. Disabling parallelism to avoid deadlocks...\n",
      "To disable this warning, you can either:\n",
      "\t- Avoid using `tokenizers` before the fork if possible\n",
      "\t- Explicitly set the environment variable TOKENIZERS_PARALLELISM=(true | false)\n",
      "  - Processed page 9 of 14 in DataKind_Inc-Consulting_Agreement_for_Professional_Services_Fully_Executed_Redacted\n",
      "huggingface/tokenizers: The current process just got forked, after parallelism has already been used. Disabling parallelism to avoid deadlocks...\n",
      "To disable this warning, you can either:\n",
      "\t- Avoid using `tokenizers` before the fork if possible\n",
      "\t- Explicitly set the environment variable TOKENIZERS_PARALLELISM=(true | false)\n",
      "  - Processed page 10 of 14 in DataKind_Inc-Consulting_Agreement_for_Professional_Services_Fully_Executed_Redacted\n",
      "huggingface/tokenizers: The current process just got forked, after parallelism has already been used. Disabling parallelism to avoid deadlocks...\n",
      "To disable this warning, you can either:\n",
      "\t- Avoid using `tokenizers` before the fork if possible\n",
      "\t- Explicitly set the environment variable TOKENIZERS_PARALLELISM=(true | false)\n",
      "  - Processed page 11 of 14 in DataKind_Inc-Consulting_Agreement_for_Professional_Services_Fully_Executed_Redacted\n",
      "huggingface/tokenizers: The current process just got forked, after parallelism has already been used. Disabling parallelism to avoid deadlocks...\n",
      "To disable this warning, you can either:\n",
      "\t- Avoid using `tokenizers` before the fork if possible\n",
      "\t- Explicitly set the environment variable TOKENIZERS_PARALLELISM=(true | false)\n",
      "  - Processed page 12 of 14 in DataKind_Inc-Consulting_Agreement_for_Professional_Services_Fully_Executed_Redacted\n",
      "huggingface/tokenizers: The current process just got forked, after parallelism has already been used. Disabling parallelism to avoid deadlocks...\n",
      "To disable this warning, you can either:\n",
      "\t- Avoid using `tokenizers` before the fork if possible\n",
      "\t- Explicitly set the environment variable TOKENIZERS_PARALLELISM=(true | false)\n",
      "  - Processed page 13 of 14 in DataKind_Inc-Consulting_Agreement_for_Professional_Services_Fully_Executed_Redacted\n",
      "huggingface/tokenizers: The current process just got forked, after parallelism has already been used. Disabling parallelism to avoid deadlocks...\n",
      "To disable this warning, you can either:\n",
      "\t- Avoid using `tokenizers` before the fork if possible\n",
      "\t- Explicitly set the environment variable TOKENIZERS_PARALLELISM=(true | false)\n",
      "  - Processed page 14 of 14 in DataKind_Inc-Consulting_Agreement_for_Professional_Services_Fully_Executed_Redacted\n",
      "Finished processing DataKind_Inc-Consulting_Agreement_for_Professional_Services_Fully_Executed_Redacted\n",
      "\n",
      "All PDFs have been processed.\n",
      "Processing PDF 1 of 1: DataKind_-_JJC_Mutual_NDA_Fully_Signed_Redacted\n",
      "huggingface/tokenizers: The current process just got forked, after parallelism has already been used. Disabling parallelism to avoid deadlocks...\n",
      "To disable this warning, you can either:\n",
      "\t- Avoid using `tokenizers` before the fork if possible\n",
      "\t- Explicitly set the environment variable TOKENIZERS_PARALLELISM=(true | false)\n",
      "  - Processed page 1 of 4 in DataKind_-_JJC_Mutual_NDA_Fully_Signed_Redacted\n",
      "huggingface/tokenizers: The current process just got forked, after parallelism has already been used. Disabling parallelism to avoid deadlocks...\n",
      "To disable this warning, you can either:\n",
      "\t- Avoid using `tokenizers` before the fork if possible\n",
      "\t- Explicitly set the environment variable TOKENIZERS_PARALLELISM=(true | false)\n",
      "  - Processed page 2 of 4 in DataKind_-_JJC_Mutual_NDA_Fully_Signed_Redacted\n",
      "huggingface/tokenizers: The current process just got forked, after parallelism has already been used. Disabling parallelism to avoid deadlocks...\n",
      "To disable this warning, you can either:\n",
      "\t- Avoid using `tokenizers` before the fork if possible\n",
      "\t- Explicitly set the environment variable TOKENIZERS_PARALLELISM=(true | false)\n",
      "  - Processed page 3 of 4 in DataKind_-_JJC_Mutual_NDA_Fully_Signed_Redacted\n",
      "huggingface/tokenizers: The current process just got forked, after parallelism has already been used. Disabling parallelism to avoid deadlocks...\n",
      "To disable this warning, you can either:\n",
      "\t- Avoid using `tokenizers` before the fork if possible\n",
      "\t- Explicitly set the environment variable TOKENIZERS_PARALLELISM=(true | false)\n",
      "  - Processed page 4 of 4 in DataKind_-_JJC_Mutual_NDA_Fully_Signed_Redacted\n",
      "Finished processing DataKind_-_JJC_Mutual_NDA_Fully_Signed_Redacted\n",
      "\n",
      "All PDFs have been processed.\n",
      "Processing PDF 1 of 1: DataKindAgreements_\n",
      "huggingface/tokenizers: The current process just got forked, after parallelism has already been used. Disabling parallelism to avoid deadlocks...\n",
      "To disable this warning, you can either:\n",
      "\t- Avoid using `tokenizers` before the fork if possible\n",
      "\t- Explicitly set the environment variable TOKENIZERS_PARALLELISM=(true | false)\n",
      "  - Processed page 1 of 47 in DataKindAgreements_\n",
      "huggingface/tokenizers: The current process just got forked, after parallelism has already been used. Disabling parallelism to avoid deadlocks...\n",
      "To disable this warning, you can either:\n",
      "\t- Avoid using `tokenizers` before the fork if possible\n",
      "\t- Explicitly set the environment variable TOKENIZERS_PARALLELISM=(true | false)\n",
      "  - Processed page 2 of 47 in DataKindAgreements_\n",
      "huggingface/tokenizers: The current process just got forked, after parallelism has already been used. Disabling parallelism to avoid deadlocks...\n",
      "To disable this warning, you can either:\n",
      "\t- Avoid using `tokenizers` before the fork if possible\n",
      "\t- Explicitly set the environment variable TOKENIZERS_PARALLELISM=(true | false)\n",
      "  - Processed page 3 of 47 in DataKindAgreements_\n",
      "huggingface/tokenizers: The current process just got forked, after parallelism has already been used. Disabling parallelism to avoid deadlocks...\n",
      "To disable this warning, you can either:\n",
      "\t- Avoid using `tokenizers` before the fork if possible\n",
      "\t- Explicitly set the environment variable TOKENIZERS_PARALLELISM=(true | false)\n",
      "  - Processed page 4 of 47 in DataKindAgreements_\n",
      "huggingface/tokenizers: The current process just got forked, after parallelism has already been used. Disabling parallelism to avoid deadlocks...\n",
      "To disable this warning, you can either:\n",
      "\t- Avoid using `tokenizers` before the fork if possible\n",
      "\t- Explicitly set the environment variable TOKENIZERS_PARALLELISM=(true | false)\n",
      "  - Processed page 5 of 47 in DataKindAgreements_\n",
      "huggingface/tokenizers: The current process just got forked, after parallelism has already been used. Disabling parallelism to avoid deadlocks...\n",
      "To disable this warning, you can either:\n",
      "\t- Avoid using `tokenizers` before the fork if possible\n",
      "\t- Explicitly set the environment variable TOKENIZERS_PARALLELISM=(true | false)\n",
      "  - Processed page 6 of 47 in DataKindAgreements_\n",
      "huggingface/tokenizers: The current process just got forked, after parallelism has already been used. Disabling parallelism to avoid deadlocks...\n",
      "To disable this warning, you can either:\n",
      "\t- Avoid using `tokenizers` before the fork if possible\n",
      "\t- Explicitly set the environment variable TOKENIZERS_PARALLELISM=(true | false)\n",
      "  - Processed page 7 of 47 in DataKindAgreements_\n",
      "huggingface/tokenizers: The current process just got forked, after parallelism has already been used. Disabling parallelism to avoid deadlocks...\n",
      "To disable this warning, you can either:\n",
      "\t- Avoid using `tokenizers` before the fork if possible\n",
      "\t- Explicitly set the environment variable TOKENIZERS_PARALLELISM=(true | false)\n",
      "  - Processed page 8 of 47 in DataKindAgreements_\n",
      "huggingface/tokenizers: The current process just got forked, after parallelism has already been used. Disabling parallelism to avoid deadlocks...\n",
      "To disable this warning, you can either:\n",
      "\t- Avoid using `tokenizers` before the fork if possible\n",
      "\t- Explicitly set the environment variable TOKENIZERS_PARALLELISM=(true | false)\n",
      "  - Processed page 9 of 47 in DataKindAgreements_\n",
      "huggingface/tokenizers: The current process just got forked, after parallelism has already been used. Disabling parallelism to avoid deadlocks...\n",
      "To disable this warning, you can either:\n",
      "\t- Avoid using `tokenizers` before the fork if possible\n",
      "\t- Explicitly set the environment variable TOKENIZERS_PARALLELISM=(true | false)\n",
      "  - Processed page 10 of 47 in DataKindAgreements_\n",
      "huggingface/tokenizers: The current process just got forked, after parallelism has already been used. Disabling parallelism to avoid deadlocks...\n",
      "To disable this warning, you can either:\n",
      "\t- Avoid using `tokenizers` before the fork if possible\n",
      "\t- Explicitly set the environment variable TOKENIZERS_PARALLELISM=(true | false)\n",
      "  - Processed page 11 of 47 in DataKindAgreements_\n",
      "huggingface/tokenizers: The current process just got forked, after parallelism has already been used. Disabling parallelism to avoid deadlocks...\n",
      "To disable this warning, you can either:\n",
      "\t- Avoid using `tokenizers` before the fork if possible\n",
      "\t- Explicitly set the environment variable TOKENIZERS_PARALLELISM=(true | false)\n",
      "  - Processed page 12 of 47 in DataKindAgreements_\n",
      "huggingface/tokenizers: The current process just got forked, after parallelism has already been used. Disabling parallelism to avoid deadlocks...\n",
      "To disable this warning, you can either:\n",
      "\t- Avoid using `tokenizers` before the fork if possible\n",
      "\t- Explicitly set the environment variable TOKENIZERS_PARALLELISM=(true | false)\n",
      "  - Processed page 13 of 47 in DataKindAgreements_\n",
      "huggingface/tokenizers: The current process just got forked, after parallelism has already been used. Disabling parallelism to avoid deadlocks...\n",
      "To disable this warning, you can either:\n",
      "\t- Avoid using `tokenizers` before the fork if possible\n",
      "\t- Explicitly set the environment variable TOKENIZERS_PARALLELISM=(true | false)\n",
      "  - Processed page 14 of 47 in DataKindAgreements_\n",
      "huggingface/tokenizers: The current process just got forked, after parallelism has already been used. Disabling parallelism to avoid deadlocks...\n",
      "To disable this warning, you can either:\n",
      "\t- Avoid using `tokenizers` before the fork if possible\n",
      "\t- Explicitly set the environment variable TOKENIZERS_PARALLELISM=(true | false)\n",
      "  - Processed page 15 of 47 in DataKindAgreements_\n",
      "huggingface/tokenizers: The current process just got forked, after parallelism has already been used. Disabling parallelism to avoid deadlocks...\n",
      "To disable this warning, you can either:\n",
      "\t- Avoid using `tokenizers` before the fork if possible\n",
      "\t- Explicitly set the environment variable TOKENIZERS_PARALLELISM=(true | false)\n",
      "  - Processed page 16 of 47 in DataKindAgreements_\n",
      "huggingface/tokenizers: The current process just got forked, after parallelism has already been used. Disabling parallelism to avoid deadlocks...\n",
      "To disable this warning, you can either:\n",
      "\t- Avoid using `tokenizers` before the fork if possible\n",
      "\t- Explicitly set the environment variable TOKENIZERS_PARALLELISM=(true | false)\n",
      "  - Processed page 17 of 47 in DataKindAgreements_\n",
      "huggingface/tokenizers: The current process just got forked, after parallelism has already been used. Disabling parallelism to avoid deadlocks...\n",
      "To disable this warning, you can either:\n",
      "\t- Avoid using `tokenizers` before the fork if possible\n",
      "\t- Explicitly set the environment variable TOKENIZERS_PARALLELISM=(true | false)\n",
      "  - Processed page 18 of 47 in DataKindAgreements_\n",
      "huggingface/tokenizers: The current process just got forked, after parallelism has already been used. Disabling parallelism to avoid deadlocks...\n",
      "To disable this warning, you can either:\n",
      "\t- Avoid using `tokenizers` before the fork if possible\n",
      "\t- Explicitly set the environment variable TOKENIZERS_PARALLELISM=(true | false)\n",
      "  - Processed page 19 of 47 in DataKindAgreements_\n",
      "huggingface/tokenizers: The current process just got forked, after parallelism has already been used. Disabling parallelism to avoid deadlocks...\n",
      "To disable this warning, you can either:\n",
      "\t- Avoid using `tokenizers` before the fork if possible\n",
      "\t- Explicitly set the environment variable TOKENIZERS_PARALLELISM=(true | false)\n",
      "  - Processed page 20 of 47 in DataKindAgreements_\n",
      "huggingface/tokenizers: The current process just got forked, after parallelism has already been used. Disabling parallelism to avoid deadlocks...\n",
      "To disable this warning, you can either:\n",
      "\t- Avoid using `tokenizers` before the fork if possible\n",
      "\t- Explicitly set the environment variable TOKENIZERS_PARALLELISM=(true | false)\n",
      "  - Processed page 21 of 47 in DataKindAgreements_\n",
      "huggingface/tokenizers: The current process just got forked, after parallelism has already been used. Disabling parallelism to avoid deadlocks...\n",
      "To disable this warning, you can either:\n",
      "\t- Avoid using `tokenizers` before the fork if possible\n",
      "\t- Explicitly set the environment variable TOKENIZERS_PARALLELISM=(true | false)\n",
      "  - Processed page 22 of 47 in DataKindAgreements_\n",
      "huggingface/tokenizers: The current process just got forked, after parallelism has already been used. Disabling parallelism to avoid deadlocks...\n",
      "To disable this warning, you can either:\n",
      "\t- Avoid using `tokenizers` before the fork if possible\n",
      "\t- Explicitly set the environment variable TOKENIZERS_PARALLELISM=(true | false)\n",
      "  - Processed page 23 of 47 in DataKindAgreements_\n",
      "huggingface/tokenizers: The current process just got forked, after parallelism has already been used. Disabling parallelism to avoid deadlocks...\n",
      "To disable this warning, you can either:\n",
      "\t- Avoid using `tokenizers` before the fork if possible\n",
      "\t- Explicitly set the environment variable TOKENIZERS_PARALLELISM=(true | false)\n",
      "  - Processed page 24 of 47 in DataKindAgreements_\n",
      "huggingface/tokenizers: The current process just got forked, after parallelism has already been used. Disabling parallelism to avoid deadlocks...\n",
      "To disable this warning, you can either:\n",
      "\t- Avoid using `tokenizers` before the fork if possible\n",
      "\t- Explicitly set the environment variable TOKENIZERS_PARALLELISM=(true | false)\n",
      "  - Processed page 25 of 47 in DataKindAgreements_\n",
      "huggingface/tokenizers: The current process just got forked, after parallelism has already been used. Disabling parallelism to avoid deadlocks...\n",
      "To disable this warning, you can either:\n",
      "\t- Avoid using `tokenizers` before the fork if possible\n",
      "\t- Explicitly set the environment variable TOKENIZERS_PARALLELISM=(true | false)\n",
      "  - Processed page 26 of 47 in DataKindAgreements_\n",
      "huggingface/tokenizers: The current process just got forked, after parallelism has already been used. Disabling parallelism to avoid deadlocks...\n",
      "To disable this warning, you can either:\n",
      "\t- Avoid using `tokenizers` before the fork if possible\n",
      "\t- Explicitly set the environment variable TOKENIZERS_PARALLELISM=(true | false)\n",
      "  - Processed page 27 of 47 in DataKindAgreements_\n",
      "huggingface/tokenizers: The current process just got forked, after parallelism has already been used. Disabling parallelism to avoid deadlocks...\n",
      "To disable this warning, you can either:\n",
      "\t- Avoid using `tokenizers` before the fork if possible\n",
      "\t- Explicitly set the environment variable TOKENIZERS_PARALLELISM=(true | false)\n",
      "  - Processed page 28 of 47 in DataKindAgreements_\n",
      "huggingface/tokenizers: The current process just got forked, after parallelism has already been used. Disabling parallelism to avoid deadlocks...\n",
      "To disable this warning, you can either:\n",
      "\t- Avoid using `tokenizers` before the fork if possible\n",
      "\t- Explicitly set the environment variable TOKENIZERS_PARALLELISM=(true | false)\n",
      "  - Processed page 29 of 47 in DataKindAgreements_\n",
      "huggingface/tokenizers: The current process just got forked, after parallelism has already been used. Disabling parallelism to avoid deadlocks...\n",
      "To disable this warning, you can either:\n",
      "\t- Avoid using `tokenizers` before the fork if possible\n",
      "\t- Explicitly set the environment variable TOKENIZERS_PARALLELISM=(true | false)\n",
      "  - Processed page 30 of 47 in DataKindAgreements_\n",
      "huggingface/tokenizers: The current process just got forked, after parallelism has already been used. Disabling parallelism to avoid deadlocks...\n",
      "To disable this warning, you can either:\n",
      "\t- Avoid using `tokenizers` before the fork if possible\n",
      "\t- Explicitly set the environment variable TOKENIZERS_PARALLELISM=(true | false)\n",
      "  - Processed page 31 of 47 in DataKindAgreements_\n",
      "huggingface/tokenizers: The current process just got forked, after parallelism has already been used. Disabling parallelism to avoid deadlocks...\n",
      "To disable this warning, you can either:\n",
      "\t- Avoid using `tokenizers` before the fork if possible\n",
      "\t- Explicitly set the environment variable TOKENIZERS_PARALLELISM=(true | false)\n",
      "  - Processed page 32 of 47 in DataKindAgreements_\n",
      "huggingface/tokenizers: The current process just got forked, after parallelism has already been used. Disabling parallelism to avoid deadlocks...\n",
      "To disable this warning, you can either:\n",
      "\t- Avoid using `tokenizers` before the fork if possible\n",
      "\t- Explicitly set the environment variable TOKENIZERS_PARALLELISM=(true | false)\n",
      "  - Processed page 33 of 47 in DataKindAgreements_\n",
      "huggingface/tokenizers: The current process just got forked, after parallelism has already been used. Disabling parallelism to avoid deadlocks...\n",
      "To disable this warning, you can either:\n",
      "\t- Avoid using `tokenizers` before the fork if possible\n",
      "\t- Explicitly set the environment variable TOKENIZERS_PARALLELISM=(true | false)\n",
      "  - Processed page 34 of 47 in DataKindAgreements_\n",
      "huggingface/tokenizers: The current process just got forked, after parallelism has already been used. Disabling parallelism to avoid deadlocks...\n",
      "To disable this warning, you can either:\n",
      "\t- Avoid using `tokenizers` before the fork if possible\n",
      "\t- Explicitly set the environment variable TOKENIZERS_PARALLELISM=(true | false)\n",
      "  - Processed page 35 of 47 in DataKindAgreements_\n",
      "huggingface/tokenizers: The current process just got forked, after parallelism has already been used. Disabling parallelism to avoid deadlocks...\n",
      "To disable this warning, you can either:\n",
      "\t- Avoid using `tokenizers` before the fork if possible\n",
      "\t- Explicitly set the environment variable TOKENIZERS_PARALLELISM=(true | false)\n",
      "  - Processed page 36 of 47 in DataKindAgreements_\n",
      "huggingface/tokenizers: The current process just got forked, after parallelism has already been used. Disabling parallelism to avoid deadlocks...\n",
      "To disable this warning, you can either:\n",
      "\t- Avoid using `tokenizers` before the fork if possible\n",
      "\t- Explicitly set the environment variable TOKENIZERS_PARALLELISM=(true | false)\n",
      "  - Processed page 37 of 47 in DataKindAgreements_\n",
      "huggingface/tokenizers: The current process just got forked, after parallelism has already been used. Disabling parallelism to avoid deadlocks...\n",
      "To disable this warning, you can either:\n",
      "\t- Avoid using `tokenizers` before the fork if possible\n",
      "\t- Explicitly set the environment variable TOKENIZERS_PARALLELISM=(true | false)\n",
      "  - Processed page 38 of 47 in DataKindAgreements_\n",
      "huggingface/tokenizers: The current process just got forked, after parallelism has already been used. Disabling parallelism to avoid deadlocks...\n",
      "To disable this warning, you can either:\n",
      "\t- Avoid using `tokenizers` before the fork if possible\n",
      "\t- Explicitly set the environment variable TOKENIZERS_PARALLELISM=(true | false)\n",
      "  - Processed page 39 of 47 in DataKindAgreements_\n",
      "huggingface/tokenizers: The current process just got forked, after parallelism has already been used. Disabling parallelism to avoid deadlocks...\n",
      "To disable this warning, you can either:\n",
      "\t- Avoid using `tokenizers` before the fork if possible\n",
      "\t- Explicitly set the environment variable TOKENIZERS_PARALLELISM=(true | false)\n",
      "  - Processed page 40 of 47 in DataKindAgreements_\n",
      "huggingface/tokenizers: The current process just got forked, after parallelism has already been used. Disabling parallelism to avoid deadlocks...\n",
      "To disable this warning, you can either:\n",
      "\t- Avoid using `tokenizers` before the fork if possible\n",
      "\t- Explicitly set the environment variable TOKENIZERS_PARALLELISM=(true | false)\n",
      "  - Processed page 41 of 47 in DataKindAgreements_\n",
      "huggingface/tokenizers: The current process just got forked, after parallelism has already been used. Disabling parallelism to avoid deadlocks...\n",
      "To disable this warning, you can either:\n",
      "\t- Avoid using `tokenizers` before the fork if possible\n",
      "\t- Explicitly set the environment variable TOKENIZERS_PARALLELISM=(true | false)\n",
      "  - Processed page 42 of 47 in DataKindAgreements_\n",
      "huggingface/tokenizers: The current process just got forked, after parallelism has already been used. Disabling parallelism to avoid deadlocks...\n",
      "To disable this warning, you can either:\n",
      "\t- Avoid using `tokenizers` before the fork if possible\n",
      "\t- Explicitly set the environment variable TOKENIZERS_PARALLELISM=(true | false)\n",
      "  - Processed page 43 of 47 in DataKindAgreements_\n",
      "huggingface/tokenizers: The current process just got forked, after parallelism has already been used. Disabling parallelism to avoid deadlocks...\n",
      "To disable this warning, you can either:\n",
      "\t- Avoid using `tokenizers` before the fork if possible\n",
      "\t- Explicitly set the environment variable TOKENIZERS_PARALLELISM=(true | false)\n",
      "  - Processed page 44 of 47 in DataKindAgreements_\n",
      "huggingface/tokenizers: The current process just got forked, after parallelism has already been used. Disabling parallelism to avoid deadlocks...\n",
      "To disable this warning, you can either:\n",
      "\t- Avoid using `tokenizers` before the fork if possible\n",
      "\t- Explicitly set the environment variable TOKENIZERS_PARALLELISM=(true | false)\n",
      "  - Processed page 45 of 47 in DataKindAgreements_\n",
      "huggingface/tokenizers: The current process just got forked, after parallelism has already been used. Disabling parallelism to avoid deadlocks...\n",
      "To disable this warning, you can either:\n",
      "\t- Avoid using `tokenizers` before the fork if possible\n",
      "\t- Explicitly set the environment variable TOKENIZERS_PARALLELISM=(true | false)\n",
      "  - Processed page 46 of 47 in DataKindAgreements_\n",
      "huggingface/tokenizers: The current process just got forked, after parallelism has already been used. Disabling parallelism to avoid deadlocks...\n",
      "To disable this warning, you can either:\n",
      "\t- Avoid using `tokenizers` before the fork if possible\n",
      "\t- Explicitly set the environment variable TOKENIZERS_PARALLELISM=(true | false)\n",
      "  - Processed page 47 of 47 in DataKindAgreements_\n",
      "Finished processing DataKindAgreements_\n",
      "\n",
      "All PDFs have been processed.\n",
      "Processing PDF 1 of 1: 20230325777\n"
     ]
    },
    {
     "name": "stderr",
     "output_type": "stream",
     "text": [
      "/Users/Julian/anaconda3/lib/python3.11/site-packages/PIL/Image.py:3186: DecompressionBombWarning: Image size (146671250 pixels) exceeds limit of 89478485 pixels, could be decompression bomb DOS attack.\n",
      "  warnings.warn(\n"
     ]
    },
    {
     "name": "stdout",
     "output_type": "stream",
     "text": [
      "huggingface/tokenizers: The current process just got forked, after parallelism has already been used. Disabling parallelism to avoid deadlocks...\n",
      "To disable this warning, you can either:\n",
      "\t- Avoid using `tokenizers` before the fork if possible\n",
      "\t- Explicitly set the environment variable TOKENIZERS_PARALLELISM=(true | false)\n",
      "  - Processed page 1 of 13 in 20230325777\n"
     ]
    },
    {
     "name": "stderr",
     "output_type": "stream",
     "text": [
      "/Users/Julian/anaconda3/lib/python3.11/site-packages/PIL/Image.py:3186: DecompressionBombWarning: Image size (146671250 pixels) exceeds limit of 89478485 pixels, could be decompression bomb DOS attack.\n",
      "  warnings.warn(\n"
     ]
    },
    {
     "name": "stdout",
     "output_type": "stream",
     "text": [
      "huggingface/tokenizers: The current process just got forked, after parallelism has already been used. Disabling parallelism to avoid deadlocks...\n",
      "To disable this warning, you can either:\n",
      "\t- Avoid using `tokenizers` before the fork if possible\n",
      "\t- Explicitly set the environment variable TOKENIZERS_PARALLELISM=(true | false)\n",
      "  - Processed page 2 of 13 in 20230325777\n"
     ]
    },
    {
     "name": "stderr",
     "output_type": "stream",
     "text": [
      "/Users/Julian/anaconda3/lib/python3.11/site-packages/PIL/Image.py:3186: DecompressionBombWarning: Image size (146671250 pixels) exceeds limit of 89478485 pixels, could be decompression bomb DOS attack.\n",
      "  warnings.warn(\n"
     ]
    },
    {
     "name": "stdout",
     "output_type": "stream",
     "text": [
      "huggingface/tokenizers: The current process just got forked, after parallelism has already been used. Disabling parallelism to avoid deadlocks...\n",
      "To disable this warning, you can either:\n",
      "\t- Avoid using `tokenizers` before the fork if possible\n",
      "\t- Explicitly set the environment variable TOKENIZERS_PARALLELISM=(true | false)\n",
      "  - Processed page 3 of 13 in 20230325777\n"
     ]
    },
    {
     "name": "stderr",
     "output_type": "stream",
     "text": [
      "/Users/Julian/anaconda3/lib/python3.11/site-packages/PIL/Image.py:3186: DecompressionBombWarning: Image size (146671250 pixels) exceeds limit of 89478485 pixels, could be decompression bomb DOS attack.\n",
      "  warnings.warn(\n"
     ]
    },
    {
     "name": "stdout",
     "output_type": "stream",
     "text": [
      "huggingface/tokenizers: The current process just got forked, after parallelism has already been used. Disabling parallelism to avoid deadlocks...\n",
      "To disable this warning, you can either:\n",
      "\t- Avoid using `tokenizers` before the fork if possible\n",
      "\t- Explicitly set the environment variable TOKENIZERS_PARALLELISM=(true | false)\n",
      "  - Processed page 4 of 13 in 20230325777\n"
     ]
    },
    {
     "name": "stderr",
     "output_type": "stream",
     "text": [
      "/Users/Julian/anaconda3/lib/python3.11/site-packages/PIL/Image.py:3186: DecompressionBombWarning: Image size (146671250 pixels) exceeds limit of 89478485 pixels, could be decompression bomb DOS attack.\n",
      "  warnings.warn(\n"
     ]
    },
    {
     "name": "stdout",
     "output_type": "stream",
     "text": [
      "huggingface/tokenizers: The current process just got forked, after parallelism has already been used. Disabling parallelism to avoid deadlocks...\n",
      "To disable this warning, you can either:\n",
      "\t- Avoid using `tokenizers` before the fork if possible\n",
      "\t- Explicitly set the environment variable TOKENIZERS_PARALLELISM=(true | false)\n",
      "  - Processed page 5 of 13 in 20230325777\n"
     ]
    },
    {
     "name": "stderr",
     "output_type": "stream",
     "text": [
      "/Users/Julian/anaconda3/lib/python3.11/site-packages/PIL/Image.py:3186: DecompressionBombWarning: Image size (146671250 pixels) exceeds limit of 89478485 pixels, could be decompression bomb DOS attack.\n",
      "  warnings.warn(\n"
     ]
    },
    {
     "name": "stdout",
     "output_type": "stream",
     "text": [
      "huggingface/tokenizers: The current process just got forked, after parallelism has already been used. Disabling parallelism to avoid deadlocks...\n",
      "To disable this warning, you can either:\n",
      "\t- Avoid using `tokenizers` before the fork if possible\n",
      "\t- Explicitly set the environment variable TOKENIZERS_PARALLELISM=(true | false)\n",
      "  - Processed page 6 of 13 in 20230325777\n"
     ]
    },
    {
     "name": "stderr",
     "output_type": "stream",
     "text": [
      "/Users/Julian/anaconda3/lib/python3.11/site-packages/PIL/Image.py:3186: DecompressionBombWarning: Image size (146671250 pixels) exceeds limit of 89478485 pixels, could be decompression bomb DOS attack.\n",
      "  warnings.warn(\n"
     ]
    },
    {
     "name": "stdout",
     "output_type": "stream",
     "text": [
      "huggingface/tokenizers: The current process just got forked, after parallelism has already been used. Disabling parallelism to avoid deadlocks...\n",
      "To disable this warning, you can either:\n",
      "\t- Avoid using `tokenizers` before the fork if possible\n",
      "\t- Explicitly set the environment variable TOKENIZERS_PARALLELISM=(true | false)\n",
      "  - Processed page 7 of 13 in 20230325777\n"
     ]
    },
    {
     "name": "stderr",
     "output_type": "stream",
     "text": [
      "/Users/Julian/anaconda3/lib/python3.11/site-packages/PIL/Image.py:3186: DecompressionBombWarning: Image size (146671250 pixels) exceeds limit of 89478485 pixels, could be decompression bomb DOS attack.\n",
      "  warnings.warn(\n"
     ]
    },
    {
     "name": "stdout",
     "output_type": "stream",
     "text": [
      "huggingface/tokenizers: The current process just got forked, after parallelism has already been used. Disabling parallelism to avoid deadlocks...\n",
      "To disable this warning, you can either:\n",
      "\t- Avoid using `tokenizers` before the fork if possible\n",
      "\t- Explicitly set the environment variable TOKENIZERS_PARALLELISM=(true | false)\n",
      "  - Processed page 8 of 13 in 20230325777\n"
     ]
    },
    {
     "name": "stderr",
     "output_type": "stream",
     "text": [
      "/Users/Julian/anaconda3/lib/python3.11/site-packages/PIL/Image.py:3186: DecompressionBombWarning: Image size (146671250 pixels) exceeds limit of 89478485 pixels, could be decompression bomb DOS attack.\n",
      "  warnings.warn(\n"
     ]
    },
    {
     "name": "stdout",
     "output_type": "stream",
     "text": [
      "huggingface/tokenizers: The current process just got forked, after parallelism has already been used. Disabling parallelism to avoid deadlocks...\n",
      "To disable this warning, you can either:\n",
      "\t- Avoid using `tokenizers` before the fork if possible\n",
      "\t- Explicitly set the environment variable TOKENIZERS_PARALLELISM=(true | false)\n",
      "  - Processed page 9 of 13 in 20230325777\n"
     ]
    },
    {
     "name": "stderr",
     "output_type": "stream",
     "text": [
      "/Users/Julian/anaconda3/lib/python3.11/site-packages/PIL/Image.py:3186: DecompressionBombWarning: Image size (146671250 pixels) exceeds limit of 89478485 pixels, could be decompression bomb DOS attack.\n",
      "  warnings.warn(\n"
     ]
    },
    {
     "name": "stdout",
     "output_type": "stream",
     "text": [
      "huggingface/tokenizers: The current process just got forked, after parallelism has already been used. Disabling parallelism to avoid deadlocks...\n",
      "To disable this warning, you can either:\n",
      "\t- Avoid using `tokenizers` before the fork if possible\n",
      "\t- Explicitly set the environment variable TOKENIZERS_PARALLELISM=(true | false)\n",
      "  - Processed page 10 of 13 in 20230325777\n"
     ]
    },
    {
     "name": "stderr",
     "output_type": "stream",
     "text": [
      "/Users/Julian/anaconda3/lib/python3.11/site-packages/PIL/Image.py:3186: DecompressionBombWarning: Image size (146671250 pixels) exceeds limit of 89478485 pixels, could be decompression bomb DOS attack.\n",
      "  warnings.warn(\n"
     ]
    },
    {
     "name": "stdout",
     "output_type": "stream",
     "text": [
      "huggingface/tokenizers: The current process just got forked, after parallelism has already been used. Disabling parallelism to avoid deadlocks...\n",
      "To disable this warning, you can either:\n",
      "\t- Avoid using `tokenizers` before the fork if possible\n",
      "\t- Explicitly set the environment variable TOKENIZERS_PARALLELISM=(true | false)\n",
      "  - Processed page 11 of 13 in 20230325777\n"
     ]
    },
    {
     "name": "stderr",
     "output_type": "stream",
     "text": [
      "/Users/Julian/anaconda3/lib/python3.11/site-packages/PIL/Image.py:3186: DecompressionBombWarning: Image size (146671250 pixels) exceeds limit of 89478485 pixels, could be decompression bomb DOS attack.\n",
      "  warnings.warn(\n"
     ]
    },
    {
     "name": "stdout",
     "output_type": "stream",
     "text": [
      "huggingface/tokenizers: The current process just got forked, after parallelism has already been used. Disabling parallelism to avoid deadlocks...\n",
      "To disable this warning, you can either:\n",
      "\t- Avoid using `tokenizers` before the fork if possible\n",
      "\t- Explicitly set the environment variable TOKENIZERS_PARALLELISM=(true | false)\n",
      "  - Processed page 12 of 13 in 20230325777\n"
     ]
    },
    {
     "name": "stderr",
     "output_type": "stream",
     "text": [
      "/Users/Julian/anaconda3/lib/python3.11/site-packages/PIL/Image.py:3186: DecompressionBombWarning: Image size (146671250 pixels) exceeds limit of 89478485 pixels, could be decompression bomb DOS attack.\n",
      "  warnings.warn(\n"
     ]
    },
    {
     "name": "stdout",
     "output_type": "stream",
     "text": [
      "huggingface/tokenizers: The current process just got forked, after parallelism has already been used. Disabling parallelism to avoid deadlocks...\n",
      "To disable this warning, you can either:\n",
      "\t- Avoid using `tokenizers` before the fork if possible\n",
      "\t- Explicitly set the environment variable TOKENIZERS_PARALLELISM=(true | false)\n",
      "  - Processed page 13 of 13 in 20230325777\n",
      "Finished processing 20230325777\n",
      "\n",
      "All PDFs have been processed.\n",
      "Processing PDF 1 of 1: R008763_invoice\n",
      "huggingface/tokenizers: The current process just got forked, after parallelism has already been used. Disabling parallelism to avoid deadlocks...\n",
      "To disable this warning, you can either:\n",
      "\t- Avoid using `tokenizers` before the fork if possible\n",
      "\t- Explicitly set the environment variable TOKENIZERS_PARALLELISM=(true | false)\n",
      "  - Processed page 1 of 1 in R008763_invoice\n",
      "Finished processing R008763_invoice\n",
      "\n",
      "All PDFs have been processed.\n",
      "Processing PDF 1 of 1: R008763\n",
      "huggingface/tokenizers: The current process just got forked, after parallelism has already been used. Disabling parallelism to avoid deadlocks...\n",
      "To disable this warning, you can either:\n",
      "\t- Avoid using `tokenizers` before the fork if possible\n",
      "\t- Explicitly set the environment variable TOKENIZERS_PARALLELISM=(true | false)\n",
      "  - Processed page 1 of 5 in R008763\n",
      "huggingface/tokenizers: The current process just got forked, after parallelism has already been used. Disabling parallelism to avoid deadlocks...\n",
      "To disable this warning, you can either:\n",
      "\t- Avoid using `tokenizers` before the fork if possible\n",
      "\t- Explicitly set the environment variable TOKENIZERS_PARALLELISM=(true | false)\n",
      "  - Processed page 2 of 5 in R008763\n",
      "huggingface/tokenizers: The current process just got forked, after parallelism has already been used. Disabling parallelism to avoid deadlocks...\n",
      "To disable this warning, you can either:\n",
      "\t- Avoid using `tokenizers` before the fork if possible\n",
      "\t- Explicitly set the environment variable TOKENIZERS_PARALLELISM=(true | false)\n",
      "  - Processed page 3 of 5 in R008763\n",
      "huggingface/tokenizers: The current process just got forked, after parallelism has already been used. Disabling parallelism to avoid deadlocks...\n",
      "To disable this warning, you can either:\n",
      "\t- Avoid using `tokenizers` before the fork if possible\n",
      "\t- Explicitly set the environment variable TOKENIZERS_PARALLELISM=(true | false)\n",
      "  - Processed page 4 of 5 in R008763\n",
      "huggingface/tokenizers: The current process just got forked, after parallelism has already been used. Disabling parallelism to avoid deadlocks...\n",
      "To disable this warning, you can either:\n",
      "\t- Avoid using `tokenizers` before the fork if possible\n",
      "\t- Explicitly set the environment variable TOKENIZERS_PARALLELISM=(true | false)\n",
      "  - Processed page 5 of 5 in R008763\n",
      "Finished processing R008763\n",
      "\n",
      "All PDFs have been processed.\n"
     ]
    }
   ],
   "source": [
    "nlp = spacy.load(\"en_core_web_trf\")\n",
    "\n",
    "for pdf_file in DataKind_pdfs:\n",
    "    text = pdf2image_ocr_text(pdf_file)\n",
    "    # Process extracted text with spaCy\n",
    "    doc = nlp(text)\n",
    "    # Create df for entities\n",
    "    entities = [(ent.text, ent.label_) for ent in doc.ents]\n",
    "    entities_df = pd.DataFrame(entities, columns=[\"text\", \"label\"])\n",
    "    # Create df for dependencies\n",
    "    dependencies = [(token.text, token.dep_, token.head.text) for token in doc]\n",
    "    dependencies_df = pd.DataFrame(dependencies, columns=[\"token\", \"dep\", \"head\"])\n",
    "    # Save dfs to files\n",
    "    entities_df.to_csv(f\"{pdf_file}_entities.csv\", index=False)\n",
    "    dependencies_df.to_csv(f\"{pdf_file}_dependencies.csv\", index=False)\n",
    "\n",
    "for pdf_file in StudentSelect_pdfs:\n",
    "    text = pdf2image_ocr_text(pdf_file)\n",
    "    # Process extracted text with spaCy\n",
    "    doc = nlp(text)\n",
    "    # Create df for entities\n",
    "    entities = [(ent.text, ent.label_) for ent in doc.ents]\n",
    "    entities_df = pd.DataFrame(entities, columns=[\"text\", \"label\"])\n",
    "    # Create df for dependencies\n",
    "    dependencies = [(token.text, token.dep_, token.head.text) for token in doc]\n",
    "    dependencies_df = pd.DataFrame(dependencies, columns=[\"token\", \"dep\", \"head\"])\n",
    "    # Save dfs to files\n",
    "    entities_df.to_csv(f\"{pdf_file}_entities.csv\", index=False)\n",
    "    dependencies_df.to_csv(f\"{pdf_file}_dependencies.csv\", index=False)"
   ]
  },
  {
   "cell_type": "code",
   "execution_count": null,
   "id": "d55b9b49-a108-4410-97f9-44c779d415b4",
   "metadata": {},
   "outputs": [],
   "source": []
  }
 ],
 "metadata": {
  "kernelspec": {
   "display_name": "Python 3 (ipykernel)",
   "language": "python",
   "name": "python3"
  },
  "language_info": {
   "codemirror_mode": {
    "name": "ipython",
    "version": 3
   },
   "file_extension": ".py",
   "mimetype": "text/x-python",
   "name": "python",
   "nbconvert_exporter": "python",
   "pygments_lexer": "ipython3",
   "version": "3.11.8"
  }
 },
 "nbformat": 4,
 "nbformat_minor": 5
}
